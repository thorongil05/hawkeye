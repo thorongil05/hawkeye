{
  "nbformat": 4,
  "nbformat_minor": 0,
  "metadata": {
    "colab": {
      "name": "index_creation.ipynb",
      "provenance": [],
      "collapsed_sections": []
    },
    "kernelspec": {
      "display_name": "Python 3",
      "name": "python3"
    }
  },
  "cells": [
    {
      "cell_type": "code",
      "metadata": {
        "colab": {
          "base_uri": "https://localhost:8080/"
        },
        "id": "i6H2rcrVSh3E",
        "outputId": "2ac380af-51c5-49b2-f809-285136971964"
      },
      "source": [
        "from google.colab import drive\n",
        "drive.mount('/content/gdrive')"
      ],
      "execution_count": 49,
      "outputs": [
        {
          "output_type": "stream",
          "text": [
            "Drive already mounted at /content/gdrive; to attempt to forcibly remount, call drive.mount(\"/content/gdrive\", force_remount=True).\n"
          ],
          "name": "stdout"
        }
      ]
    },
    {
      "cell_type": "markdown",
      "metadata": {
        "id": "qA_mRGwuUMiP"
      },
      "source": [
        "## Initialization"
      ]
    },
    {
      "cell_type": "code",
      "metadata": {
        "id": "dr1ZrF1AUR8f"
      },
      "source": [
        "import numpy as np\n",
        "import random\n",
        "from scipy.spatial import distance as d\n",
        "import os\n",
        "import math\n",
        "import pandas as pd\n",
        "import time\n",
        "import json\n",
        "import PIL\n",
        "\n",
        "TEST_DIR = '/content/gdrive/My Drive/test-folder/'\n",
        "\n",
        "LEAF_FOLDER = '/content/gdrive/My Drive/[MIRCV]FoodWebSearch/antonio-tests'\n",
        "\n",
        "TEST_FILE_1 = os.path.join(TEST_DIR, \"test-tree-construction-data.npy\")\n",
        "TEST_FILE_2 = os.path.join(TEST_DIR, \"test-tree-construction-data-2.npy\")\n",
        "TEST_FILE_3 = os.path.join(TEST_DIR, \"test-tree-construction-data-3.npy\")\n",
        "\n",
        "\n",
        "TEST_PATH = \"/content/gdrive/My Drive/[MIRCV]FoodWebSearch/antonio-tests\"\n",
        "\n",
        "FEATURES_PATH = \"/content/gdrive/My Drive/[MIRCV]FoodWebSearch/features.csv\"\n",
        "FEATURES_PATH_TEST_1 = \"/content/gdrive/My Drive/[MIRCV]FoodWebSearch/antonio-tests/features-test-1.npy\"\n",
        "FEATURES_NAMES_TEST_1 = \"/content/gdrive/My Drive/[MIRCV]FoodWebSearch/antonio-tests/features-names-test-1.npy\"\n",
        "\n",
        "FEATURES_PATH_TEST_2 = \"/content/gdrive/My Drive/[MIRCV]FoodWebSearch/antonio-tests/features-test-2.npy\"\n",
        "FEATURES_NAMES_TEST_2 = \"/content/gdrive/My Drive/[MIRCV]FoodWebSearch/antonio-tests/features-names-test-2.npy\"\n",
        "\n",
        "FEATURES_PATH_TEST_3 = \"/content/gdrive/My Drive/[MIRCV]FoodWebSearch/antonio-tests/features-test-3.npy\"\n",
        "FEATURES_NAMES_TEST_3 = \"/content/gdrive/My Drive/[MIRCV]FoodWebSearch/antonio-tests/features-names-test-3.npy\"\n",
        "\n",
        "\n",
        "ID_DEPLOYMENT = \"/content/gdrive/MyDrive/[MIRCV]FoodWebSearch/id.npy\"\n",
        "FEATURES_DEPLOYMENT = \"/content/gdrive/MyDrive/[MIRCV]FoodWebSearch/features.npy\"\n",
        "\n",
        "FINE_TUNED_ID = '/content/gdrive/MyDrive/[MIRCV]FoodWebSearch/deployment/ft_id.npy'\n",
        "FINE_TUNED_FEATURES = '/content/gdrive/MyDrive/[MIRCV]FoodWebSearch/deployment/ft_features.npy'\n",
        "\n",
        "MN_ID = '/content/gdrive/MyDrive/[MIRCV]FoodWebSearch/deployment/mn_id.npy'\n",
        "MN_FEATURES = '/content/gdrive/MyDrive/[MIRCV]FoodWebSearch/deployment/mn_features.npy'\n",
        "\n",
        "INDEX_DIR = \"/content/gdrive/MyDrive/[MIRCV]FoodWebSearch/deployment\"\n",
        "\n",
        "DATA_PATH = \"/content/gdrive/MyDrive/food-distractor-dataset/food-101\"\n",
        "\n",
        "# Display results\n",
        "def display_results(results):\n",
        "  for filename, distance in results:\n",
        "    print('File: {} - Distance: {:.6f}'.format(filename, distance))\n",
        "    filepath = os.path.join(DATA_PATH,filename)\n",
        "    image = PIL.Image.open(filepath)\n",
        "    image.thumbnail((224,224))\n",
        "    display(image)"
      ],
      "execution_count": 50,
      "outputs": []
    },
    {
      "cell_type": "markdown",
      "metadata": {
        "id": "--Pgf1ZoQfCf"
      },
      "source": [
        "# Create Tree Data Structure"
      ]
    },
    {
      "cell_type": "markdown",
      "metadata": {
        "id": "odU0xysW3kUr"
      },
      "source": [
        "##The Node\n",
        "The class Node represents a node in the tree. \n",
        "We can have two types of nodes:\n",
        "- internal node\n",
        "- leaf node\n",
        "\n",
        "All the nodes have an id, in order to store the tree on disk, preserving its structure.\n",
        "\n",
        "####Internal Node\n",
        "In the case of an internal node, the class has the following parameters:\n",
        "- reference to the right child\n",
        "- reference to the left child\n",
        "- the value of the node, it's the pivot in this application: a numpy array that represent a point in the space\n",
        "- the median: the value of the median is computed on the sorted distances between the pivot and the other values of the set\n",
        "\n",
        "####Leaf Node\n",
        "\n",
        "In the case of a leaf node, the class has the following fields:\n",
        "- the pivot\n",
        "- the median\n",
        "- reference to the file in which are stored the objects on the left\n",
        "- reference to the file in which are stored the objects on the right\n",
        "\n",
        "### Distances\n",
        "The choice of the distances in this VPTree is very important because in the case of a lot of dimensions (e.g. hundreds of dimensions like in this case) the euclidean distance is not the right choice:\n",
        "- it's very influeced by the number of dimensions in the number of overlapping regions created\n",
        "- it's not suitable in the case of input features not normalized\n",
        "\n",
        "With Cosine similarity, the results they are slightly better: with the same height and the same number of data, the file accessed are less. Anyway, the overlapping regions remains still a lot.\n",
        "The VP_Tree class provides the possibility to choose between this two kind of distances.\n",
        "\n",
        "Trials has been done also with Hamming distance:\n",
        "- the number of file visited is very small\n",
        "- the speed is very high\n",
        "- the results are not so accurate.\n"
      ]
    },
    {
      "cell_type": "code",
      "metadata": {
        "id": "0h9Hb7EB3MoC"
      },
      "source": [
        "class NumpyEncoder(json.JSONEncoder):\n",
        "    def default(self, obj):\n",
        "        if isinstance(obj, np.ndarray):\n",
        "            return obj.tolist()\n",
        "        if isinstance(obj, None):\n",
        "            return \"\"\n",
        "        return json.JSONEncoder.default(self, obj)"
      ],
      "execution_count": 51,
      "outputs": []
    },
    {
      "cell_type": "code",
      "metadata": {
        "id": "SIhDImrBQnjj"
      },
      "source": [
        "class Node:\n",
        "\n",
        "  def __init__(self, id, is_leaf, **kwargs):\n",
        "    self.parent = kwargs.get(\"parent\", None)\n",
        "    self.id = id\n",
        "    self.is_leaf = is_leaf\n",
        "    self.pivot = kwargs.get(\"pivot\", None)\n",
        "    self.median = kwargs.get(\"median\", -1)\n",
        "    if self.is_leaf:\n",
        "      self.objects = kwargs.get(\"objects\", [])\n",
        "      self.file_path_s_1, self.file_path_s_2 = \"\", \"\"\n",
        "    else:\n",
        "      self.right = kwargs.get(\"right\", None)\n",
        "      self.left = kwargs.get(\"left\", None)\n",
        "\n",
        "  def set_parameters(self, pivot, median):\n",
        "    self.pivot = pivot\n",
        "    self.median = median\n",
        "\n",
        "  def add_children(self, left, right):\n",
        "    self.left = left\n",
        "    self.right = right\n",
        "\n",
        "  def add_objects(self, s_1, s_2):\n",
        "    self.objects_left = s_1\n",
        "    self.objects_right = s_2\n",
        "\n",
        "  def save_leaf_objects_on_disk(self, file_path, s_1, s_2):\n",
        "    self.file_path_s_1 = file_path + \"_subset_1.npy\"\n",
        "    self.file_path_s_2 = file_path + \"_subset_2.npy\"\n",
        "    np.save(self.file_path_s_1, np.array(s_1, dtype=object))\n",
        "    np.save(self.file_path_s_2, np.array(s_2, dtype=object))\n",
        "\n",
        "  def load_objects_from_disk(self, left=True, right=True):\n",
        "    if left and not right:\n",
        "      result = np.load(self.file_path_s_1, allow_pickle=True)\n",
        "      return result\n",
        "    if right and not left:\n",
        "      result = np.load(self.file_path_s_1, allow_pickle=True)\n",
        "      return result\n",
        "    s_1 = np.load(self.file_path_s_1, allow_pickle=True)\n",
        "    s_2 = np.load(self.file_path_s_2, allow_pickle=True)\n",
        "    result = np.concatenate((s_1, s_2))\n",
        "    return result\n",
        "\n",
        "  def get_node_name(self):\n",
        "    return self.id"
      ],
      "execution_count": 52,
      "outputs": []
    },
    {
      "cell_type": "markdown",
      "metadata": {
        "id": "BFLASx_e6gk5"
      },
      "source": [
        "##The Vantage Point Tree\n",
        "The Vantage Point Tree is modeled as a class, that provides us the methods to:\n",
        "- create the tree from a dataset\n",
        "- search the k-nearest neighbors objects, given a query\n",
        "- print the tree<br>\n",
        "\n",
        "All these methods are based on recursion.<br>\n",
        "The Vantage Point Tree can be created in two modes:\n",
        "1. Test mode: in order to test the tree on very small datasets\n",
        "2. Disk mode: in this mode we can handle very huge datasets, by storing the objects on disk and keeping in the tree just the reference to the files\n",
        "\n",
        "### Save Tree on disk\n",
        "\n",
        "The save method use the recursion. For each node, a json element is created, each element contains:\n",
        "- node id\n",
        "- boolean to recognize a leaf\n",
        "- the pivot as numpy array\n",
        "\n",
        "If we deal with an internal node, we have:\n",
        "- left child id\n",
        "- right child id\n",
        "\n",
        "On the other hand, the leaf node has:\n",
        "- path of the file containing the objects on the left\n",
        "- path of the file containing the objects on the right\n",
        "\n",
        "At the end we will have a json array, each entry represents a node.\n",
        "This json is saved on disk.\n",
        "\n",
        "### Load Tree from disk\n",
        "\n",
        "The load method works in the opposite way with respect to save. \n",
        "It also uses recursion:\n",
        "1. the algorithm loads and deserializes the json\n",
        "2. it finds the node in the json array using the id (node has id \"0\")\n",
        "3. it builds a node object from the json\n",
        "4. it finds the left child through the left child id in the entry\n",
        "5. it finds the right child through the right child id in the entry\n",
        "6. it builds the nodes recursively until it reaches the leaves"
      ]
    },
    {
      "cell_type": "code",
      "metadata": {
        "id": "SnXmnTbIUgsC"
      },
      "source": [
        "class VP_Tree:\n",
        "\n",
        "  def __init__(self, index_name, height, disk_mode=True, leaves_path=None, use_similarity=False):\n",
        "    \"\"\"by default the tree is built with euclidean distance and the leaves are saved on disk, \n",
        "    use_similarity=True allows you to use the cosine similarity\n",
        "    use disk_mode=False if you want to keep all the tree in memory(not suggested for huge data)\"\"\"\n",
        "    self.root = None\n",
        "    self.index_name = index_name\n",
        "    self.height = height #to review\n",
        "    self.disk_mode = disk_mode\n",
        "    self.leaves_path = leaves_path\n",
        "    self.use_similarity=use_similarity\n",
        "    self.distance_computed = 0\n",
        "    self.file_accessed = 0\n",
        "    self.file_created = 0\n",
        "\n",
        "  def create_vptree(self, names_path, features_path):\n",
        "    start = time.time()\n",
        "    data = VP_Tree.read_data(names_path, features_path)\n",
        "    n = len(data)\n",
        "    print(\"Number of data:\", n)\n",
        "    max_height = math.floor(math.log(n,2)-1)\n",
        "    print(\"The max height of the tree is:\", max_height)\n",
        "    if self.height > max_height: self.height = max_height\n",
        "    self.distance_computed = 0\n",
        "    #take 1 pivot randomly and set pivot as root\n",
        "    self.root, s_1, s_2 = self.partition_by_median(data)\n",
        "    print(\"Tree is building\")\n",
        "    self.create_tree_level(self.root, s_1, s_2, 1)\n",
        "    end = time.time()\n",
        "    print(\"Building of the tree completed in:\", end-start, \"s\")\n",
        "  \n",
        "  def create_tree_level(self, node, s_1, s_2, iteration):\n",
        "      is_leaf = iteration + 1 >= self.height\n",
        "      left_node, s_1_left, s_2_left = self.partition_by_median(s_1, parent=node,is_left=True, is_leaf=is_leaf)\n",
        "      right_node, s_1_right, s_2_right = self.partition_by_median(s_2, parent=node,is_left=False, is_leaf=is_leaf)\n",
        "      node.add_children(right_node, left_node)\n",
        "      if iteration + 1 < self.height:\n",
        "        self.create_tree_level(left_node, s_1_left, s_2_left, iteration + 1)\n",
        "        self.create_tree_level(right_node, s_1_right, s_2_right, iteration + 1)\n",
        "      else:\n",
        "        if self.disk_mode:\n",
        "          left_path = self.get_leaves_path(left_node.get_node_name())\n",
        "          right_path = self.get_leaves_path(right_node.get_node_name())\n",
        "          left_node.save_leaf_objects_on_disk(left_path, s_1_left, s_2_left)\n",
        "          right_node.save_leaf_objects_on_disk(right_path, s_1_right, s_2_right)\n",
        "        else:\n",
        "          left_node.add_objects(s_1_left, s_2_left)\n",
        "          right_node.add_objects(s_1_right, s_2_right)\n",
        "\n",
        "  def partition_by_median(self, data, parent=None,is_left=False,is_leaf=False):\n",
        "    pivot_index = random.choice(range(len(data)))\n",
        "    pivot = data[pivot_index]\n",
        "    del data[pivot_index]\n",
        "    #compute all the distances\n",
        "    distances = np.array([self.compute_distance(pivot[1],element[1]) for element in data])\n",
        "    #sort the distances\n",
        "    zipped_data_distances = sorted(zip(data, distances), key= lambda x:x[1])\n",
        "    ordered_data, distances = zip(*zipped_data_distances)\n",
        "    median = np.median(distances)\n",
        "    #get the median\n",
        "    s_1 = [element for element, distance in zipped_data_distances if distance <= median]\n",
        "    s_2 = [element for element, distance in zipped_data_distances if distance >= median]\n",
        "    #update node\n",
        "    if parent == None:\n",
        "      node = Node(id=\"0\", is_leaf=is_leaf, pivot=pivot, median=median)\n",
        "    else:\n",
        "      node_id = parent.id + str(0 if is_left else 1)\n",
        "      node = Node(node_id, is_leaf=is_leaf, pivot=pivot, median=median)\n",
        "    return node, s_1, s_2\n",
        "\n",
        "  def save_vptree(file_path, tree):\n",
        "    if not os.path.exists(file_path): os.mkdir(file_path)\n",
        "    file = os.path.join(file_path, tree.index_name + '.json')\n",
        "    if os.path.exists(file):\n",
        "      os.remove(file)\n",
        "    with open(file, 'a') as json_file:\n",
        "      index_json = {\"index\": tree.index_name, \"nodes\":[], \n",
        "                    \"height\":tree.height, \"use_similarity\": tree.use_similarity}\n",
        "      VP_Tree.save_node(tree.root, index_json)\n",
        "      vp_tree_json = json.dumps(index_json, cls=NumpyEncoder)\n",
        "      json_file.write(vp_tree_json)\n",
        "      print(\"File saved correctly in:\", file)\n",
        "    return file\n",
        "  \n",
        "  def save_node(node, index_json):\n",
        "    if node.is_leaf:\n",
        "        row_json={\"is_leaf\":True, \n",
        "                    \"id\":node.id,\n",
        "                    \"pivot\" : node.pivot,\n",
        "                    \"median\":node.median, \n",
        "                    \"left_file\":node.file_path_s_1, \n",
        "                    \"right_file\":node.file_path_s_2}\n",
        "        index_json[\"nodes\"].append(row_json)\n",
        "    else:\n",
        "        row_json={\"is_leaf\":False,\n",
        "                  \"id\":node.id, \n",
        "                  \"pivot\": node.pivot,\n",
        "                  \"median\": node.median,\n",
        "                  \"right_child\":node.right.id,\n",
        "                  \"left_child\":node.left.id}\n",
        "        index_json[\"nodes\"].append(row_json)\n",
        "        VP_Tree.save_node(node.left, index_json)\n",
        "        VP_Tree.save_node(node.right,index_json)\n",
        "    return\n",
        "\n",
        "  def load_vptree(path):\n",
        "    if not os.path.exists:\n",
        "      print(\"the path do not exist\")\n",
        "      return None\n",
        "    entry_list=[]\n",
        "    with open(path,'r', encoding='utf-8') as f:\n",
        "      json_tree = json.load(f)\n",
        "      entry_list=json_tree[\"nodes\"]\n",
        "    root_node=VP_Tree.parse_node('0',entry_list)\n",
        "    index_name = json_tree[\"index\"]\n",
        "    height = json_tree[\"height\"]\n",
        "    use_similarity = json_tree.get(\"use_similarity\", False)\n",
        "    vp_tree = VP_Tree(index_name=index_name,height=height,leaves_path=path, \n",
        "                      use_similarity=use_similarity)\n",
        "    vp_tree.root = root_node\n",
        "    print(\"Tree loaded correctly\")\n",
        "    return vp_tree\n",
        "\n",
        "  def parse_node(id, nodes):\n",
        "    node_json = None\n",
        "    for element in nodes:\n",
        "      if element[\"id\"]==id:\n",
        "        node_json = element\n",
        "    node=Node(id=node_json[\"id\"], is_leaf=node_json[\"is_leaf\"], \n",
        "              pivot=node_json[\"pivot\"], median=node_json[\"median\"])\n",
        "    if (node.is_leaf):\n",
        "      node.file_path_s_1=node_json[\"left_file\"]\n",
        "      node.file_path_s_2=node_json[\"right_file\"]\n",
        "    else:\n",
        "      right=VP_Tree.parse_node(node_json[\"right_child\"],nodes)\n",
        "      left=VP_Tree.parse_node(node_json[\"left_child\"],nodes)\n",
        "      node.add_children(left, right)\n",
        "    return node\n",
        "\n",
        "  def knn_search(self, k, query):\n",
        "    start = time.time()\n",
        "    nn = [None for i in range(k)]\n",
        "    d_nn = [math.inf for i in range(k)]\n",
        "    self.distance_computed = 0\n",
        "    self.file_accessed = 0\n",
        "    nn, d_nn = self.search_subtree(self.root, nn, d_nn, k, query)\n",
        "    end = time.time()\n",
        "    print(\"Query answered in\", end-start, \" s\")\n",
        "    return self.reorder_list_on_distances(nn, d_nn, desc=False)\n",
        "\n",
        "  def search_subtree(self, node, nn, d_nn, k, query):\n",
        "    pivot, median = node.pivot, node.median\n",
        "    distance = self.compute_distance(pivot[1], query)\n",
        "    if distance < d_nn[0]:\n",
        "      d_nn[0] = distance\n",
        "      nn[0] = pivot\n",
        "      nn, d_nn = self.reorder_list_on_distances(nn, d_nn)\n",
        "    if node.is_leaf:\n",
        "      return self.search_in_leaf(node, nn, d_nn, k, query)\n",
        "    if distance - d_nn[0] <= median:\n",
        "      nn, d_nn = self.search_subtree(node.left, nn, d_nn, k, query)\n",
        "    if distance + d_nn[0] >= median:\n",
        "      nn, d_nn = self.search_subtree(node.right, nn, d_nn, k, query)\n",
        "    return nn, d_nn\n",
        "\n",
        "  def search_in_leaf(self, node, nn, d_nn, k, query):\n",
        "    objects = []\n",
        "    distance_pivot = self.compute_distance(node.pivot[1], query)\n",
        "    left, right = False, False\n",
        "    if self.disk_mode:\n",
        "      if distance_pivot - d_nn[0] <= node.median: \n",
        "        left = True\n",
        "        self.file_accessed = self.file_accessed + 1\n",
        "      if distance_pivot + d_nn[0] >= node.median: \n",
        "        right = True\n",
        "        self.file_accessed = self.file_accessed + 1\n",
        "      objects = node.load_objects_from_disk(left=left, right=right)\n",
        "    else:\n",
        "      objects = node.objects_left + node.objects_right\n",
        "    for obj in objects:\n",
        "      distance = self.compute_distance(obj[1], query)\n",
        "      if distance < d_nn[0]:\n",
        "        nn[0] = obj\n",
        "        d_nn[0] = distance\n",
        "        nn, d_nn = self.reorder_list_on_distances(nn, d_nn)\n",
        "    return nn, d_nn\n",
        "\n",
        "  def reorder_list_on_distances(self, nn, d_nn, desc=True):\n",
        "      zipped = sorted(zip(nn, d_nn), key= lambda x:x[1], reverse=desc)\n",
        "      nn, d_nn = zip(*zipped)\n",
        "      return list(nn), list(d_nn)\n",
        "\n",
        "  def print_tree(node, level, disk_mode=True):\n",
        "    indentation = \"\\n\" + str(level * \"\\t\")\n",
        "    response = \"id: \" + node.id + \" \" + str(node.pivot)\n",
        "    if node.is_leaf:\n",
        "      if disk_mode: \n",
        "        response += indentation + str(node.file_path_s_1)\n",
        "        response += indentation + str(node.file_path_s_2)\n",
        "      else:\n",
        "        response += indentation + str(node.objects_left)\n",
        "        response += indentation + str(node.objects_right)\n",
        "      return response\n",
        "    response += indentation + VP_Tree.print_tree(node=node.right, level=level+1, disk_mode=disk_mode)\n",
        "    response += indentation + VP_Tree.print_tree(node=node.left, level=level+1, disk_mode=disk_mode)\n",
        "    return response\n",
        "\n",
        "  def get_leaves_path(self, file_name):\n",
        "    if not self.leaves_path is None:\n",
        "      directory = os.path.join(self.leaves_path, self.index_name)\n",
        "    else: directory = os.path.join(LEAF_FOLDER, self.index_name)\n",
        "    if not os.path.exists(directory):\n",
        "      os.mkdir(directory)\n",
        "      print(\"directory created\", directory)\n",
        "    leaves_directory = os.path.join(directory, \"leaves_\"+ str(self.height))\n",
        "    if not os.path.exists(leaves_directory):\n",
        "      os.mkdir(leaves_directory)\n",
        "    return os.path.join(leaves_directory, file_name)\n",
        "\n",
        "  def compute_distance(self, a, b):\n",
        "    self.distance_computed = self.distance_computed + 1\n",
        "    if self.use_similarity:\n",
        "      return 1 - np.dot(a,b)/(np.linalg.norm(a)*np.linalg.norm(b))\n",
        "    return d.euclidean(a,b)\n",
        "\n",
        "  def read_data(file_path_names, file_path_features):\n",
        "    names = np.load(file_path_names)\n",
        "    features = np.load(file_path_features)\n",
        "    return [(name, feature) for name, feature in zip(names, features)]"
      ],
      "execution_count": 75,
      "outputs": []
    },
    {
      "cell_type": "markdown",
      "metadata": {
        "id": "_uqx0bmMrNGl"
      },
      "source": [
        "#Deployment"
      ]
    },
    {
      "cell_type": "markdown",
      "metadata": {
        "id": "mIxp7mY7sECX"
      },
      "source": [
        "## Index MN\n",
        "This index has been created on the features extracted from Mobile Net"
      ]
    },
    {
      "cell_type": "code",
      "metadata": {
        "id": "og1n-0H5rSrM",
        "colab": {
          "base_uri": "https://localhost:8080/"
        },
        "outputId": "fdc6e54e-c58f-443a-ea4c-c55a40966bf9"
      },
      "source": [
        "if __name__ == '__main__':\n",
        "  vantage_point_tree = VP_Tree(\"index_mn\",height=10, disk_mode=True, leaves_path=INDEX_DIR)\n",
        "  vantage_point_tree.create_vptree(MN_ID, MN_FEATURES)\n",
        "\n",
        "  index_name = vantage_point_tree.index_name\n",
        "  dest_folder = os.path.join(INDEX_DIR, index_name)\n",
        "  print(\"Destination Folder: \", dest_folder)\n",
        "\n",
        "  VP_Tree.save_vptree(dest_folder,vantage_point_tree)"
      ],
      "execution_count": 54,
      "outputs": [
        {
          "output_type": "stream",
          "text": [
            "Number of data: 126000\n",
            "The max height of the tree is: 15\n",
            "Tree is building\n",
            "directory created /content/gdrive/MyDrive/[MIRCV]FoodWebSearch/deployment/index_mn\n",
            "Building of the tree completed in: 43.80826139450073 s\n",
            "Destination Folder:  /content/gdrive/MyDrive/[MIRCV]FoodWebSearch/deployment/index_mn\n",
            "File saved correctly in: /content/gdrive/MyDrive/[MIRCV]FoodWebSearch/deployment/index_mn/index_mn.json\n"
          ],
          "name": "stdout"
        }
      ]
    },
    {
      "cell_type": "code",
      "metadata": {
        "colab": {
          "base_uri": "https://localhost:8080/"
        },
        "id": "Vw6gopS-pEWA",
        "outputId": "61064071-aa26-4398-a341-2498cd508cd9"
      },
      "source": [
        "if __name__ == '__main__':\n",
        "  dest_folder = os.path.join(INDEX_DIR, \"index_mn/index_mn.json\")\n",
        "  vantage_point_tree = VP_Tree.load_vptree(dest_folder)\n",
        "  query = vantage_point_tree.root.pivot[1]\n",
        "  print(vantage_point_tree.root.pivot[0])\n",
        "  start = time.time()\n",
        "  nn, d_nn = vantage_point_tree.knn_search(k=10, query=query)\n",
        "  end = time.time()\n",
        "  print(\"Results:\", [element[0] for element in nn])\n",
        "  print(\"Ricerca effettuata in:\", end - start, \"s\")\n",
        "  print(\"Distance Computed:\", vantage_point_tree.distance_computed)\n",
        "  print(\"File Accessed:\", vantage_point_tree.file_accessed)\n",
        "  print(d_nn)"
      ],
      "execution_count": 60,
      "outputs": [
        {
          "output_type": "stream",
          "text": [
            "Tree loaded correctly\n",
            "991981.jpg\n",
            "Query answered in 14.962364912033081  s\n",
            "Results: ['991981.jpg', '432.jpg', '3696219.jpg', '2736144.jpg', '6201.jpg', '3345953.jpg', '3191742.jpg', '887401.jpg', '2909040.jpg', '3703331.jpg']\n",
            "Ricerca effettuata in: 14.965189933776855 s\n",
            "Distance Computed: 127487\n",
            "File Accessed: 1024\n",
            "[0.0, 17.095823399802523, 17.616884059335675, 18.024046354297713, 18.399501334960966, 18.84149145474033, 18.92051482612357, 18.948681193998965, 19.000750232911894, 19.044412773054002]\n"
          ],
          "name": "stdout"
        }
      ]
    },
    {
      "cell_type": "markdown",
      "metadata": {
        "id": "Jar0skz-sPsx"
      },
      "source": [
        "## Index Fine Tuned\n",
        "This index has been created on the features extracted from the fine tuned deep network."
      ]
    },
    {
      "cell_type": "code",
      "metadata": {
        "colab": {
          "base_uri": "https://localhost:8080/"
        },
        "id": "FAOZuyvBsSkj",
        "outputId": "2ed544fc-8950-4a7c-f36d-c64e200fb420"
      },
      "source": [
        "if __name__ == '__main__':\n",
        "  vantage_point_tree = VP_Tree(\"index_fine_tuned\",height=10, disk_mode=True, leaves_path=INDEX_DIR)\n",
        "  vantage_point_tree.create_vptree(FINE_TUNED_ID, FINE_TUNED_FEATURES)\n",
        "\n",
        "  index_name = vantage_point_tree.index_name\n",
        "  dest_folder = os.path.join(INDEX_DIR, index_name)\n",
        "  print(\"Destination Folder: \", dest_folder)\n",
        "\n",
        "  VP_Tree.save_vptree(dest_folder,vantage_point_tree)"
      ],
      "execution_count": 56,
      "outputs": [
        {
          "output_type": "stream",
          "text": [
            "Number of data: 126000\n",
            "The max height of the tree is: 15\n",
            "Tree is building\n",
            "directory created /content/gdrive/MyDrive/[MIRCV]FoodWebSearch/deployment/index_fine_tuned\n",
            "Building of the tree completed in: 33.848634481430054 s\n",
            "Destination Folder:  /content/gdrive/MyDrive/[MIRCV]FoodWebSearch/deployment/index_fine_tuned\n",
            "File saved correctly in: /content/gdrive/MyDrive/[MIRCV]FoodWebSearch/deployment/index_fine_tuned/index_fine_tuned.json\n"
          ],
          "name": "stdout"
        }
      ]
    },
    {
      "cell_type": "code",
      "metadata": {
        "colab": {
          "base_uri": "https://localhost:8080/"
        },
        "id": "5WuI5YBMsoXe",
        "outputId": "49798ca4-6b23-4cb5-dad7-ddae169964ab"
      },
      "source": [
        "if __name__ == '__main__':\n",
        "  dest_folder = os.path.join(INDEX_DIR, \"index_fine_tuned/index_fine_tuned.json\")\n",
        "  vantage_point_tree = VP_Tree.load_vptree(dest_folder)\n",
        "  query = vantage_point_tree.root.pivot[1]\n",
        "  print(vantage_point_tree.root.pivot[0])\n",
        "  start = time.time()\n",
        "  nn, d_nn = vantage_point_tree.knn_search(k=10, query=query)\n",
        "  end = time.time()\n",
        "  print(\"Results:\", [element[0] for element in nn])\n",
        "  print(\"Ricerca effettuata in:\", end - start, \"s\")\n",
        "  print(\"Distance Computed:\", vantage_point_tree.distance_computed)\n",
        "  print(\"File Accessed:\", vantage_point_tree.file_accessed)"
      ],
      "execution_count": 61,
      "outputs": [
        {
          "output_type": "stream",
          "text": [
            "Tree loaded correctly\n",
            "2719211.jpg\n",
            "Query answered in 7.290550708770752  s\n",
            "Results: ['2719211.jpg', '2400419.jpg', '1029917.jpg', '1029917.jpg', '2971476.jpg', '620631.jpg', '2268565.jpg', '1165903.jpg', '828774.jpg', '1881276.jpg']\n",
            "Ricerca effettuata in: 7.295640707015991 s\n",
            "Distance Computed: 127487\n",
            "File Accessed: 1024\n"
          ],
          "name": "stdout"
        }
      ]
    }
  ]
}