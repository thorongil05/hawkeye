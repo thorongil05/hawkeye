{
  "nbformat": 4,
  "nbformat_minor": 0,
  "metadata": {
    "colab": {
      "name": "index-creation.ipynb",
      "provenance": [],
      "collapsed_sections": []
    },
    "kernelspec": {
      "display_name": "Python 3",
      "name": "python3"
    }
  },
  "cells": [
    {
      "cell_type": "code",
      "metadata": {
        "colab": {
          "base_uri": "https://localhost:8080/"
        },
        "id": "i6H2rcrVSh3E",
        "outputId": "98c8d97f-b396-4796-b983-12f4b292eb7c"
      },
      "source": [
        "from google.colab import drive\n",
        "drive.mount('/content/gdrive')"
      ],
      "execution_count": null,
      "outputs": [
        {
          "output_type": "stream",
          "text": [
            "Drive already mounted at /content/gdrive; to attempt to forcibly remount, call drive.mount(\"/content/gdrive\", force_remount=True).\n"
          ],
          "name": "stdout"
        }
      ]
    },
    {
      "cell_type": "markdown",
      "metadata": {
        "id": "qA_mRGwuUMiP"
      },
      "source": [
        "## Initialization"
      ]
    },
    {
      "cell_type": "code",
      "metadata": {
        "id": "dr1ZrF1AUR8f"
      },
      "source": [
        "import numpy as np\n",
        "import random\n",
        "from scipy.spatial import distance as d\n",
        "import os\n",
        "import math\n",
        "import pandas as pd\n",
        "import time\n",
        "import json\n",
        "\n",
        "TEST_DIR = '/content/gdrive/My Drive/test-folder/'\n",
        "\n",
        "LEAF_FOLDER = '/content/gdrive/My Drive/[MIRCV]FoodWebSearch/antonio-tests'\n",
        "\n",
        "TEST_FILE_1 = os.path.join(TEST_DIR, \"test-tree-construction-data.npy\")\n",
        "TEST_FILE_2 = os.path.join(TEST_DIR, \"test-tree-construction-data-2.npy\")\n",
        "TEST_FILE_3 = os.path.join(TEST_DIR, \"test-tree-construction-data-3.npy\")\n",
        "\n",
        "\n",
        "TEST_PATH = \"/content/gdrive/My Drive/[MIRCV]FoodWebSearch/antonio-tests\"\n",
        "\n",
        "FEATURES_PATH = \"/content/gdrive/My Drive/[MIRCV]FoodWebSearch/features.csv\"\n",
        "FEATURES_PATH_TEST_1 = \"/content/gdrive/My Drive/[MIRCV]FoodWebSearch/antonio-tests/features-test-1.npy\"\n",
        "FEATURES_NAMES_TEST_1 = \"/content/gdrive/My Drive/[MIRCV]FoodWebSearch/antonio-tests/features-names-test-1.npy\"\n",
        "\n",
        "FEATURES_PATH_TEST_2 = \"/content/gdrive/My Drive/[MIRCV]FoodWebSearch/antonio-tests/features-test-2.npy\"\n",
        "FEATURES_NAMES_TEST_2 = \"/content/gdrive/My Drive/[MIRCV]FoodWebSearch/antonio-tests/features-names-test-2.npy\"\n",
        "\n",
        "FEATURES_PATH_TEST_3 = \"/content/gdrive/My Drive/[MIRCV]FoodWebSearch/antonio-tests/features-test-3.npy\"\n",
        "FEATURES_NAMES_TEST_3 = \"/content/gdrive/My Drive/[MIRCV]FoodWebSearch/antonio-tests/features-names-test-3.npy\"\n",
        "\n",
        "\n",
        "ID_DEPLOYMENT = \"/content/gdrive/MyDrive/[MIRCV]FoodWebSearch/id.npy\"\n",
        "FEATURES_DEPLOYMENT = \"/content/gdrive/MyDrive/[MIRCV]FoodWebSearch/features.npy\"\n",
        "INDEX_DIR = \"/content/gdrive/MyDrive/[MIRCV]FoodWebSearch/deployment\""
      ],
      "execution_count": null,
      "outputs": []
    },
    {
      "cell_type": "markdown",
      "metadata": {
        "id": "nQxpe2EiByvI"
      },
      "source": [
        "Create the datasets for tests"
      ]
    },
    {
      "cell_type": "code",
      "metadata": {
        "id": "Ew_T12SL94UM"
      },
      "source": [
        "np.save(FEATURES_PATH_TEST_2, [[63, 27, 38], [60.21, 24, 26], [60, 82, 0], [19, 39, 52], [10, 57, 98], \n",
        "                      [46, 19, 41], [32, 13, 6], [14, 74, 12], [98, 27, 22], [59, 62, 0], \n",
        "                      [4, 9, 22], [62, 56, 63], [38, 86, 60], [66, 13, 90], [95, 56, 70], \n",
        "                      [11, 71, 14], [56, 97, 40], [94, 6, 52], [63, 67, 91], [88, 70, 15], \n",
        "                      [72, 98, 32], [66, 61, 89], [92, 86, 13], [40, 97, 35], [26, 3, 10], \n",
        "                      [40, 61, 99], [49, 83, 24], [54, 32, 22], [70, 42, 55], [43, 34, 61]])\n",
        "np.save(FEATURES_NAMES_TEST_2, [\"img_\" + str(i) for i in range(30)])"
      ],
      "execution_count": null,
      "outputs": []
    },
    {
      "cell_type": "code",
      "metadata": {
        "id": "H8FqM4ns-hCE"
      },
      "source": [
        "np.save(FEATURES_NAMES_TEST_3, [[56, 0, 26, 95], [73, 40, 13, 47], [46, 81, 16, 78], [82, 9, 83, 32], [65, 59, 85, 30], \n",
        "                      [88, 49, 11, 19], [65, 76, 27, 58], [17, 84, 91, 33], [93, 80, 67, 64], [58, 91, 75, 38], \n",
        "                      [46, 69, 2, 49], [26, 39, 35, 70], [35, 95, 88, 90], [51, 84, 68, 72], [93, 75, 24, 88], \n",
        "                      [77, 82, 87, 12], [13, 16, 93, 12], [35, 18, 61, 42], [58, 18, 29, 23], [51, 24, 26, 99], \n",
        "                      [20, 28, 34, 12], [40, 21, 62, 14], [78, 79, 18, 23], [99, 22, 48, 79], [20, 73, 6, 64], \n",
        "                      [41, 14, 35, 67], [20, 4, 73, 74], [50, 84, 90, 12], [86, 64, 36, 58], [11, 51, 70, 32], \n",
        "                      [62, 91, 39, 84], [82, 28, 35, 29], [38, 22, 40, 67], [45, 51, 30, 44], [98, 2, 0, 49], \n",
        "                      [72, 57, 87, 80], [42, 32, 19, 93], [51, 50, 73, 6], [63, 40, 50, 75], [10, 84, 56, 27], \n",
        "                      [14, 34, 30, 85], [55, 44, 96, 93], [37, 73, 83, 42], [51, 4, 25, 8], [42, 10, 19, 82], \n",
        "                      [11, 29, 18, 31], [19, 28, 47, 39], [4, 69, 25, 28], [78, 12, 30, 48], [87, 28, 10, 24], \n",
        "                      [25, 93, 39, 97], [4, 62, 39, 89], [61, 29, 38, 82], [53, 49, 72, 46], [22, 86, 7, 50], \n",
        "                      [14, 92, 74, 65], [91, 67, 45, 21], [69, 12, 60, 52], [80, 3, 89, 93], [26, 70, 8, 72], \n",
        "                      [44, 36, 38, 92], [99, 25, 15, 49], [48, 79, 78, 38], [35, 67, 33, 53], [80, 68, 43, 41], \n",
        "                      [28, 19, 69, 37], [53, 58, 0, 17], [69, 7, 62, 73], [43, 34, 30, 29], [43, 41, 27, 57], \n",
        "                      [17, 59, 84, 91], [65, 55, 7, 82], [48, 3, 49, 99], [63, 44, 62, 9], [48, 53, 26, 39], \n",
        "                      [2, 17, 25, 31], [64, 30, 95, 15], [82, 76, 88, 15], [53, 31, 68, 76], [7, 36, 70, 71], \n",
        "                      [10, 31, 30, 25], [8, 43, 98, 25], [46, 97, 90, 19], [38, 2, 36, 51], [56, 24, 31, 97], \n",
        "                      [77, 45, 2, 69], [80, 52, 44, 10], [75, 84, 22, 51], [40, 49, 24, 65], [46, 32, 44, 66], \n",
        "                      [33, 13, 16, 34], [50, 20, 29, 52], [85, 54, 43, 78], [12, 19, 14, 64], [22, 74, 13, 94], \n",
        "                      [14, 26, 10, 15], [81, 25, 41, 86], [74, 23, 79, 54], [49, 2, 60, 7], [68, 26, 88, 75]])\n",
        "np.save(FEATURES_NAMES_TEST_3, [\"img_\" + str(i) for i in range(100)])"
      ],
      "execution_count": null,
      "outputs": []
    },
    {
      "cell_type": "markdown",
      "metadata": {
        "id": "--Pgf1ZoQfCf"
      },
      "source": [
        "# Create Tree Data Structure"
      ]
    },
    {
      "cell_type": "markdown",
      "metadata": {
        "id": "odU0xysW3kUr"
      },
      "source": [
        "###The Node\n",
        "The class Node represents a node in the tree. \n",
        "We can have two types of nodes:\n",
        "- internal node\n",
        "- leaf node\n",
        "\n",
        "All the nodes have an id, in order to store the tree on disk, preserving its structure.\n",
        "\n",
        "####Internal Node\n",
        "In the case of an internal node, the class has the following parameters:\n",
        "- reference to the right child\n",
        "- reference to the left child\n",
        "- the value of the node, it's the pivot in this application: a numpy array that represent a point in the space\n",
        "- the median: the value of the median is computed on the sorted distances between the pivot and the other values of the set\n",
        "\n",
        "####Leaf Node\n",
        "\n",
        "In the case of a leaf node, the class has the following fields:\n",
        "- the pivot\n",
        "- the median\n",
        "- reference to the file in which are stored the objects on the left\n",
        "- reference to the file in which are stored the objects on the right"
      ]
    },
    {
      "cell_type": "code",
      "metadata": {
        "id": "0h9Hb7EB3MoC"
      },
      "source": [
        "class NumpyEncoder(json.JSONEncoder):\n",
        "    def default(self, obj):\n",
        "        if isinstance(obj, np.ndarray):\n",
        "            return obj.tolist()\n",
        "        if isinstance(obj, None):\n",
        "            return \"\"\n",
        "        return json.JSONEncoder.default(self, obj)"
      ],
      "execution_count": null,
      "outputs": []
    },
    {
      "cell_type": "code",
      "metadata": {
        "id": "SIhDImrBQnjj"
      },
      "source": [
        "class Node:\n",
        "\n",
        "  def __init__(self, id, is_leaf, **kwargs):\n",
        "    self.parent = kwargs.get(\"parent\", None)\n",
        "    self.id = id\n",
        "    self.is_leaf = is_leaf\n",
        "    self.pivot = kwargs.get(\"pivot\", None)\n",
        "    self.median = kwargs.get(\"median\", -1)\n",
        "    if self.is_leaf:\n",
        "      self.objects = kwargs.get(\"objects\", [])\n",
        "      self.file_path_s_1, self.file_path_s_2 = \"\", \"\"\n",
        "    else:\n",
        "      self.right = kwargs.get(\"right\", None)\n",
        "      self.left = kwargs.get(\"left\", None)\n",
        "\n",
        "  def set_parameters(self, pivot, median):\n",
        "    self.pivot = pivot\n",
        "    self.median = median\n",
        "\n",
        "  def add_children(self, left, right):\n",
        "    self.left = left\n",
        "    self.right = right\n",
        "\n",
        "  def add_objects(self, s_1, s_2):\n",
        "    self.objects_left = s_1\n",
        "    self.objects_right = s_2\n",
        "\n",
        "  def save_leaf_objects_on_disk(self, file_path, s_1, s_2):\n",
        "    self.file_path_s_1 = file_path + \"_subset_1.npy\"\n",
        "    self.file_path_s_2 = file_path + \"_subset_2.npy\"\n",
        "    np.save(self.file_path_s_1, np.array(s_1, dtype=object))\n",
        "    np.save(self.file_path_s_2, np.array(s_2, dtype=object))\n",
        "\n",
        "  def load_objects_from_disk(self):\n",
        "    s_1 = np.load(self.file_path_s_1, allow_pickle=True)\n",
        "    s_2 = np.load(self.file_path_s_2, allow_pickle=True)\n",
        "    return s_1, s_2\n",
        "\n",
        "  def get_node_name(self):\n",
        "    return self.id"
      ],
      "execution_count": null,
      "outputs": []
    },
    {
      "cell_type": "markdown",
      "metadata": {
        "id": "BFLASx_e6gk5"
      },
      "source": [
        "###The Vantage Point Tree\n",
        "The Vantage Point Tree is modeled as a class, that provides us the methods to:\n",
        "- create the tree from a dataset\n",
        "- search the k-nearest neighbors objects, given a query\n",
        "- print the tree<br>\n",
        "\n",
        "All these methods are based on recursion.<br>\n",
        "The Vantage Point Tree can be created in two modes:\n",
        "1. Test mode: in order to test the tree on very small datasets\n",
        "2. Disk mode: in this mode we can handle very huge datasets, by storing the objects on disk and keeping in the tree just the reference to the files\n",
        "\n",
        "#### Save Tree on Disk Method\n",
        "\n",
        "TODO\n",
        "\n",
        "#### Load Tree on Disk Method\n",
        "\n",
        "TODO"
      ]
    },
    {
      "cell_type": "code",
      "metadata": {
        "id": "SnXmnTbIUgsC"
      },
      "source": [
        "class VP_Tree:\n",
        "\n",
        "  def __init__(self, index_name, height, disk_mode=True, leaves_path=None):\n",
        "    self.root = None\n",
        "    self.index_name = index_name\n",
        "    self.height = height #to review\n",
        "    self.disk_mode = disk_mode\n",
        "    self.leaves_path = leaves_path\n",
        "\n",
        "  def create_vptree(self, names_path, features_path):\n",
        "    start = time.time()\n",
        "    data = VP_Tree.read_data(names_path, features_path)\n",
        "    n = len(data)\n",
        "    print(\"Number of data:\", n)\n",
        "    max_height = math.floor(math.log(n,2)-1)\n",
        "    print(\"The max height of the tree is:\", max_height)\n",
        "    if self.height > max_height: self.height = max_height \n",
        "    #take 1 pivot randomly and set pivot as root\n",
        "    self.root, s_1, s_2 = self.partition_by_median(data)\n",
        "    self.create_tree_level(self.root, s_1, s_2, 1)\n",
        "    end = time.time()\n",
        "    print(\"Building of the tree completed in:\", end-start, \"s\")\n",
        "  \n",
        "  def create_tree_level(self, node, s_1, s_2, iteration):\n",
        "      #print(\"Level n.\" + str(iteration))\n",
        "      is_leaf = iteration + 1 >= self.height # lo fermo un livello prima perchè altrimenti mi trovo ad avere una foglia lo stesso oggetto a destra e a sinistra\n",
        "      left_node, s_1_left, s_2_left = self.partition_by_median(s_1, parent=node,is_left=True, is_leaf=is_leaf)\n",
        "      right_node, s_1_right, s_2_right = self.partition_by_median(s_2, parent=node,is_left=False, is_leaf=is_leaf)\n",
        "      node.add_children(right_node, left_node)\n",
        "      if iteration + 1 < self.height: # lo fermo un livello prima perchè altrimenti mi trovo ad avere una foglia con lo stesso oggetto a destra e a sinistra\n",
        "        self.create_tree_level(left_node, s_1_left, s_2_left, iteration + 1)\n",
        "        self.create_tree_level(right_node, s_1_right, s_2_right, iteration + 1)\n",
        "      else:\n",
        "        if self.disk_mode:\n",
        "          left_path = self.get_leaves_path(left_node.get_node_name())\n",
        "          right_path = self.get_leaves_path(right_node.get_node_name())\n",
        "          left_node.save_leaf_objects_on_disk(left_path, s_1_left, s_2_left)\n",
        "          right_node.save_leaf_objects_on_disk(right_path, s_1_right, s_2_right)\n",
        "        else:\n",
        "          left_node.add_objects(s_1_left, s_2_left)\n",
        "          right_node.add_objects(s_1_right, s_2_right)\n",
        "\n",
        "  def partition_by_median(self, data, parent=None,is_left=False,is_leaf=False):\n",
        "    pivot_index = random.choice(range(len(data)))\n",
        "    pivot = data[pivot_index]\n",
        "    del data[pivot_index]\n",
        "    #compute all the distances\n",
        "    data = [value for value in data if not np.array_equal(value[1], pivot[1])] # refactor\n",
        "    distances = np.array([d.euclidean(pivot[1],element[1]) for element in data])\n",
        "    #sort the distances\n",
        "    zipped_data_distances = sorted(zip(data, distances), key= lambda x:x[1])\n",
        "    ordered_data, distances = zip(*zipped_data_distances)\n",
        "    median = np.median(distances)\n",
        "    #get the median\n",
        "    s_1 = [element for element, distance in zipped_data_distances if distance <= median]\n",
        "    s_2 = [element for element, distance in zipped_data_distances if distance >= median]\n",
        "    #update node\n",
        "    if parent == None:\n",
        "      node = Node(id=\"0\", is_leaf=is_leaf, pivot=pivot, median=median)\n",
        "    else:\n",
        "      node_id = parent.id + str(0 if is_left else 1)\n",
        "      node = Node(node_id, is_leaf=is_leaf, pivot=pivot, median=median)\n",
        "    return node, s_1, s_2\n",
        "\n",
        "  def save_vptree(file_path, tree):\n",
        "    if not os.path.exists(file_path): os.mkdir(file_path)\n",
        "    file = os.path.join(file_path, tree.index_name + '.json')\n",
        "    if os.path.exists(file):\n",
        "      os.remove(file)\n",
        "    with open(file, 'a') as json_file:\n",
        "      index_json = {\"index\": tree.index_name, \"nodes\":[], \"height\":tree.height}\n",
        "      VP_Tree.save_node(tree.root, index_json)\n",
        "      vp_tree_json = json.dumps(index_json, cls=NumpyEncoder)\n",
        "      json_file.write(vp_tree_json)\n",
        "      print(\"File saved correctly in:\", file)\n",
        "    return file\n",
        "  \n",
        "  def save_node(node, index_json):\n",
        "    if node.is_leaf:\n",
        "        row_json={\"is_leaf\":True, \n",
        "                    \"id\":node.id,\n",
        "                    \"pivot\" : node.pivot,\n",
        "                    \"median\":node.median, \n",
        "                    \"left_file\":node.file_path_s_1, \n",
        "                    \"right_file\":node.file_path_s_2}\n",
        "        index_json[\"nodes\"].append(row_json)\n",
        "    else:\n",
        "        row_json={\"is_leaf\":False,\n",
        "                  \"id\":node.id, \n",
        "                  \"pivot\": node.pivot,\n",
        "                  \"median\": node.median,\n",
        "                  \"right_child\":node.right.id,\n",
        "                  \"left_child\":node.left.id}\n",
        "        index_json[\"nodes\"].append(row_json)\n",
        "        VP_Tree.save_node(node.left, index_json)\n",
        "        VP_Tree.save_node(node.right,index_json)\n",
        "    return\n",
        "\n",
        "  def load_vptree(path):\n",
        "    if not os.path.exists:\n",
        "      print(\"the path do not exist\")\n",
        "      return None\n",
        "    entry_list=[]\n",
        "    with open(path,'r', encoding='utf-8') as f:\n",
        "      json_tree = json.load(f)\n",
        "      entry_list=json_tree[\"nodes\"]\n",
        "    root_node=VP_Tree.parse_node('0',entry_list)\n",
        "    index_name = json_tree[\"index\"]\n",
        "    height = json_tree[\"height\"]\n",
        "    vp_tree = VP_Tree(index_name=index_name,height=height,leaves_path=path)\n",
        "    vp_tree.root = root_node\n",
        "    return vp_tree\n",
        "\n",
        "  def parse_node(id, nodes):\n",
        "    node_json = None\n",
        "    for element in nodes:\n",
        "      if element[\"id\"]==id:\n",
        "        node_json = element\n",
        "    node=Node(id=node_json[\"id\"], is_leaf=node_json[\"is_leaf\"], \n",
        "              pivot=node_json[\"pivot\"], median=node_json[\"median\"])\n",
        "    if (node.is_leaf):\n",
        "      node.file_path_s_1=node_json[\"left_file\"]\n",
        "      node.file_path_s_2=node_json[\"right_file\"]\n",
        "    else:\n",
        "      right=VP_Tree.parse_node(node_json[\"right_child\"],nodes)\n",
        "      left=VP_Tree.parse_node(node_json[\"left_child\"],nodes)\n",
        "      node.add_children(left, right)\n",
        "    return node\n",
        "\n",
        "  def knn_search(self, k, query):\n",
        "    nn = [None for i in range(k)]\n",
        "    d_nn = [math.inf for i in range(k)]\n",
        "    nn, d_nn = self.search_subtree(self.root, nn, d_nn, k, query)\n",
        "    return self.reorder_list_on_distances(nn, d_nn, desc=False)\n",
        "\n",
        "  def search_subtree(self, node, nn, d_nn, k, query):\n",
        "    pivot, median = node.pivot, node.median\n",
        "    distance = d.euclidean(pivot[1], query)\n",
        "    if distance <= d_nn[0]:\n",
        "      d_nn[0] = distance\n",
        "      nn[0] = pivot\n",
        "      nn, d_nn = self.reorder_list_on_distances(nn, d_nn)\n",
        "    if node.is_leaf:\n",
        "      return self.search_in_leaf(node, nn, d_nn, k, query)\n",
        "    if distance - d_nn[0] <= median:\n",
        "      nn, d_nn = self.search_subtree(node.left, nn, d_nn, k, query)\n",
        "    if distance + d_nn[0] >= median:\n",
        "      nn, d_nn = self.search_subtree(node.right, nn, d_nn, k, query)\n",
        "    return nn, d_nn\n",
        "\n",
        "  def search_in_leaf(self, node, nn, d_nn, k, query):\n",
        "    objects = []\n",
        "    distance_pivot = d.euclidean(node.pivot[1], query)\n",
        "    if self.disk_mode:\n",
        "      s_1, s_2 = node.load_objects_from_disk()\n",
        "      # the + operator with numpy arrays of objects don't produce the concatenation between arrays\n",
        "      objects = np.concatenate((s_1, s_2))\n",
        "    else:\n",
        "      objects = node.objects_left + node.objects_right\n",
        "    for obj in objects:\n",
        "      distance = d.euclidean(obj[1], query)\n",
        "      if distance < d_nn[0]:\n",
        "        nn[0] = obj\n",
        "        d_nn[0] = distance\n",
        "        nn, d_nn = self.reorder_list_on_distances(nn, d_nn)\n",
        "    return nn, d_nn\n",
        "\n",
        "  def reorder_list_on_distances(self, nn, d_nn, desc=True):\n",
        "      zipped = sorted(zip(nn, d_nn), key= lambda x:x[1], reverse=desc)\n",
        "      nn, d_nn = zip(*zipped)\n",
        "      return list(nn), list(d_nn)\n",
        "\n",
        "  def print_tree(node, level, disk_mode=True):\n",
        "    indentation = \"\\n\" + str(level * \"\\t\")\n",
        "    response = \"id: \" + node.id + \" \" + str(node.pivot)\n",
        "    if node.is_leaf:\n",
        "      if disk_mode: \n",
        "        response += indentation + str(node.file_path_s_1)\n",
        "        response += indentation + str(node.file_path_s_2)\n",
        "      else:\n",
        "        response += indentation + str(node.objects_left)\n",
        "        response += indentation + str(node.objects_right)\n",
        "      return response\n",
        "    response += indentation + VP_Tree.print_tree(node=node.right, level=level+1, disk_mode=disk_mode)\n",
        "    response += indentation + VP_Tree.print_tree(node=node.left, level=level+1, disk_mode=disk_mode)\n",
        "    return response\n",
        "\n",
        "  def get_leaves_path(self, file_name):\n",
        "    if not self.leaves_path is None:\n",
        "      directory = os.path.join(self.leaves_path, self.index_name)\n",
        "    else: directory = os.path.join(LEAF_FOLDER, self.index_name)\n",
        "    if not os.path.exists(directory):\n",
        "      os.mkdir(directory)\n",
        "    leaves_directory = os.path.join(directory, \"leaves_\"+ str(self.height))\n",
        "    if not os.path.exists(leaves_directory):\n",
        "      os.mkdir(leaves_directory)\n",
        "    return os.path.join(leaves_directory, file_name)\n",
        "\n",
        "  def read_data(file_path_names, file_path_features):\n",
        "    names = np.load(file_path_names)\n",
        "    features = np.load(file_path_features)\n",
        "    return [(name, feature) for name, feature in zip(names, features)]"
      ],
      "execution_count": null,
      "outputs": []
    },
    {
      "cell_type": "markdown",
      "metadata": {
        "id": "7n5dev7wI-5x"
      },
      "source": [
        "### Tests\n",
        "Tests on the creation use data with the following composition:\n",
        "- test1: 20 3-dimensional points\n",
        "- test2: 30 3-dimensional points\n",
        "- test3: 100 4-dimensional points"
      ]
    },
    {
      "cell_type": "code",
      "metadata": {
        "colab": {
          "base_uri": "https://localhost:8080/"
        },
        "id": "l2o3ifBFI7ai",
        "outputId": "8bd79f03-a271-4139-aad3-5710a0759b27"
      },
      "source": [
        "# Partition By Median Tests 1\n",
        "data = [(\"image0\", np.array([0,2,1])) , (\"image1\",np.array([2,3,6])), (\"image2\",np.array([5,3,2])),\n",
        "                 (\"image3\",np.array([5,6,4])), (\"image4\",np.array([5,16,1])), (\"image5\",np.array([2,6,2])), (\"image6\",np.array([1,3,1]))]\n",
        "\n",
        "vantage_point_tree = VP_Tree(\"Index_Test\", 5)\n",
        "node, s_1, s_2 = vantage_point_tree.partition_by_median(data)\n",
        "\n",
        "print(\"Node:\", node.pivot)\n",
        "print(\"Median:\", node.median)\n",
        "print(\"Set 1:\", s_1)\n",
        "print(\"Set 2:\", s_2)"
      ],
      "execution_count": null,
      "outputs": [
        {
          "output_type": "stream",
          "text": [
            "Node: ('image5', array([2, 6, 2]))\n",
            "Median: 4.412608191037562\n",
            "Set 1: [('image6', array([1, 3, 1])), ('image3', array([5, 6, 4])), ('image2', array([5, 3, 2]))]\n",
            "Set 2: [('image0', array([0, 2, 1])), ('image1', array([2, 3, 6])), ('image4', array([ 5, 16,  1]))]\n"
          ],
          "name": "stdout"
        }
      ]
    },
    {
      "cell_type": "code",
      "metadata": {
        "colab": {
          "base_uri": "https://localhost:8080/"
        },
        "id": "YFNE5J09X2mr",
        "outputId": "0c240aca-3531-46f2-ecd4-1425ee78651f"
      },
      "source": [
        "# Partition By Median Tests 2\n",
        "data = [(\"img_1\",np.array([0,0])), (\"img_2\",np.array([0,1])), (\"img_3\",np.array([2,2])), (\"img_4\",np.array([3,3]))]\n",
        "\n",
        "vantage_point_tree = VP_Tree(\"Index_Test\", 5)\n",
        "\n",
        "node, s_1, s_2 = vantage_point_tree.partition_by_median(data)\n",
        "\n",
        "print(\"Pivot:\", node.pivot)\n",
        "print(\"Median:\", node.median)\n",
        "print(\"Set 1:\", s_1)\n",
        "print(\"Set 2:\", s_2)"
      ],
      "execution_count": null,
      "outputs": [
        {
          "output_type": "stream",
          "text": [
            "Pivot: ('img_4', array([3, 3]))\n",
            "Median: 3.605551275463989\n",
            "Set 1: [('img_3', array([2, 2])), ('img_2', array([0, 1]))]\n",
            "Set 2: [('img_2', array([0, 1])), ('img_1', array([0, 0]))]\n"
          ],
          "name": "stdout"
        }
      ]
    },
    {
      "cell_type": "code",
      "metadata": {
        "id": "CjToZSzCQ5Ai",
        "colab": {
          "base_uri": "https://localhost:8080/",
          "height": 398
        },
        "outputId": "dbfa17f8-94a2-4b7f-dd30-33de93190965"
      },
      "source": [
        "# Create Tree Test 1\n",
        "vantage_point_tree = VP_Tree(\"Index_Test_1\",4)\n",
        "vantage_point_tree.create_vptree(FEATURES_NAMES_TEST_1,FEATURES_PATH_TEST_1)\n",
        "result = VP_Tree.print_tree(vantage_point_tree.root, level=1)\n",
        "\n",
        "print(\"Result:\\n\" + result + \"\\n\")\n",
        "\n",
        "index_name = vantage_point_tree.index_name\n",
        "\n",
        "path = VP_Tree.save_vptree(os.path.join(TEST_PATH, index_name),vantage_point_tree)\n",
        "\n",
        "print(\"Saved on:\", path)\n",
        "\n",
        "tree_loaded = VP_Tree.load_vptree(path)\n",
        "\n",
        "print(\"\\nTree Loaded\\n\")\n",
        "result = VP_Tree.print_tree(tree_loaded.root, level=1)\n",
        "print(result)"
      ],
      "execution_count": null,
      "outputs": [
        {
          "output_type": "error",
          "ename": "FileNotFoundError",
          "evalue": "ignored",
          "traceback": [
            "\u001b[0;31m---------------------------------------------------------------------------\u001b[0m",
            "\u001b[0;31mFileNotFoundError\u001b[0m                         Traceback (most recent call last)",
            "\u001b[0;32m<ipython-input-38-97a7e917830a>\u001b[0m in \u001b[0;36m<module>\u001b[0;34m()\u001b[0m\n\u001b[1;32m      1\u001b[0m \u001b[0;31m# Create Tree Test 1\u001b[0m\u001b[0;34m\u001b[0m\u001b[0;34m\u001b[0m\u001b[0;34m\u001b[0m\u001b[0m\n\u001b[1;32m      2\u001b[0m \u001b[0mvantage_point_tree\u001b[0m \u001b[0;34m=\u001b[0m \u001b[0mVP_Tree\u001b[0m\u001b[0;34m(\u001b[0m\u001b[0;34m\"Index_Test_1\"\u001b[0m\u001b[0;34m,\u001b[0m\u001b[0;36m4\u001b[0m\u001b[0;34m)\u001b[0m\u001b[0;34m\u001b[0m\u001b[0;34m\u001b[0m\u001b[0m\n\u001b[0;32m----> 3\u001b[0;31m \u001b[0mvantage_point_tree\u001b[0m\u001b[0;34m.\u001b[0m\u001b[0mcreate_vptree\u001b[0m\u001b[0;34m(\u001b[0m\u001b[0mFEATURES_NAMES_TEST_1\u001b[0m\u001b[0;34m,\u001b[0m\u001b[0mFEATURES_PATH_TEST_1\u001b[0m\u001b[0;34m)\u001b[0m\u001b[0;34m\u001b[0m\u001b[0;34m\u001b[0m\u001b[0m\n\u001b[0m\u001b[1;32m      4\u001b[0m \u001b[0mresult\u001b[0m \u001b[0;34m=\u001b[0m \u001b[0mVP_Tree\u001b[0m\u001b[0;34m.\u001b[0m\u001b[0mprint_tree\u001b[0m\u001b[0;34m(\u001b[0m\u001b[0mvantage_point_tree\u001b[0m\u001b[0;34m.\u001b[0m\u001b[0mroot\u001b[0m\u001b[0;34m,\u001b[0m \u001b[0mlevel\u001b[0m\u001b[0;34m=\u001b[0m\u001b[0;36m1\u001b[0m\u001b[0;34m)\u001b[0m\u001b[0;34m\u001b[0m\u001b[0;34m\u001b[0m\u001b[0m\n\u001b[1;32m      5\u001b[0m \u001b[0;34m\u001b[0m\u001b[0m\n",
            "\u001b[0;32m<ipython-input-37-d7b6a902bc72>\u001b[0m in \u001b[0;36mcreate_vptree\u001b[0;34m(self, names_path, features_path)\u001b[0m\n\u001b[1;32m     10\u001b[0m   \u001b[0;32mdef\u001b[0m \u001b[0mcreate_vptree\u001b[0m\u001b[0;34m(\u001b[0m\u001b[0mself\u001b[0m\u001b[0;34m,\u001b[0m \u001b[0mnames_path\u001b[0m\u001b[0;34m,\u001b[0m \u001b[0mfeatures_path\u001b[0m\u001b[0;34m)\u001b[0m\u001b[0;34m:\u001b[0m\u001b[0;34m\u001b[0m\u001b[0;34m\u001b[0m\u001b[0m\n\u001b[1;32m     11\u001b[0m     \u001b[0mstart\u001b[0m \u001b[0;34m=\u001b[0m \u001b[0mtime\u001b[0m\u001b[0;34m.\u001b[0m\u001b[0mtime\u001b[0m\u001b[0;34m(\u001b[0m\u001b[0;34m)\u001b[0m\u001b[0;34m\u001b[0m\u001b[0;34m\u001b[0m\u001b[0m\n\u001b[0;32m---> 12\u001b[0;31m     \u001b[0mdata\u001b[0m \u001b[0;34m=\u001b[0m \u001b[0mVP_Tree\u001b[0m\u001b[0;34m.\u001b[0m\u001b[0mread_data\u001b[0m\u001b[0;34m(\u001b[0m\u001b[0mnames_path\u001b[0m\u001b[0;34m,\u001b[0m \u001b[0mfeatures_path\u001b[0m\u001b[0;34m)\u001b[0m\u001b[0;34m\u001b[0m\u001b[0;34m\u001b[0m\u001b[0m\n\u001b[0m\u001b[1;32m     13\u001b[0m     \u001b[0mn\u001b[0m \u001b[0;34m=\u001b[0m \u001b[0mlen\u001b[0m\u001b[0;34m(\u001b[0m\u001b[0mdata\u001b[0m\u001b[0;34m)\u001b[0m\u001b[0;34m\u001b[0m\u001b[0;34m\u001b[0m\u001b[0m\n\u001b[1;32m     14\u001b[0m     \u001b[0mprint\u001b[0m\u001b[0;34m(\u001b[0m\u001b[0;34m\"Number of data:\"\u001b[0m\u001b[0;34m,\u001b[0m \u001b[0mn\u001b[0m\u001b[0;34m)\u001b[0m\u001b[0;34m\u001b[0m\u001b[0;34m\u001b[0m\u001b[0m\n",
            "\u001b[0;32m<ipython-input-37-d7b6a902bc72>\u001b[0m in \u001b[0;36mread_data\u001b[0;34m(file_path_names, file_path_features)\u001b[0m\n\u001b[1;32m    198\u001b[0m \u001b[0;34m\u001b[0m\u001b[0m\n\u001b[1;32m    199\u001b[0m   \u001b[0;32mdef\u001b[0m \u001b[0mread_data\u001b[0m\u001b[0;34m(\u001b[0m\u001b[0mfile_path_names\u001b[0m\u001b[0;34m,\u001b[0m \u001b[0mfile_path_features\u001b[0m\u001b[0;34m)\u001b[0m\u001b[0;34m:\u001b[0m\u001b[0;34m\u001b[0m\u001b[0;34m\u001b[0m\u001b[0m\n\u001b[0;32m--> 200\u001b[0;31m     \u001b[0mnames\u001b[0m \u001b[0;34m=\u001b[0m \u001b[0mnp\u001b[0m\u001b[0;34m.\u001b[0m\u001b[0mload\u001b[0m\u001b[0;34m(\u001b[0m\u001b[0mfile_path_names\u001b[0m\u001b[0;34m)\u001b[0m\u001b[0;34m\u001b[0m\u001b[0;34m\u001b[0m\u001b[0m\n\u001b[0m\u001b[1;32m    201\u001b[0m     \u001b[0mfeatures\u001b[0m \u001b[0;34m=\u001b[0m \u001b[0mnp\u001b[0m\u001b[0;34m.\u001b[0m\u001b[0mload\u001b[0m\u001b[0;34m(\u001b[0m\u001b[0mfile_path_features\u001b[0m\u001b[0;34m)\u001b[0m\u001b[0;34m\u001b[0m\u001b[0;34m\u001b[0m\u001b[0m\n\u001b[1;32m    202\u001b[0m     \u001b[0;32mreturn\u001b[0m \u001b[0;34m[\u001b[0m\u001b[0;34m(\u001b[0m\u001b[0mname\u001b[0m\u001b[0;34m,\u001b[0m \u001b[0mfeature\u001b[0m\u001b[0;34m)\u001b[0m \u001b[0;32mfor\u001b[0m \u001b[0mname\u001b[0m\u001b[0;34m,\u001b[0m \u001b[0mfeature\u001b[0m \u001b[0;32min\u001b[0m \u001b[0mzip\u001b[0m\u001b[0;34m(\u001b[0m\u001b[0mnames\u001b[0m\u001b[0;34m,\u001b[0m \u001b[0mfeatures\u001b[0m\u001b[0;34m)\u001b[0m\u001b[0;34m]\u001b[0m\u001b[0;34m\u001b[0m\u001b[0;34m\u001b[0m\u001b[0m\n",
            "\u001b[0;32m/usr/local/lib/python3.6/dist-packages/numpy/lib/npyio.py\u001b[0m in \u001b[0;36mload\u001b[0;34m(file, mmap_mode, allow_pickle, fix_imports, encoding)\u001b[0m\n\u001b[1;32m    414\u001b[0m             \u001b[0mown_fid\u001b[0m \u001b[0;34m=\u001b[0m \u001b[0;32mFalse\u001b[0m\u001b[0;34m\u001b[0m\u001b[0;34m\u001b[0m\u001b[0m\n\u001b[1;32m    415\u001b[0m         \u001b[0;32melse\u001b[0m\u001b[0;34m:\u001b[0m\u001b[0;34m\u001b[0m\u001b[0;34m\u001b[0m\u001b[0m\n\u001b[0;32m--> 416\u001b[0;31m             \u001b[0mfid\u001b[0m \u001b[0;34m=\u001b[0m \u001b[0mstack\u001b[0m\u001b[0;34m.\u001b[0m\u001b[0menter_context\u001b[0m\u001b[0;34m(\u001b[0m\u001b[0mopen\u001b[0m\u001b[0;34m(\u001b[0m\u001b[0mos_fspath\u001b[0m\u001b[0;34m(\u001b[0m\u001b[0mfile\u001b[0m\u001b[0;34m)\u001b[0m\u001b[0;34m,\u001b[0m \u001b[0;34m\"rb\"\u001b[0m\u001b[0;34m)\u001b[0m\u001b[0;34m)\u001b[0m\u001b[0;34m\u001b[0m\u001b[0;34m\u001b[0m\u001b[0m\n\u001b[0m\u001b[1;32m    417\u001b[0m             \u001b[0mown_fid\u001b[0m \u001b[0;34m=\u001b[0m \u001b[0;32mTrue\u001b[0m\u001b[0;34m\u001b[0m\u001b[0;34m\u001b[0m\u001b[0m\n\u001b[1;32m    418\u001b[0m \u001b[0;34m\u001b[0m\u001b[0m\n",
            "\u001b[0;31mFileNotFoundError\u001b[0m: [Errno 2] No such file or directory: '/content/gdrive/My Drive/[MIRCV]FoodWebSearch/antonio-tests/features-names-test-1.npy'"
          ]
        }
      ]
    },
    {
      "cell_type": "code",
      "metadata": {
        "id": "u1JHTq5dXB5x",
        "colab": {
          "base_uri": "https://localhost:8080/"
        },
        "outputId": "ff7dd738-4e91-4ab1-9dd8-86eb2ec90401"
      },
      "source": [
        "# Create Tree Test 2\n",
        "vantage_point_tree = VP_Tree(\"Index_Test_2\",4)\n",
        "vantage_point_tree.create_vptree(FEATURES_NAMES_TEST_2, FEATURES_PATH_TEST_2)\n",
        "result = VP_Tree.print_tree(vantage_point_tree.root, level=1)\n",
        "print(\"Result:\\n\" + result + \"\\n\")\n",
        "\n",
        "path = VP_Tree.save_vptree(os.path.join(TEST_PATH, index_name),vantage_point_tree)\n",
        "\n",
        "print(\"Saved on:\", path)\n",
        "\n",
        "tree_loaded = VP_Tree.load_vptree(path)\n",
        "\n",
        "print(\"\\nTree Loaded\\n\")\n",
        "result = VP_Tree.print_tree(tree_loaded.root, level=1)\n",
        "print(result)"
      ],
      "execution_count": null,
      "outputs": [
        {
          "output_type": "stream",
          "text": [
            "Number of data: 30\n",
            "The max height of the tree is: 3\n",
            "Building of the tree completed in: 0.08924341201782227 s\n",
            "Result:\n",
            "id: 0 ('img_13', array([66., 13., 90.]))\n",
            "\tid: 00 ('img_21', array([66., 61., 89.]))\n",
            "\t\tid: 000 ('img_25', array([40., 61., 99.]))\n",
            "\t\t\t/content/gdrive/My Drive/[MIRCV]FoodWebSearch/antonio-tests/Index_Test_2/leaves_3/000_subset_1.npy\n",
            "\t\t\t/content/gdrive/My Drive/[MIRCV]FoodWebSearch/antonio-tests/Index_Test_2/leaves_3/000_subset_2.npy\n",
            "\t\tid: 001 ('img_0', array([63., 27., 38.]))\n",
            "\t\t\t/content/gdrive/My Drive/[MIRCV]FoodWebSearch/antonio-tests/Index_Test_2/leaves_3/001_subset_1.npy\n",
            "\t\t\t/content/gdrive/My Drive/[MIRCV]FoodWebSearch/antonio-tests/Index_Test_2/leaves_3/001_subset_2.npy\n",
            "\tid: 01 ('img_23', array([40., 97., 35.]))\n",
            "\t\tid: 010 ('img_26', array([49., 83., 24.]))\n",
            "\t\t\t/content/gdrive/My Drive/[MIRCV]FoodWebSearch/antonio-tests/Index_Test_2/leaves_3/010_subset_1.npy\n",
            "\t\t\t/content/gdrive/My Drive/[MIRCV]FoodWebSearch/antonio-tests/Index_Test_2/leaves_3/010_subset_2.npy\n",
            "\t\tid: 011 ('img_19', array([88., 70., 15.]))\n",
            "\t\t\t/content/gdrive/My Drive/[MIRCV]FoodWebSearch/antonio-tests/Index_Test_2/leaves_3/011_subset_1.npy\n",
            "\t\t\t/content/gdrive/My Drive/[MIRCV]FoodWebSearch/antonio-tests/Index_Test_2/leaves_3/011_subset_2.npy\n",
            "File saved correctly in: /content/gdrive/My Drive/[MIRCV]FoodWebSearch/antonio-tests/Index_Test_1/Index_Test_2.json\n",
            "Saved on: /content/gdrive/My Drive/[MIRCV]FoodWebSearch/antonio-tests/Index_Test_1/Index_Test_2.json\n",
            "Tree Loaded\n",
            "\n",
            "id: 0 ['img_13', [66.0, 13.0, 90.0]]\n",
            "\tid: 00 ['img_21', [66.0, 61.0, 89.0]]\n",
            "\t\tid: 000 ['img_25', [40.0, 61.0, 99.0]]\n",
            "\t\t\t/content/gdrive/My Drive/[MIRCV]FoodWebSearch/antonio-tests/Index_Test_2/leaves_3/000_subset_1.npy\n",
            "\t\t\t/content/gdrive/My Drive/[MIRCV]FoodWebSearch/antonio-tests/Index_Test_2/leaves_3/000_subset_2.npy\n",
            "\t\tid: 001 ['img_0', [63.0, 27.0, 38.0]]\n",
            "\t\t\t/content/gdrive/My Drive/[MIRCV]FoodWebSearch/antonio-tests/Index_Test_2/leaves_3/001_subset_1.npy\n",
            "\t\t\t/content/gdrive/My Drive/[MIRCV]FoodWebSearch/antonio-tests/Index_Test_2/leaves_3/001_subset_2.npy\n",
            "\tid: 01 ['img_23', [40.0, 97.0, 35.0]]\n",
            "\t\tid: 010 ['img_26', [49.0, 83.0, 24.0]]\n",
            "\t\t\t/content/gdrive/My Drive/[MIRCV]FoodWebSearch/antonio-tests/Index_Test_2/leaves_3/010_subset_1.npy\n",
            "\t\t\t/content/gdrive/My Drive/[MIRCV]FoodWebSearch/antonio-tests/Index_Test_2/leaves_3/010_subset_2.npy\n",
            "\t\tid: 011 ['img_19', [88.0, 70.0, 15.0]]\n",
            "\t\t\t/content/gdrive/My Drive/[MIRCV]FoodWebSearch/antonio-tests/Index_Test_2/leaves_3/011_subset_1.npy\n",
            "\t\t\t/content/gdrive/My Drive/[MIRCV]FoodWebSearch/antonio-tests/Index_Test_2/leaves_3/011_subset_2.npy\n"
          ],
          "name": "stdout"
        }
      ]
    },
    {
      "cell_type": "code",
      "metadata": {
        "id": "GIBsFencdXP6",
        "colab": {
          "base_uri": "https://localhost:8080/"
        },
        "outputId": "22d44675-062c-4411-b07a-ee9aa5511cae"
      },
      "source": [
        "# Create Tree Test 3\n",
        "vantage_point_tree = VP_Tree(\"Index_Test_3\",6)\n",
        "vantage_point_tree.create_vptree(FEATURES_NAMES_TEST_3, FEATURES_PATH_TEST_3)\n",
        "result = VP_Tree.print_tree(vantage_point_tree.root, level=1)\n",
        "print(\"Result:\\n\" + result + \"\\n\")\n",
        "\n",
        "path = VP_Tree.save_vptree(os.path.join(TEST_PATH, index_name),vantage_point_tree)\n",
        "\n",
        "print(\"Saved on:\", path)\n",
        "\n",
        "tree_loaded = VP_Tree.load_vptree(path)\n",
        "\n",
        "print(\"\\nTree Loaded\\n\")\n",
        "result = VP_Tree.print_tree(tree_loaded.root, level=1)\n",
        "print(result)"
      ],
      "execution_count": null,
      "outputs": [
        {
          "output_type": "stream",
          "text": [
            "Number of data: 100\n",
            "The max height of the tree is: 5\n",
            "Building of the tree completed in: 0.3236405849456787 s\n",
            "Result:\n",
            "id: 0 ('img_43', array([51,  4, 25,  8]))\n",
            "\tid: 00 ('img_34', array([98,  2,  0, 49]))\n",
            "\t\tid: 000 ('img_61', array([99, 25, 15, 49]))\n",
            "\t\t\tid: 0000 ('img_18', array([58, 18, 29, 23]))\n",
            "\t\t\t\tid: 00000 ('img_1', array([73, 40, 13, 47]))\n",
            "\t\t\t\t\t/content/gdrive/My Drive/[MIRCV]FoodWebSearch/antonio-tests/Index_Test_3/leaves_5/00000_subset_1.npy\n",
            "\t\t\t\t\t/content/gdrive/My Drive/[MIRCV]FoodWebSearch/antonio-tests/Index_Test_3/leaves_5/00000_subset_2.npy\n",
            "\t\t\t\tid: 00001 ('img_69', array([43, 41, 27, 57]))\n",
            "\t\t\t\t\t/content/gdrive/My Drive/[MIRCV]FoodWebSearch/antonio-tests/Index_Test_3/leaves_5/00001_subset_1.npy\n",
            "\t\t\t\t\t/content/gdrive/My Drive/[MIRCV]FoodWebSearch/antonio-tests/Index_Test_3/leaves_5/00001_subset_2.npy\n",
            "\t\t\tid: 0001 ('img_66', array([53, 58,  0, 17]))\n",
            "\t\t\t\tid: 00010 ('img_68', array([43, 34, 30, 29]))\n",
            "\t\t\t\t\t/content/gdrive/My Drive/[MIRCV]FoodWebSearch/antonio-tests/Index_Test_3/leaves_5/00010_subset_1.npy\n",
            "\t\t\t\t\t/content/gdrive/My Drive/[MIRCV]FoodWebSearch/antonio-tests/Index_Test_3/leaves_5/00010_subset_2.npy\n",
            "\t\t\t\tid: 00011 ('img_83', array([38,  2, 36, 51]))\n",
            "\t\t\t\t\t/content/gdrive/My Drive/[MIRCV]FoodWebSearch/antonio-tests/Index_Test_3/leaves_5/00011_subset_1.npy\n",
            "\t\t\t\t\t/content/gdrive/My Drive/[MIRCV]FoodWebSearch/antonio-tests/Index_Test_3/leaves_5/00011_subset_2.npy\n",
            "\t\tid: 001 ('img_3', array([82,  9, 83, 32]))\n",
            "\t\t\tid: 0010 ('img_64', array([80, 68, 43, 41]))\n",
            "\t\t\t\tid: 00100 ('img_53', array([53, 49, 72, 46]))\n",
            "\t\t\t\t\t/content/gdrive/My Drive/[MIRCV]FoodWebSearch/antonio-tests/Index_Test_3/leaves_5/00100_subset_1.npy\n",
            "\t\t\t\t\t/content/gdrive/My Drive/[MIRCV]FoodWebSearch/antonio-tests/Index_Test_3/leaves_5/00100_subset_2.npy\n",
            "\t\t\t\tid: 00101 ('img_16', array([13, 16, 93, 12]))\n",
            "\t\t\t\t\t/content/gdrive/My Drive/[MIRCV]FoodWebSearch/antonio-tests/Index_Test_3/leaves_5/00101_subset_1.npy\n",
            "\t\t\t\t\t/content/gdrive/My Drive/[MIRCV]FoodWebSearch/antonio-tests/Index_Test_3/leaves_5/00101_subset_2.npy\n",
            "\t\t\tid: 0011 ('img_95', array([14, 26, 10, 15]))\n",
            "\t\t\t\tid: 00110 ('img_45', array([11, 29, 18, 31]))\n",
            "\t\t\t\t\t/content/gdrive/My Drive/[MIRCV]FoodWebSearch/antonio-tests/Index_Test_3/leaves_5/00110_subset_1.npy\n",
            "\t\t\t\t\t/content/gdrive/My Drive/[MIRCV]FoodWebSearch/antonio-tests/Index_Test_3/leaves_5/00110_subset_2.npy\n",
            "\t\t\t\tid: 00111 ('img_11', array([26, 39, 35, 70]))\n",
            "\t\t\t\t\t/content/gdrive/My Drive/[MIRCV]FoodWebSearch/antonio-tests/Index_Test_3/leaves_5/00111_subset_1.npy\n",
            "\t\t\t\t\t/content/gdrive/My Drive/[MIRCV]FoodWebSearch/antonio-tests/Index_Test_3/leaves_5/00111_subset_2.npy\n",
            "\tid: 01 ('img_87', array([75, 84, 22, 51]))\n",
            "\t\tid: 010 ('img_30', array([62, 91, 39, 84]))\n",
            "\t\t\tid: 0100 ('img_50', array([25, 93, 39, 97]))\n",
            "\t\t\t\tid: 01000 ('img_59', array([26, 70,  8, 72]))\n",
            "\t\t\t\t\t/content/gdrive/My Drive/[MIRCV]FoodWebSearch/antonio-tests/Index_Test_3/leaves_5/01000_subset_1.npy\n",
            "\t\t\t\t\t/content/gdrive/My Drive/[MIRCV]FoodWebSearch/antonio-tests/Index_Test_3/leaves_5/01000_subset_2.npy\n",
            "\t\t\t\tid: 01001 ('img_38', array([63, 40, 50, 75]))\n",
            "\t\t\t\t\t/content/gdrive/My Drive/[MIRCV]FoodWebSearch/antonio-tests/Index_Test_3/leaves_5/01001_subset_1.npy\n",
            "\t\t\t\t\t/content/gdrive/My Drive/[MIRCV]FoodWebSearch/antonio-tests/Index_Test_3/leaves_5/01001_subset_2.npy\n",
            "\t\t\tid: 0101 ('img_15', array([77, 82, 87, 12]))\n",
            "\t\t\t\tid: 01010 ('img_22', array([78, 79, 18, 23]))\n",
            "\t\t\t\t\t/content/gdrive/My Drive/[MIRCV]FoodWebSearch/antonio-tests/Index_Test_3/leaves_5/01010_subset_1.npy\n",
            "\t\t\t\t\t/content/gdrive/My Drive/[MIRCV]FoodWebSearch/antonio-tests/Index_Test_3/leaves_5/01010_subset_2.npy\n",
            "\t\t\t\tid: 01011 ('img_36', array([42, 32, 19, 93]))\n",
            "\t\t\t\t\t/content/gdrive/My Drive/[MIRCV]FoodWebSearch/antonio-tests/Index_Test_3/leaves_5/01011_subset_1.npy\n",
            "\t\t\t\t\t/content/gdrive/My Drive/[MIRCV]FoodWebSearch/antonio-tests/Index_Test_3/leaves_5/01011_subset_2.npy\n",
            "\t\tid: 011 ('img_15', array([77, 82, 87, 12]))\n",
            "\t\t\tid: 0110 ('img_27', array([50, 84, 90, 12]))\n",
            "\t\t\t\tid: 01100 ('img_77', array([82, 76, 88, 15]))\n",
            "\t\t\t\t\t/content/gdrive/My Drive/[MIRCV]FoodWebSearch/antonio-tests/Index_Test_3/leaves_5/01100_subset_1.npy\n",
            "\t\t\t\t\t/content/gdrive/My Drive/[MIRCV]FoodWebSearch/antonio-tests/Index_Test_3/leaves_5/01100_subset_2.npy\n",
            "\t\t\t\tid: 01101 ('img_41', array([55, 44, 96, 93]))\n",
            "\t\t\t\t\t/content/gdrive/My Drive/[MIRCV]FoodWebSearch/antonio-tests/Index_Test_3/leaves_5/01101_subset_1.npy\n",
            "\t\t\t\t\t/content/gdrive/My Drive/[MIRCV]FoodWebSearch/antonio-tests/Index_Test_3/leaves_5/01101_subset_2.npy\n",
            "\t\t\tid: 0111 ('img_23', array([99, 22, 48, 79]))\n",
            "\t\t\t\tid: 01110 ('img_84', array([56, 24, 31, 97]))\n",
            "\t\t\t\t\t/content/gdrive/My Drive/[MIRCV]FoodWebSearch/antonio-tests/Index_Test_3/leaves_5/01110_subset_1.npy\n",
            "\t\t\t\t\t/content/gdrive/My Drive/[MIRCV]FoodWebSearch/antonio-tests/Index_Test_3/leaves_5/01110_subset_2.npy\n",
            "\t\t\t\tid: 01111 ('img_51', array([ 4, 62, 39, 89]))\n",
            "\t\t\t\t\t/content/gdrive/My Drive/[MIRCV]FoodWebSearch/antonio-tests/Index_Test_3/leaves_5/01111_subset_1.npy\n",
            "\t\t\t\t\t/content/gdrive/My Drive/[MIRCV]FoodWebSearch/antonio-tests/Index_Test_3/leaves_5/01111_subset_2.npy\n",
            "\n",
            "File saved correctly in: /content/gdrive/My Drive/[MIRCV]FoodWebSearch/antonio-tests/Index_Test_1/Index_Test_3.json\n",
            "Saved on: /content/gdrive/My Drive/[MIRCV]FoodWebSearch/antonio-tests/Index_Test_1/Index_Test_3.json\n",
            "\n",
            "Tree Loaded\n",
            "\n",
            "id: 0 ['img_43', [51, 4, 25, 8]]\n",
            "\tid: 00 ['img_34', [98, 2, 0, 49]]\n",
            "\t\tid: 000 ['img_61', [99, 25, 15, 49]]\n",
            "\t\t\tid: 0000 ['img_18', [58, 18, 29, 23]]\n",
            "\t\t\t\tid: 00000 ['img_1', [73, 40, 13, 47]]\n",
            "\t\t\t\t\t/content/gdrive/My Drive/[MIRCV]FoodWebSearch/antonio-tests/Index_Test_3/leaves_5/00000_subset_1.npy\n",
            "\t\t\t\t\t/content/gdrive/My Drive/[MIRCV]FoodWebSearch/antonio-tests/Index_Test_3/leaves_5/00000_subset_2.npy\n",
            "\t\t\t\tid: 00001 ['img_69', [43, 41, 27, 57]]\n",
            "\t\t\t\t\t/content/gdrive/My Drive/[MIRCV]FoodWebSearch/antonio-tests/Index_Test_3/leaves_5/00001_subset_1.npy\n",
            "\t\t\t\t\t/content/gdrive/My Drive/[MIRCV]FoodWebSearch/antonio-tests/Index_Test_3/leaves_5/00001_subset_2.npy\n",
            "\t\t\tid: 0001 ['img_66', [53, 58, 0, 17]]\n",
            "\t\t\t\tid: 00010 ['img_68', [43, 34, 30, 29]]\n",
            "\t\t\t\t\t/content/gdrive/My Drive/[MIRCV]FoodWebSearch/antonio-tests/Index_Test_3/leaves_5/00010_subset_1.npy\n",
            "\t\t\t\t\t/content/gdrive/My Drive/[MIRCV]FoodWebSearch/antonio-tests/Index_Test_3/leaves_5/00010_subset_2.npy\n",
            "\t\t\t\tid: 00011 ['img_83', [38, 2, 36, 51]]\n",
            "\t\t\t\t\t/content/gdrive/My Drive/[MIRCV]FoodWebSearch/antonio-tests/Index_Test_3/leaves_5/00011_subset_1.npy\n",
            "\t\t\t\t\t/content/gdrive/My Drive/[MIRCV]FoodWebSearch/antonio-tests/Index_Test_3/leaves_5/00011_subset_2.npy\n",
            "\t\tid: 001 ['img_3', [82, 9, 83, 32]]\n",
            "\t\t\tid: 0010 ['img_64', [80, 68, 43, 41]]\n",
            "\t\t\t\tid: 00100 ['img_53', [53, 49, 72, 46]]\n",
            "\t\t\t\t\t/content/gdrive/My Drive/[MIRCV]FoodWebSearch/antonio-tests/Index_Test_3/leaves_5/00100_subset_1.npy\n",
            "\t\t\t\t\t/content/gdrive/My Drive/[MIRCV]FoodWebSearch/antonio-tests/Index_Test_3/leaves_5/00100_subset_2.npy\n",
            "\t\t\t\tid: 00101 ['img_16', [13, 16, 93, 12]]\n",
            "\t\t\t\t\t/content/gdrive/My Drive/[MIRCV]FoodWebSearch/antonio-tests/Index_Test_3/leaves_5/00101_subset_1.npy\n",
            "\t\t\t\t\t/content/gdrive/My Drive/[MIRCV]FoodWebSearch/antonio-tests/Index_Test_3/leaves_5/00101_subset_2.npy\n",
            "\t\t\tid: 0011 ['img_95', [14, 26, 10, 15]]\n",
            "\t\t\t\tid: 00110 ['img_45', [11, 29, 18, 31]]\n",
            "\t\t\t\t\t/content/gdrive/My Drive/[MIRCV]FoodWebSearch/antonio-tests/Index_Test_3/leaves_5/00110_subset_1.npy\n",
            "\t\t\t\t\t/content/gdrive/My Drive/[MIRCV]FoodWebSearch/antonio-tests/Index_Test_3/leaves_5/00110_subset_2.npy\n",
            "\t\t\t\tid: 00111 ['img_11', [26, 39, 35, 70]]\n",
            "\t\t\t\t\t/content/gdrive/My Drive/[MIRCV]FoodWebSearch/antonio-tests/Index_Test_3/leaves_5/00111_subset_1.npy\n",
            "\t\t\t\t\t/content/gdrive/My Drive/[MIRCV]FoodWebSearch/antonio-tests/Index_Test_3/leaves_5/00111_subset_2.npy\n",
            "\tid: 01 ['img_87', [75, 84, 22, 51]]\n",
            "\t\tid: 010 ['img_30', [62, 91, 39, 84]]\n",
            "\t\t\tid: 0100 ['img_50', [25, 93, 39, 97]]\n",
            "\t\t\t\tid: 01000 ['img_59', [26, 70, 8, 72]]\n",
            "\t\t\t\t\t/content/gdrive/My Drive/[MIRCV]FoodWebSearch/antonio-tests/Index_Test_3/leaves_5/01000_subset_1.npy\n",
            "\t\t\t\t\t/content/gdrive/My Drive/[MIRCV]FoodWebSearch/antonio-tests/Index_Test_3/leaves_5/01000_subset_2.npy\n",
            "\t\t\t\tid: 01001 ['img_38', [63, 40, 50, 75]]\n",
            "\t\t\t\t\t/content/gdrive/My Drive/[MIRCV]FoodWebSearch/antonio-tests/Index_Test_3/leaves_5/01001_subset_1.npy\n",
            "\t\t\t\t\t/content/gdrive/My Drive/[MIRCV]FoodWebSearch/antonio-tests/Index_Test_3/leaves_5/01001_subset_2.npy\n",
            "\t\t\tid: 0101 ['img_15', [77, 82, 87, 12]]\n",
            "\t\t\t\tid: 01010 ['img_22', [78, 79, 18, 23]]\n",
            "\t\t\t\t\t/content/gdrive/My Drive/[MIRCV]FoodWebSearch/antonio-tests/Index_Test_3/leaves_5/01010_subset_1.npy\n",
            "\t\t\t\t\t/content/gdrive/My Drive/[MIRCV]FoodWebSearch/antonio-tests/Index_Test_3/leaves_5/01010_subset_2.npy\n",
            "\t\t\t\tid: 01011 ['img_36', [42, 32, 19, 93]]\n",
            "\t\t\t\t\t/content/gdrive/My Drive/[MIRCV]FoodWebSearch/antonio-tests/Index_Test_3/leaves_5/01011_subset_1.npy\n",
            "\t\t\t\t\t/content/gdrive/My Drive/[MIRCV]FoodWebSearch/antonio-tests/Index_Test_3/leaves_5/01011_subset_2.npy\n",
            "\t\tid: 011 ['img_15', [77, 82, 87, 12]]\n",
            "\t\t\tid: 0110 ['img_27', [50, 84, 90, 12]]\n",
            "\t\t\t\tid: 01100 ['img_77', [82, 76, 88, 15]]\n",
            "\t\t\t\t\t/content/gdrive/My Drive/[MIRCV]FoodWebSearch/antonio-tests/Index_Test_3/leaves_5/01100_subset_1.npy\n",
            "\t\t\t\t\t/content/gdrive/My Drive/[MIRCV]FoodWebSearch/antonio-tests/Index_Test_3/leaves_5/01100_subset_2.npy\n",
            "\t\t\t\tid: 01101 ['img_41', [55, 44, 96, 93]]\n",
            "\t\t\t\t\t/content/gdrive/My Drive/[MIRCV]FoodWebSearch/antonio-tests/Index_Test_3/leaves_5/01101_subset_1.npy\n",
            "\t\t\t\t\t/content/gdrive/My Drive/[MIRCV]FoodWebSearch/antonio-tests/Index_Test_3/leaves_5/01101_subset_2.npy\n",
            "\t\t\tid: 0111 ['img_23', [99, 22, 48, 79]]\n",
            "\t\t\t\tid: 01110 ['img_84', [56, 24, 31, 97]]\n",
            "\t\t\t\t\t/content/gdrive/My Drive/[MIRCV]FoodWebSearch/antonio-tests/Index_Test_3/leaves_5/01110_subset_1.npy\n",
            "\t\t\t\t\t/content/gdrive/My Drive/[MIRCV]FoodWebSearch/antonio-tests/Index_Test_3/leaves_5/01110_subset_2.npy\n",
            "\t\t\t\tid: 01111 ['img_51', [4, 62, 39, 89]]\n",
            "\t\t\t\t\t/content/gdrive/My Drive/[MIRCV]FoodWebSearch/antonio-tests/Index_Test_3/leaves_5/01111_subset_1.npy\n",
            "\t\t\t\t\t/content/gdrive/My Drive/[MIRCV]FoodWebSearch/antonio-tests/Index_Test_3/leaves_5/01111_subset_2.npy\n"
          ],
          "name": "stdout"
        }
      ]
    },
    {
      "cell_type": "code",
      "metadata": {
        "colab": {
          "base_uri": "https://localhost:8080/"
        },
        "id": "VVxpcVIN7vLm",
        "outputId": "299ff570-8c92-4cc3-a48f-93bd9b89980b"
      },
      "source": [
        "# Create Tree Test 4\n",
        "vantage_point_tree = VP_Tree(\"Index_Test_4\",4, disk_mode=True,leaves_path=TEST_PATH)\n",
        "vantage_point_tree.create_vptree(FEATURES_NAMES_TEST_1, FEATURES_PATH_TEST_1)\n",
        "result = VP_Tree.print_tree(vantage_point_tree.root, level=1, disk_mode=True)\n",
        "\n",
        "print(\"Result:\\n\" + result + \"\\n\")\n",
        "\n",
        "path = VP_Tree.save_vptree(os.path.join(TEST_PATH, index_name),vantage_point_tree)\n",
        "\n",
        "print(\"Saved on:\", path)\n",
        "\n",
        "tree_loaded = VP_Tree.load_vptree(path)\n",
        "\n",
        "print(\"\\nTree Loaded\\n\")\n",
        "result = VP_Tree.print_tree(tree_loaded.root, level=1)\n",
        "print(result)"
      ],
      "execution_count": null,
      "outputs": [
        {
          "output_type": "stream",
          "text": [
            "Number of data: 21\n",
            "The max height of the tree is: 3\n",
            "Building of the tree completed in: 0.1134183406829834 s\n",
            "Result:\n",
            "id: 0 ('img10', array([77, 61, 46]))\n",
            "\tid: 00 ('img9', array([15, 32, 22]))\n",
            "\t\tid: 000 ('img20', array([10, 31, 10]))\n",
            "\t\t\t/content/gdrive/My Drive/[MIRCV]FoodWebSearch/antonio-tests/Index_Test_4/leaves_3/000_subset_1.npy\n",
            "\t\t\t/content/gdrive/My Drive/[MIRCV]FoodWebSearch/antonio-tests/Index_Test_4/leaves_3/000_subset_2.npy\n",
            "\t\tid: 001 ('img16', array([ 1, 30, 60]))\n",
            "\t\t\t/content/gdrive/My Drive/[MIRCV]FoodWebSearch/antonio-tests/Index_Test_4/leaves_3/001_subset_1.npy\n",
            "\t\t\t/content/gdrive/My Drive/[MIRCV]FoodWebSearch/antonio-tests/Index_Test_4/leaves_3/001_subset_2.npy\n",
            "\tid: 01 ('img5', array([2, 6, 2]))\n",
            "\t\tid: 010 ('img1', array([2, 3, 6]))\n",
            "\t\t\t/content/gdrive/My Drive/[MIRCV]FoodWebSearch/antonio-tests/Index_Test_4/leaves_3/010_subset_1.npy\n",
            "\t\t\t/content/gdrive/My Drive/[MIRCV]FoodWebSearch/antonio-tests/Index_Test_4/leaves_3/010_subset_2.npy\n",
            "\t\tid: 011 ('img1', array([2, 3, 6]))\n",
            "\t\t\t/content/gdrive/My Drive/[MIRCV]FoodWebSearch/antonio-tests/Index_Test_4/leaves_3/011_subset_1.npy\n",
            "\t\t\t/content/gdrive/My Drive/[MIRCV]FoodWebSearch/antonio-tests/Index_Test_4/leaves_3/011_subset_2.npy\n",
            "\n",
            "File saved correctly in: /content/gdrive/My Drive/[MIRCV]FoodWebSearch/antonio-tests/Index_Test_1/Index_Test_4.json\n",
            "Saved on: /content/gdrive/My Drive/[MIRCV]FoodWebSearch/antonio-tests/Index_Test_1/Index_Test_4.json\n",
            "\n",
            "Tree Loaded\n",
            "\n",
            "id: 0 ['img10', [77, 61, 46]]\n",
            "\tid: 00 ['img9', [15, 32, 22]]\n",
            "\t\tid: 000 ['img20', [10, 31, 10]]\n",
            "\t\t\t/content/gdrive/My Drive/[MIRCV]FoodWebSearch/antonio-tests/Index_Test_4/leaves_3/000_subset_1.npy\n",
            "\t\t\t/content/gdrive/My Drive/[MIRCV]FoodWebSearch/antonio-tests/Index_Test_4/leaves_3/000_subset_2.npy\n",
            "\t\tid: 001 ['img16', [1, 30, 60]]\n",
            "\t\t\t/content/gdrive/My Drive/[MIRCV]FoodWebSearch/antonio-tests/Index_Test_4/leaves_3/001_subset_1.npy\n",
            "\t\t\t/content/gdrive/My Drive/[MIRCV]FoodWebSearch/antonio-tests/Index_Test_4/leaves_3/001_subset_2.npy\n",
            "\tid: 01 ['img5', [2, 6, 2]]\n",
            "\t\tid: 010 ['img1', [2, 3, 6]]\n",
            "\t\t\t/content/gdrive/My Drive/[MIRCV]FoodWebSearch/antonio-tests/Index_Test_4/leaves_3/010_subset_1.npy\n",
            "\t\t\t/content/gdrive/My Drive/[MIRCV]FoodWebSearch/antonio-tests/Index_Test_4/leaves_3/010_subset_2.npy\n",
            "\t\tid: 011 ['img1', [2, 3, 6]]\n",
            "\t\t\t/content/gdrive/My Drive/[MIRCV]FoodWebSearch/antonio-tests/Index_Test_4/leaves_3/011_subset_1.npy\n",
            "\t\t\t/content/gdrive/My Drive/[MIRCV]FoodWebSearch/antonio-tests/Index_Test_4/leaves_3/011_subset_2.npy\n"
          ],
          "name": "stdout"
        }
      ]
    },
    {
      "cell_type": "code",
      "metadata": {
        "colab": {
          "base_uri": "https://localhost:8080/"
        },
        "id": "t4bmN0CAd-vn",
        "outputId": "336b5667-4226-4c93-c3d6-f2ea5eb54c3e"
      },
      "source": [
        "# k-NN search Test 1\n",
        "vantage_point_tree = VP_Tree(\"Index_Test\",4)\n",
        "vantage_point_tree.create_vptree(FEATURES_NAMES_TEST_1, FEATURES_PATH_TEST_1)\n",
        "\n",
        "query = [0,1,1]\n",
        "k = 3\n",
        "\n",
        "nn, d_nn = vantage_point_tree.knn_search(k, query)\n",
        "\n",
        "print(\"Query:\", query)\n",
        "\n",
        "print(\"k-NN search on the tree\")\n",
        "print(\"Points:\", nn)\n",
        "print(\"Distances:\", d_nn)\n",
        "\n",
        "print(\"\\n\\nSequential Scan on the array\")\n",
        "data = np.load(FEATURES_PATH_TEST_1)\n",
        "distances = [d.euclidean(point, query) for point in data]\n",
        "zipped = sorted(zip(data, distances), key=lambda x:x[1])\n",
        "for element in zipped[0:3]:\n",
        "  print(element)\n"
      ],
      "execution_count": null,
      "outputs": [
        {
          "output_type": "stream",
          "text": [
            "Number of data: 21\n",
            "The max height of the tree is: 3\n",
            "Building of the tree completed in: 0.010810136795043945 s\n",
            "Query: [0, 1, 1]\n",
            "k-NN search on the tree\n",
            "Points: [('img0', array([0, 2, 1])), ('img6', array([1, 3, 1])), ('img6', array([1, 3, 1]))]\n",
            "Distances: [1.0, 2.23606797749979, 2.23606797749979]\n",
            "\n",
            "\n",
            "Sequential Scan on the array\n",
            "(array([0, 2, 1]), 1.0)\n",
            "(array([1, 3, 1]), 2.23606797749979)\n",
            "(array([5, 3, 2]), 5.477225575051661)\n"
          ],
          "name": "stdout"
        }
      ]
    },
    {
      "cell_type": "code",
      "metadata": {
        "colab": {
          "base_uri": "https://localhost:8080/"
        },
        "id": "k9LGhVZrbHbP",
        "outputId": "b1e1bac9-bc03-4d04-bb46-7ca524c01605"
      },
      "source": [
        "# k-NN search Test 2\n",
        "vantage_point_tree = VP_Tree(\"Index_Test_3\",4)\n",
        "vantage_point_tree.create_vptree(FEATURES_NAMES_TEST_2, FEATURES_PATH_TEST_2)\n",
        "\n",
        "query = [0,1,1]\n",
        "k = 3\n",
        "\n",
        "nn, d_nn = vantage_point_tree.knn_search(k, query)\n",
        "\n",
        "print(\"Query:\", query)\n",
        "\n",
        "print(\"k-NN search on the tree\")\n",
        "print(\"Points:\", nn)\n",
        "print(\"Distances:\", d_nn)\n",
        "\n",
        "print(\"\\n\\nSequential Scan on the array\")\n",
        "data = np.load(FEATURES_PATH_TEST_2)\n",
        "distances = [d.euclidean(point, query) for point in data]\n",
        "zipped = sorted(zip(data, distances), key=lambda x:x[1])\n",
        "for element in zipped[0:3]:\n",
        "  print(element)"
      ],
      "execution_count": null,
      "outputs": [
        {
          "output_type": "stream",
          "text": [
            "Number of data: 30\n",
            "The max height of the tree is: 3\n",
            "Building of the tree completed in: 0.010728597640991211 s\n",
            "Query: [0, 1, 1]\n",
            "k-NN search on the tree\n",
            "Points: [('img_10', array([ 4.,  9., 22.])), ('img_10', array([ 4.,  9., 22.])), ('img_24', array([26.,  3., 10.]))]\n",
            "Distances: [22.825424421026653, 22.825424421026653, 27.586228448267445]\n",
            "\n",
            "\n",
            "Sequential Scan on the array\n",
            "(array([ 4.,  9., 22.]), 22.825424421026653)\n",
            "(array([26.,  3., 10.]), 27.586228448267445)\n",
            "(array([32., 13.,  6.]), 34.539832078341085)\n"
          ],
          "name": "stdout"
        }
      ]
    },
    {
      "cell_type": "code",
      "metadata": {
        "colab": {
          "base_uri": "https://localhost:8080/"
        },
        "id": "quqZYIX2dBiP",
        "outputId": "91c57bab-a973-4819-ad76-62db257c9b88"
      },
      "source": [
        "# k-NN search Test 3\n",
        "vantage_point_tree = VP_Tree(\"Index_Test_3\",4)\n",
        "vantage_point_tree.create_vptree(FEATURES_NAMES_TEST_3, FEATURES_PATH_TEST_3)\n",
        "\n",
        "query = [0,1,1,2]\n",
        "k = 6\n",
        "\n",
        "nn, d_nn = vantage_point_tree.knn_search(k, query)\n",
        "\n",
        "print(\"Query:\", query)\n",
        "\n",
        "print(\"k-NN search on the tree\")\n",
        "print(\"Points:\", nn)\n",
        "print(\"Distances:\", d_nn)\n",
        "\n",
        "print(\"\\n\\nSequential Scan on the array\")\n",
        "data = np.load(FEATURES_PATH_TEST_3)\n",
        "distances = [d.euclidean(point, query) for point in data]\n",
        "zipped = sorted(zip(data, distances), key=lambda x:x[1])\n",
        "for element in zipped[0:k]:\n",
        "  print(element)"
      ],
      "execution_count": null,
      "outputs": [
        {
          "output_type": "stream",
          "text": [
            "Number of data: 100\n",
            "The max height of the tree is: 5\n",
            "Building of the tree completed in: 0.02128148078918457 s\n",
            "Query: [0, 1, 1, 2]\n",
            "k-NN search on the tree\n",
            "Points: [('img_45', array([11, 29, 18, 31])), ('img_43', array([51,  4, 25,  8])), ('img_93', array([12, 19, 14, 64])), ('img_83', array([38,  2, 36, 51])), ('img_47', array([ 4, 69, 25, 28])), ('img_91', array([50, 20, 29, 52]))]\n",
            "Distances: [45.110974274559844, 56.7626637852735, 66.94027188471824, 71.21095421351971, 76.75936424958195, 78.39005038906404]\n",
            "\n",
            "\n",
            "Sequential Scan on the array\n",
            "(array([14, 26, 10, 15]), 32.72613634390714)\n",
            "(array([ 2, 17, 25, 31]), 40.95119045888654)\n",
            "(array([11, 29, 18, 31]), 45.110974274559844)\n",
            "(array([20, 28, 34, 12]), 48.14561246884289)\n",
            "(array([10, 31, 30, 25]), 48.68264577855234)\n",
            "(array([33, 13, 16, 34]), 49.8196748283246)\n"
          ],
          "name": "stdout"
        }
      ]
    },
    {
      "cell_type": "code",
      "metadata": {
        "colab": {
          "base_uri": "https://localhost:8080/"
        },
        "id": "VhmQUKk7OTee",
        "outputId": "a833f11b-9361-4093-bbbf-2108e51508af"
      },
      "source": [
        "#k-NN search Test 4\n",
        "vantage_point_tree = VP_Tree(\"Index_Test_3\",4, disk_mode=True)\n",
        "vantage_point_tree.create_vptree(FEATURES_NAMES_TEST_3, FEATURES_PATH_TEST_3)\n",
        "\n",
        "query = [0,1,1,2]\n",
        "k = 6\n",
        "\n",
        "nn, d_nn = vantage_point_tree.knn_search(k, query)\n",
        "\n",
        "print(\"Query:\", query)\n",
        "\n",
        "print(\"k-NN search on the tree\")\n",
        "print(\"Points:\", nn)\n",
        "print(\"Distances:\", d_nn)\n",
        "\n",
        "print(\"\\n\\nSequential Scan on the array\")\n",
        "data = np.load(FEATURES_PATH_TEST_3)\n",
        "distances = [d.euclidean(point, query) for point in data]\n",
        "zipped = sorted(zip(data, distances), key=lambda x:x[1])\n",
        "for element in zipped[0:k]:\n",
        "  print(element)"
      ],
      "execution_count": null,
      "outputs": [
        {
          "output_type": "stream",
          "text": [
            "Number of data: 100\n",
            "The minimum height of the tree is: 5\n",
            "Level n.1\n",
            "Level n.2\n",
            "Level n.3\n",
            "Level n.3\n",
            "Level n.2\n",
            "Level n.3\n",
            "Level n.3\n",
            "Building of the tree completed\n",
            "\n",
            "Query: [0, 1, 1, 2]\n",
            "k-NN search on the tree\n",
            "Points: [array(['img_95', array([14, 26, 10, 15])], dtype=object), array(['img_75', array([ 2, 17, 25, 31])], dtype=object), array(['img_45', array([11, 29, 18, 31])], dtype=object), array(['img_20', array([20, 28, 34, 12])], dtype=object), array(['img_80', array([10, 31, 30, 25])], dtype=object), array(['img_93', array([12, 19, 14, 64])], dtype=object)]\n",
            "Distances: [32.72613634390714, 40.95119045888654, 45.110974274559844, 48.14561246884289, 48.68264577855234, 66.94027188471824]\n",
            "\n",
            "\n",
            "Sequential Scan on the array\n",
            "(array([14, 26, 10, 15]), 32.72613634390714)\n",
            "(array([ 2, 17, 25, 31]), 40.95119045888654)\n",
            "(array([11, 29, 18, 31]), 45.110974274559844)\n",
            "(array([20, 28, 34, 12]), 48.14561246884289)\n",
            "(array([10, 31, 30, 25]), 48.68264577855234)\n",
            "(array([33, 13, 16, 34]), 49.8196748283246)\n"
          ],
          "name": "stdout"
        }
      ]
    },
    {
      "cell_type": "markdown",
      "metadata": {
        "id": "_uqx0bmMrNGl"
      },
      "source": [
        "#Deployment"
      ]
    },
    {
      "cell_type": "code",
      "metadata": {
        "id": "og1n-0H5rSrM",
        "colab": {
          "base_uri": "https://localhost:8080/"
        },
        "outputId": "32e8006c-a127-4d80-b010-cf70478cbe2a"
      },
      "source": [
        "vantage_point_tree = VP_Tree(\"index\",height=10, disk_mode=True, leaves_path=INDEX_DIR)\n",
        "vantage_point_tree.create_vptree(ID_DEPLOYMENT, FEATURES_DEPLOYMENT)\n",
        "\n",
        "index_name = vantage_point_tree.index_name\n",
        "root_node = vantage_point_tree.root\n",
        "\n",
        "dest_folder = os.path.join(INDEX_DIR, index_name)\n",
        "print(\"Destination Folder: \", dest_folder)\n",
        "\n",
        "VP_Tree.save_vptree(dest_folder,root_node, index_name)"
      ],
      "execution_count": null,
      "outputs": [
        {
          "output_type": "stream",
          "text": [
            "Number of data: 125997\n",
            "The max height of the tree is: 15\n",
            "Building of the tree completed in: 50.66044521331787 s\n",
            "Destination Folder:  /content/gdrive/MyDrive/[MIRCV]FoodWebSearch/deployment/index\n",
            "/content/gdrive/MyDrive/[MIRCV]FoodWebSearch/deployment/index/index.json\n",
            "File saved correctly in: /content/gdrive/MyDrive/[MIRCV]FoodWebSearch/deployment/index/index.json\n"
          ],
          "name": "stdout"
        }
      ]
    },
    {
      "cell_type": "code",
      "metadata": {
        "colab": {
          "base_uri": "https://localhost:8080/"
        },
        "id": "7C0709azIRNJ",
        "outputId": "c250be2f-14cf-43ba-874f-22d243c74422"
      },
      "source": [
        "dir = os.path.join(INDEX_DIR,vantage_point_tree.index_name)\n",
        "dir = os.path.join(dir, \"leaves\")\n",
        "leaf = np.load(os.path.join(dir, \"1111111111_subset_1.npy\"), allow_pickle=True)\n",
        "print(\"Objects per leaf:\", len(leaf))"
      ],
      "execution_count": null,
      "outputs": [
        {
          "output_type": "stream",
          "text": [
            "123\n"
          ],
          "name": "stdout"
        }
      ]
    },
    {
      "cell_type": "code",
      "metadata": {
        "colab": {
          "base_uri": "https://localhost:8080/"
        },
        "id": "Vw6gopS-pEWA",
        "outputId": "6d78d768-64e4-48d6-9957-7ce80144c616"
      },
      "source": [
        "query = [0 for _ in range(1280)]\n",
        "start = time.time()\n",
        "result = vantage_point_tree.knn_search(k=10, query=query)\n",
        "end = time.time()\n",
        "k_images = [element[0] for element in result[0]]\n",
        "print(k_images)\n",
        "print(\"Ricerca effettuata in:\", end - start, \"s\")"
      ],
      "execution_count": null,
      "outputs": [
        {
          "output_type": "stream",
          "text": [
            "['2349671.jpg', '3225309.jpg', 'im23383.jpg', 'im22608.jpg', 'im16693.jpg', '3203335.jpg', '2899260.jpg', 'im11003.jpg', 'im17515.jpg', '3558217.jpg']\n",
            "Ricerca effettuata in: 72.44012117385864 s\n"
          ],
          "name": "stdout"
        }
      ]
    }
  ]
}