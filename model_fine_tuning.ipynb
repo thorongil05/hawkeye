{
  "nbformat": 4,
  "nbformat_minor": 0,
  "metadata": {
    "colab": {
      "name": "model_fine_tuning.ipynb",
      "provenance": [],
      "collapsed_sections": []
    },
    "kernelspec": {
      "name": "python3",
      "display_name": "Python 3"
    },
    "accelerator": "GPU"
  },
  "cells": [
    {
      "cell_type": "markdown",
      "metadata": {
        "id": "lBqmGHuw2WAd"
      },
      "source": [
        "# Introduction\n",
        "\n",
        "This notebook describes the fine-tuning process of CNN. The base network is the [MovibleNetV2](https://ai.googleblog.com/2018/04/mobilenetv2-next-generation-of-on.html)."
      ]
    },
    {
      "cell_type": "markdown",
      "metadata": {
        "id": "oCTMF2wWz9iH"
      },
      "source": [
        "# Data upload\n",
        "\n",
        "The dataset needs to be on the Colab virtual machine. Use a dataset located in Google Drive will result in a slow training process because the virtual machine needs to request and transfer the data from Google Drive during the training process."
      ]
    },
    {
      "cell_type": "code",
      "metadata": {
        "id": "NlL-mFa1N5jE",
        "colab": {
          "base_uri": "https://localhost:8080/"
        },
        "outputId": "0805b38e-8e7d-4407-a073-0fe456d8195b"
      },
      "source": [
        "from google.colab import drive\n",
        "drive.mount('/content/gdrive')"
      ],
      "execution_count": null,
      "outputs": [
        {
          "output_type": "stream",
          "text": [
            "Mounted at /content/gdrive\n"
          ],
          "name": "stdout"
        }
      ]
    },
    {
      "cell_type": "markdown",
      "metadata": {
        "id": "7WH71wutNN2Q"
      },
      "source": [
        "The dataset is on Google Drive as a zip file and then copied into the virtual machine."
      ]
    },
    {
      "cell_type": "code",
      "metadata": {
        "id": "xTZGFP8roLWe"
      },
      "source": [
        "!cp '/content/gdrive/MyDrive/[MIRCV]FoodWebSearch/food.zip' .\r\n",
        "!unzip -q food.zip\r\n",
        "!rm food.zip"
      ],
      "execution_count": null,
      "outputs": []
    },
    {
      "cell_type": "markdown",
      "metadata": {
        "id": "UWy48MSQ0VGV"
      },
      "source": [
        "# Initialization\n",
        "\n",
        "The dataset directory has the following structure:\n",
        "\n",
        "```\n",
        "images/\n",
        "...class_a/\n",
        "......image_1.jpg\n",
        "......image_2.jpg\n",
        "...class_b/\n",
        "......image_3.jpg\n",
        "......image_4.jpg\n",
        "```\n",
        "\n",
        "To train and test the model, we need three subsets: train, test and validation. To split the dataset, we use the [split-folder](https://pypi.org/project/split-folders/) package."
      ]
    },
    {
      "cell_type": "code",
      "metadata": {
        "id": "tkOT2VvdP4xp",
        "colab": {
          "base_uri": "https://localhost:8080/"
        },
        "outputId": "aa658904-44f3-4fc5-e7cb-ef6d1b2d5c19"
      },
      "source": [
        "!pip install split-folders tqdm"
      ],
      "execution_count": null,
      "outputs": [
        {
          "output_type": "stream",
          "text": [
            "Collecting split-folders\n",
            "  Downloading https://files.pythonhosted.org/packages/b8/5f/3c2b2f7ea5e047c8cdc3bb00ae582c5438fcdbbedcc23b3cc1c2c7aae642/split_folders-0.4.3-py3-none-any.whl\n",
            "Requirement already satisfied: tqdm in /usr/local/lib/python3.6/dist-packages (4.41.1)\n",
            "Installing collected packages: split-folders\n",
            "Successfully installed split-folders-0.4.3\n"
          ],
          "name": "stdout"
        }
      ]
    },
    {
      "cell_type": "markdown",
      "metadata": {
        "id": "BaK28SF5NlYI"
      },
      "source": [
        "The training of a CNN on CPU could be unfeasible, so we check if the GPU hardware acceleration is active for the notebook."
      ]
    },
    {
      "cell_type": "code",
      "metadata": {
        "id": "b_h7o5f8Icu7",
        "colab": {
          "base_uri": "https://localhost:8080/"
        },
        "outputId": "21c31ac2-05a6-43c5-bd6a-675902fe2937"
      },
      "source": [
        "import os\n",
        "import tensorflow as tf\n",
        "import matplotlib.pyplot as plt\n",
        "import splitfolders\n",
        "\n",
        "# constants\n",
        "DATA_DIR = '/content/food-101/images'\n",
        "SETS_DIR = '/content/sets'\n",
        "BATCH_SIZE = 256\n",
        "\n",
        "# check hardware acceleration\n",
        "device_name = tf.test.gpu_device_name()\n",
        "print('GPU: ', device_name)"
      ],
      "execution_count": null,
      "outputs": [
        {
          "output_type": "stream",
          "text": [
            "GPU:  /device:GPU:0\n"
          ],
          "name": "stdout"
        }
      ]
    },
    {
      "cell_type": "markdown",
      "metadata": {
        "id": "fPWVaLebNnhb"
      },
      "source": [
        "It may happen that, during the unzip process, some image gets corrupted. A corrupted image will give an error during the training process, so we need to remove it. We used a piece of code from the Keras documentation slightly modified. It deletes the mac configuration file and the corrupted images."
      ]
    },
    {
      "cell_type": "code",
      "metadata": {
        "id": "e6h_0w_g6Rfc",
        "colab": {
          "base_uri": "https://localhost:8080/"
        },
        "outputId": "29b4cd99-d330-40e2-e37a-d9002e5ee0cc"
      },
      "source": [
        "# remove corrupted images\n",
        "num_skipped = 0\n",
        "for folder_name in os.listdir(DATA_DIR):\n",
        "    if folder_name == '.DS_Store':\n",
        "      ds_store = os.path.join(DATA_DIR, folder_name)\n",
        "      os.remove(ds_store)\n",
        "      print(\"Removed: \", ds_store)\n",
        "    else:\n",
        "      folder_path = os.path.join(DATA_DIR, folder_name)\n",
        "      for fname in os.listdir(folder_path):\n",
        "        fpath = os.path.join(folder_path, fname)\n",
        "        try:\n",
        "          fobj = open(fpath, \"rb\")\n",
        "          is_jfif = tf.compat.as_bytes(\"JFIF\") in fobj.peek(10)\n",
        "        finally:\n",
        "          fobj.close()\n",
        "        if not is_jfif:\n",
        "            num_skipped += 1\n",
        "            os.remove(fpath)\n",
        "            print(\"Removed: \", fpath)\n",
        "\n",
        "print(\"Removed %d images\" % num_skipped)"
      ],
      "execution_count": null,
      "outputs": [
        {
          "output_type": "stream",
          "text": [
            "Removed:  /content/food-101/images/.DS_Store\n",
            "Removed 0 images\n"
          ],
          "name": "stdout"
        }
      ]
    },
    {
      "cell_type": "markdown",
      "metadata": {
        "id": "AKUf5L7sNveu"
      },
      "source": [
        "We split the dataset into train, validation and test set. We use seventy per cent of images for the training set, fifteen per cent for the validation set and fifteen per cent for the test set."
      ]
    },
    {
      "cell_type": "code",
      "metadata": {
        "id": "BWrar6u3QJ85",
        "colab": {
          "base_uri": "https://localhost:8080/"
        },
        "outputId": "eb019024-2a15-4706-bfc3-9655757c2c4e"
      },
      "source": [
        "# split data\n",
        "splitfolders.ratio(DATA_DIR, output=SETS_DIR, seed=123, ratio=(.7, .15, .15), group_prefix=None)"
      ],
      "execution_count": null,
      "outputs": [
        {
          "output_type": "stream",
          "text": [
            "Copying files: 101000 files [02:10, 773.35 files/s]\n"
          ],
          "name": "stderr"
        }
      ]
    },
    {
      "cell_type": "markdown",
      "metadata": {
        "id": "wdYhwxOGNyuU"
      },
      "source": [
        "We use the 'image_dataset_from_directory' function to create a Dataset object directly from the image directory. We take the class labels from the directory structure and transform them into integers to use them in the sparse categorical cross-entropy loss. We use buffered prefetching to yield data from disk without having I/O becoming blocking."
      ]
    },
    {
      "cell_type": "code",
      "metadata": {
        "id": "fKibBhfUTP1G",
        "colab": {
          "base_uri": "https://localhost:8080/"
        },
        "outputId": "1bcbf235-ed43-4036-b061-19465a4628fb"
      },
      "source": [
        "train = SETS_DIR + '/train/'\r\n",
        "val = SETS_DIR + '/val/'\r\n",
        "test = SETS_DIR + '/test/'\r\n",
        "\r\n",
        "train_set = tf.keras.preprocessing.image_dataset_from_directory(\r\n",
        "    train,\r\n",
        "    labels='inferred',\r\n",
        "    label_mode='int',\r\n",
        "    seed=123,\r\n",
        "    shuffle=True,\r\n",
        "    image_size=(224, 224),\r\n",
        "    batch_size=BATCH_SIZE)\r\n",
        "\r\n",
        "val_set = tf.keras.preprocessing.image_dataset_from_directory(\r\n",
        "    val,\r\n",
        "    labels='inferred',\r\n",
        "    label_mode='int',\r\n",
        "    seed=123,\r\n",
        "    shuffle=True, \r\n",
        "    image_size=(224, 224),\r\n",
        "    batch_size=BATCH_SIZE)\r\n",
        "\r\n",
        "test_set = tf.keras.preprocessing.image_dataset_from_directory(\r\n",
        "    test,\r\n",
        "    labels='inferred',\r\n",
        "    label_mode='int',\r\n",
        "    seed=123,\r\n",
        "    shuffle=True,\r\n",
        "    image_size=(224, 224),\r\n",
        "    batch_size=BATCH_SIZE)\r\n",
        "\r\n",
        "# use buffered prefetching so we can yield data \r\n",
        "# from disk without having I/O becoming blocking\r\n",
        "train_set = train_set.prefetch(buffer_size=BATCH_SIZE)\r\n",
        "val_set = val_set.prefetch(buffer_size=BATCH_SIZE)\r\n",
        "test_set = test_set.prefetch(buffer_size=BATCH_SIZE)"
      ],
      "execution_count": null,
      "outputs": [
        {
          "output_type": "stream",
          "text": [
            "Found 70700 files belonging to 101 classes.\n",
            "Found 15150 files belonging to 101 classes.\n",
            "Found 15150 files belonging to 101 classes.\n"
          ],
          "name": "stdout"
        }
      ]
    },
    {
      "cell_type": "markdown",
      "metadata": {
        "id": "5ZduumH-N2Ep"
      },
      "source": [
        "The MobileNetV2 needs input images with pixel normalized in [-1;1] (they vary in [0;255]) and size 224x224. To normalize the images, we use the function taken from exercise 6 of the laboratory."
      ]
    },
    {
      "cell_type": "code",
      "metadata": {
        "id": "Zq1_Aq1WmwAX"
      },
      "source": [
        "def preprocess(images, labels):\r\n",
        "  images = tf.keras.applications.mobilenet_v2.preprocess_input(images)\r\n",
        "  return images, labels\r\n",
        "  \r\n",
        "train_set = train_set.map(preprocess, deterministic=True)\r\n",
        "val_set = val_set.map(preprocess, deterministic=True)\r\n",
        "test_set = test_set.map(preprocess, deterministic=True)\r\n"
      ],
      "execution_count": null,
      "outputs": []
    },
    {
      "cell_type": "markdown",
      "metadata": {
        "id": "IRpHNZJG0uU9"
      },
      "source": [
        "# Training\n",
        "\n",
        "The CNN has as base network the MobileNetV2 and an MLP with one hidden layer for classification. To use the pre-trained MobileNetV2, we load it removing the fully-connected layer on top.\n",
        "Since the classification task is a multi-class classification problem with 101 classes, the output layer has 101 neurons with softmax activation function. To avoid overfitting, we use data augmentation. We perform data augmentation directly into the network using the first two layers that are active only during training. Furthermore, we apply global average pooling to the MobileNetV2."
      ]
    },
    {
      "cell_type": "code",
      "metadata": {
        "id": "eMjPQmQ6NqkR",
        "colab": {
          "base_uri": "https://localhost:8080/"
        },
        "outputId": "df8b4c64-14d5-4241-cf46-1f8b5b1a49b3"
      },
      "source": [
        "mobilenetv2 = tf.keras.applications.MobileNetV2(\r\n",
        "    weights='imagenet',\r\n",
        "    include_top=False,\r\n",
        "    input_shape=(224,224,3),\r\n",
        ")\r\n",
        "\r\n",
        "mobilenetv2.trainable = False\r\n",
        "\r\n",
        "model = tf.keras.models.Sequential([\r\n",
        "  # data augmentation\r\n",
        "  tf.keras.Input(shape=(224,224,3)),\r\n",
        "  tf.keras.layers.experimental.preprocessing.RandomFlip(mode='horizontal', seed=123),\r\n",
        "  tf.keras.layers.experimental.preprocessing.RandomRotation(factor=0.2, seed=123, fill_mode='nearest'),\r\n",
        "\r\n",
        "  # basenet\r\n",
        "  mobilenetv2,\r\n",
        "  tf.keras.layers.GlobalAveragePooling2D(),\r\n",
        "\r\n",
        "  # classifier\r\n",
        "  tf.keras.layers.Dense(256, activation='relu', name='dense_hidden'),\r\n",
        "  tf.keras.layers.Dense(101, activation='softmax', name='output')\r\n",
        "\r\n",
        "], name='food_classifier')\r\n",
        "\r\n",
        "model.summary()"
      ],
      "execution_count": null,
      "outputs": [
        {
          "output_type": "stream",
          "text": [
            "Downloading data from https://storage.googleapis.com/tensorflow/keras-applications/mobilenet_v2/mobilenet_v2_weights_tf_dim_ordering_tf_kernels_1.0_224_no_top.h5\n",
            "9412608/9406464 [==============================] - 0s 0us/step\n",
            "Model: \"food_classifier\"\n",
            "_________________________________________________________________\n",
            "Layer (type)                 Output Shape              Param #   \n",
            "=================================================================\n",
            "random_flip (RandomFlip)     (None, 224, 224, 3)       0         \n",
            "_________________________________________________________________\n",
            "random_rotation (RandomRotat (None, 224, 224, 3)       0         \n",
            "_________________________________________________________________\n",
            "mobilenetv2_1.00_224 (Functi (None, 7, 7, 1280)        2257984   \n",
            "_________________________________________________________________\n",
            "global_average_pooling2d (Gl (None, 1280)              0         \n",
            "_________________________________________________________________\n",
            "dense_hidden (Dense)         (None, 256)               327936    \n",
            "_________________________________________________________________\n",
            "output (Dense)               (None, 101)               25957     \n",
            "=================================================================\n",
            "Total params: 2,611,877\n",
            "Trainable params: 353,893\n",
            "Non-trainable params: 2,257,984\n",
            "_________________________________________________________________\n"
          ],
          "name": "stdout"
        }
      ]
    },
    {
      "cell_type": "markdown",
      "metadata": {
        "id": "x6LUlOL9dfPW"
      },
      "source": [
        "We perform the training in two steps: first, we freeze the base network and train the classifier, then we un-freeze the last two blocks of the base network to fine-tune them. The MLP has random weights. Hence, the two-step training avoids destroying the pre-trained layers backpropagating large errors.\n",
        "\n",
        "To train the model, we use the sparse categorical cross-entropy loss and the RMSprop optimizer. We perform early stopping to stop the training when the validation loss stops to improve, saving the model with the best validation accuracy."
      ]
    },
    {
      "cell_type": "code",
      "metadata": {
        "id": "7l_XcKWmYjzZ",
        "colab": {
          "base_uri": "https://localhost:8080/"
        },
        "outputId": "11f6c413-7b14-472c-855f-8e698f260842"
      },
      "source": [
        "model.compile(loss='sparse_categorical_crossentropy',\r\n",
        "              optimizer=tf.keras.optimizers.RMSprop(learning_rate=1e-4, momentum=0.7),\r\n",
        "              metrics=['accuracy'])\r\n",
        "\r\n",
        "callbacks = [\r\n",
        "    # early stopping\r\n",
        "    tf.keras.callbacks.EarlyStopping(\r\n",
        "        monitor='val_loss', \r\n",
        "        patience=2,\r\n",
        "        restore_best_weights=True),\r\n",
        "\r\n",
        "    # model checkpoints (save the best model)\r\n",
        "    tf.keras.callbacks.ModelCheckpoint(\r\n",
        "        monitor='val_accuracy',\r\n",
        "        save_best_only=True,\r\n",
        "        mode='max',\r\n",
        "        filepath='/content/gdrive/MyDrive/model/food_classifier.h5'),\r\n",
        "]\r\n",
        "\r\n",
        "history = model.fit(\r\n",
        "      train_set,\r\n",
        "      epochs=100,\r\n",
        "      verbose=1,\r\n",
        "      callbacks=callbacks,\r\n",
        "      validation_data=val_set,\r\n",
        "      batch_size=BATCH_SIZE)"
      ],
      "execution_count": null,
      "outputs": [
        {
          "output_type": "stream",
          "text": [
            "Epoch 1/100\n",
            "277/277 [==============================] - 291s 986ms/step - loss: 3.5405 - accuracy: 0.2194 - val_loss: 2.1116 - val_accuracy: 0.4724\n",
            "Epoch 2/100\n",
            "277/277 [==============================] - 278s 981ms/step - loss: 2.0714 - accuracy: 0.4855 - val_loss: 1.8599 - val_accuracy: 0.5300\n",
            "Epoch 3/100\n",
            "277/277 [==============================] - 261s 920ms/step - loss: 1.8676 - accuracy: 0.5256 - val_loss: 1.7764 - val_accuracy: 0.5466\n",
            "Epoch 4/100\n",
            "277/277 [==============================] - 245s 869ms/step - loss: 1.7605 - accuracy: 0.5524 - val_loss: 1.7345 - val_accuracy: 0.5548\n",
            "Epoch 5/100\n",
            "277/277 [==============================] - 214s 756ms/step - loss: 1.6954 - accuracy: 0.5654 - val_loss: 1.6929 - val_accuracy: 0.5654\n",
            "Epoch 6/100\n",
            "277/277 [==============================] - 212s 752ms/step - loss: 1.6463 - accuracy: 0.5760 - val_loss: 1.6735 - val_accuracy: 0.5679\n",
            "Epoch 7/100\n",
            "277/277 [==============================] - 213s 754ms/step - loss: 1.6010 - accuracy: 0.5853 - val_loss: 1.6439 - val_accuracy: 0.5791\n",
            "Epoch 8/100\n",
            "277/277 [==============================] - 212s 752ms/step - loss: 1.5628 - accuracy: 0.5954 - val_loss: 1.6317 - val_accuracy: 0.5828\n",
            "Epoch 9/100\n",
            "277/277 [==============================] - 213s 753ms/step - loss: 1.5304 - accuracy: 0.6024 - val_loss: 1.6296 - val_accuracy: 0.5828\n",
            "Epoch 10/100\n",
            "277/277 [==============================] - 212s 751ms/step - loss: 1.5076 - accuracy: 0.6083 - val_loss: 1.6299 - val_accuracy: 0.5846\n",
            "Epoch 11/100\n",
            "277/277 [==============================] - 212s 751ms/step - loss: 1.4856 - accuracy: 0.6122 - val_loss: 1.6180 - val_accuracy: 0.5852\n",
            "Epoch 12/100\n",
            "277/277 [==============================] - 212s 752ms/step - loss: 1.4567 - accuracy: 0.6174 - val_loss: 1.6163 - val_accuracy: 0.5843\n",
            "Epoch 13/100\n",
            "277/277 [==============================] - 211s 747ms/step - loss: 1.4347 - accuracy: 0.6212 - val_loss: 1.6097 - val_accuracy: 0.5856\n",
            "Epoch 14/100\n",
            "277/277 [==============================] - 211s 746ms/step - loss: 1.4220 - accuracy: 0.6226 - val_loss: 1.6198 - val_accuracy: 0.5824\n",
            "Epoch 15/100\n",
            "277/277 [==============================] - 211s 749ms/step - loss: 1.4096 - accuracy: 0.6276 - val_loss: 1.5920 - val_accuracy: 0.5904\n",
            "Epoch 16/100\n",
            "277/277 [==============================] - 211s 747ms/step - loss: 1.3895 - accuracy: 0.6329 - val_loss: 1.5998 - val_accuracy: 0.5886\n",
            "Epoch 17/100\n",
            "277/277 [==============================] - 212s 750ms/step - loss: 1.3705 - accuracy: 0.6361 - val_loss: 1.6074 - val_accuracy: 0.5871\n"
          ],
          "name": "stdout"
        }
      ]
    },
    {
      "cell_type": "markdown",
      "metadata": {
        "id": "J5fEl3yJiRt6"
      },
      "source": [
        "To fine-tune the network, we un-freeze the last two blocks of the base network, that gives us a slightly better result in terms of validation accuracy."
      ]
    },
    {
      "cell_type": "code",
      "metadata": {
        "id": "aGcZkx031Gl9",
        "colab": {
          "base_uri": "https://localhost:8080/"
        },
        "outputId": "18222d1d-32e3-4ac5-898e-707d9f3a509b"
      },
      "source": [
        "# unfreeze the last block of the MobileNetV2\n",
        "mobilenetv2.trainable = True\n",
        "\n",
        "train = False\n",
        "for layer in mobilenetv2.layers:\n",
        "    if layer.name == 'block_15_expand':\n",
        "        train = True\n",
        "    if train:\n",
        "        layer.trainable = True\n",
        "    else:\n",
        "        layer.trainable = False\n",
        "\n",
        "model.summary()"
      ],
      "execution_count": null,
      "outputs": [
        {
          "output_type": "stream",
          "text": [
            "Model: \"food_classifier\"\n",
            "_________________________________________________________________\n",
            "Layer (type)                 Output Shape              Param #   \n",
            "=================================================================\n",
            "random_flip (RandomFlip)     (None, 224, 224, 3)       0         \n",
            "_________________________________________________________________\n",
            "random_rotation (RandomRotat (None, 224, 224, 3)       0         \n",
            "_________________________________________________________________\n",
            "mobilenetv2_1.00_224 (Functi (None, 7, 7, 1280)        2257984   \n",
            "_________________________________________________________________\n",
            "global_average_pooling2d (Gl (None, 1280)              0         \n",
            "_________________________________________________________________\n",
            "dense_hidden (Dense)         (None, 256)               327936    \n",
            "_________________________________________________________________\n",
            "output (Dense)               (None, 101)               25957     \n",
            "=================================================================\n",
            "Total params: 2,611,877\n",
            "Trainable params: 1,559,973\n",
            "Non-trainable params: 1,051,904\n",
            "_________________________________________________________________\n"
          ],
          "name": "stdout"
        }
      ]
    },
    {
      "cell_type": "markdown",
      "metadata": {
        "id": "vpKKT9GviyMu"
      },
      "source": [
        "We perform the fine-tuning with a somewhat lower learning rate to withdraw overfitting. We do again early stopping."
      ]
    },
    {
      "cell_type": "code",
      "metadata": {
        "id": "SvzVUVksSZEc",
        "colab": {
          "base_uri": "https://localhost:8080/"
        },
        "outputId": "e7a8afc4-f829-4bb5-b708-98513ad2058e"
      },
      "source": [
        "model.compile(loss='sparse_categorical_crossentropy',\n",
        "              optimizer=tf.keras.optimizers.RMSprop(lr=1e-5, momentum=0.7),\n",
        "              metrics=['accuracy'])\n",
        "\n",
        "ft_history = model.fit(\n",
        "      train_set,\n",
        "      epochs=100,\n",
        "      verbose=1,\n",
        "      callbacks=callbacks,\n",
        "      validation_data=val_set,\n",
        "      batch_size=BATCH_SIZE\n",
        ")"
      ],
      "execution_count": null,
      "outputs": [
        {
          "output_type": "stream",
          "text": [
            "Epoch 1/100\n",
            "277/277 [==============================] - 219s 764ms/step - loss: 1.9048 - accuracy: 0.5195 - val_loss: 1.7158 - val_accuracy: 0.5743\n",
            "Epoch 2/100\n",
            "277/277 [==============================] - 215s 763ms/step - loss: 1.4501 - accuracy: 0.6190 - val_loss: 1.6365 - val_accuracy: 0.5933\n",
            "Epoch 3/100\n",
            "277/277 [==============================] - 216s 766ms/step - loss: 1.3258 - accuracy: 0.6480 - val_loss: 1.5889 - val_accuracy: 0.6026\n",
            "Epoch 4/100\n",
            "277/277 [==============================] - 215s 762ms/step - loss: 1.2561 - accuracy: 0.6642 - val_loss: 1.5373 - val_accuracy: 0.6152\n",
            "Epoch 5/100\n",
            "277/277 [==============================] - 215s 760ms/step - loss: 1.2032 - accuracy: 0.6797 - val_loss: 1.4917 - val_accuracy: 0.6218\n",
            "Epoch 6/100\n",
            "277/277 [==============================] - 215s 763ms/step - loss: 1.1433 - accuracy: 0.6938 - val_loss: 1.4718 - val_accuracy: 0.6305\n",
            "Epoch 7/100\n",
            "277/277 [==============================] - 217s 767ms/step - loss: 1.1047 - accuracy: 0.7017 - val_loss: 1.4597 - val_accuracy: 0.6342\n",
            "Epoch 8/100\n",
            "277/277 [==============================] - 216s 763ms/step - loss: 1.0713 - accuracy: 0.7113 - val_loss: 1.4394 - val_accuracy: 0.6386\n",
            "Epoch 9/100\n",
            "277/277 [==============================] - 216s 764ms/step - loss: 1.0284 - accuracy: 0.7248 - val_loss: 1.4137 - val_accuracy: 0.6440\n",
            "Epoch 10/100\n",
            "277/277 [==============================] - 215s 762ms/step - loss: 1.0014 - accuracy: 0.7303 - val_loss: 1.3945 - val_accuracy: 0.6488\n",
            "Epoch 11/100\n",
            "277/277 [==============================] - 215s 762ms/step - loss: 0.9713 - accuracy: 0.7346 - val_loss: 1.3689 - val_accuracy: 0.6525\n",
            "Epoch 12/100\n",
            "277/277 [==============================] - 216s 763ms/step - loss: 0.9356 - accuracy: 0.7461 - val_loss: 1.3567 - val_accuracy: 0.6541\n",
            "Epoch 13/100\n",
            "277/277 [==============================] - 217s 768ms/step - loss: 0.9113 - accuracy: 0.7489 - val_loss: 1.3506 - val_accuracy: 0.6572\n",
            "Epoch 14/100\n",
            "277/277 [==============================] - 217s 768ms/step - loss: 0.8849 - accuracy: 0.7561 - val_loss: 1.3474 - val_accuracy: 0.6598\n",
            "Epoch 15/100\n",
            "277/277 [==============================] - 217s 769ms/step - loss: 0.8608 - accuracy: 0.7658 - val_loss: 1.3438 - val_accuracy: 0.6619\n",
            "Epoch 16/100\n",
            "277/277 [==============================] - 217s 770ms/step - loss: 0.8431 - accuracy: 0.7696 - val_loss: 1.3347 - val_accuracy: 0.6607\n",
            "Epoch 17/100\n",
            "277/277 [==============================] - 217s 768ms/step - loss: 0.8257 - accuracy: 0.7718 - val_loss: 1.3284 - val_accuracy: 0.6629\n",
            "Epoch 18/100\n",
            "277/277 [==============================] - 216s 766ms/step - loss: 0.8061 - accuracy: 0.7794 - val_loss: 1.3260 - val_accuracy: 0.6642\n",
            "Epoch 19/100\n",
            "277/277 [==============================] - 217s 770ms/step - loss: 0.7813 - accuracy: 0.7835 - val_loss: 1.3151 - val_accuracy: 0.6673\n",
            "Epoch 20/100\n",
            "277/277 [==============================] - 218s 772ms/step - loss: 0.7622 - accuracy: 0.7904 - val_loss: 1.3211 - val_accuracy: 0.6679\n",
            "Epoch 21/100\n",
            "277/277 [==============================] - 218s 773ms/step - loss: 0.7431 - accuracy: 0.7964 - val_loss: 1.3137 - val_accuracy: 0.6686\n",
            "Epoch 22/100\n",
            "277/277 [==============================] - 219s 776ms/step - loss: 0.7273 - accuracy: 0.7983 - val_loss: 1.3117 - val_accuracy: 0.6709\n",
            "Epoch 23/100\n",
            "277/277 [==============================] - 219s 776ms/step - loss: 0.7027 - accuracy: 0.8057 - val_loss: 1.3111 - val_accuracy: 0.6712\n",
            "Epoch 24/100\n",
            "277/277 [==============================] - 219s 775ms/step - loss: 0.6946 - accuracy: 0.8073 - val_loss: 1.3090 - val_accuracy: 0.6718\n",
            "Epoch 25/100\n",
            "277/277 [==============================] - 218s 771ms/step - loss: 0.6758 - accuracy: 0.8116 - val_loss: 1.3101 - val_accuracy: 0.6703\n",
            "Epoch 26/100\n",
            "277/277 [==============================] - 218s 771ms/step - loss: 0.6598 - accuracy: 0.8178 - val_loss: 1.3073 - val_accuracy: 0.6712\n",
            "Epoch 27/100\n",
            "277/277 [==============================] - 218s 773ms/step - loss: 0.6509 - accuracy: 0.8205 - val_loss: 1.3026 - val_accuracy: 0.6723\n",
            "Epoch 28/100\n",
            "277/277 [==============================] - 218s 771ms/step - loss: 0.6320 - accuracy: 0.8239 - val_loss: 1.3045 - val_accuracy: 0.6726\n",
            "Epoch 29/100\n",
            "277/277 [==============================] - 218s 772ms/step - loss: 0.6193 - accuracy: 0.8288 - val_loss: 1.3085 - val_accuracy: 0.6741\n"
          ],
          "name": "stdout"
        }
      ]
    },
    {
      "cell_type": "markdown",
      "metadata": {
        "id": "k60nKCvK0zEg"
      },
      "source": [
        "# Evaluation\n",
        "\n",
        "We plot the loss functions and the accuracy functions of both training steps with Matplotlib to have visual feedback. "
      ]
    },
    {
      "cell_type": "code",
      "metadata": {
        "id": "K5ecm1DnjMV7",
        "colab": {
          "base_uri": "https://localhost:8080/",
          "height": 441
        },
        "outputId": "b579eb18-53eb-4dd6-ddd4-6e785c5e0b50"
      },
      "source": [
        "# data from training with freezed mobilenet\n",
        "acc = history.history['accuracy']\n",
        "val_acc = history.history['val_accuracy']\n",
        "loss = history.history['loss']\n",
        "val_loss = history.history['val_loss']\n",
        "\n",
        "# data from fine-tuning training\n",
        "ft_acc = ft_history.history['accuracy']\n",
        "ft_val_acc = ft_history.history['val_accuracy']\n",
        "ft_loss = ft_history.history['loss']\n",
        "ft_val_loss = ft_history.history['val_loss']\n",
        "\n",
        "# create figure\n",
        "fig, (acc_g,loss_g) = plt.subplots(1,2, figsize=(15,6))\n",
        "\n",
        "# range for x axis\n",
        "epochs = range(len(acc))\n",
        "epochs_1 = range(len(ft_acc))\n",
        "\n",
        "# plot accuracy curves\n",
        "acc_g.plot(epochs, acc, color='tab:orange', marker='x', linestyle='-', label='Classifier training', linewidth=1)\n",
        "acc_g.plot(epochs, val_acc, color='tab:blue', marker='x', linestyle='-', label='Classifier validation', linewidth=1)\n",
        "acc_g.plot(epochs_1, ft_acc, color='tab:olive', marker='^', linestyle='-', label='Fine-tuning training', linewidth=1)\n",
        "acc_g.plot(epochs_1, ft_val_acc, color='tab:cyan', marker='^', linestyle='-', label='Fine-tuning validation', linewidth=1)\n",
        "\n",
        "# plot loss curves\n",
        "loss_g.plot(epochs, loss, color='tab:orange', marker='x', linestyle='-', label='Classifier training ', linewidth=1)\n",
        "loss_g.plot(epochs, val_loss, color='tab:blue', marker='x', linestyle='-', label='Classifier validation', linewidth=1)\n",
        "loss_g.plot(epochs_1, ft_loss, color='tab:olive', marker='^', linestyle='-', label='Fine-tuning training ', linewidth=1)\n",
        "loss_g.plot(epochs_1, ft_val_loss, color='tab:cyan', marker='^', linestyle='-', label='Fine-tuning validation', linewidth=1)\n",
        "\n",
        "# accuracy graph style options\n",
        "acc_g.grid(axis='y', linestyle='--', linewidth=0.5)\n",
        "acc_g.set_xlabel('Epochs')\n",
        "acc_g.set_ylabel('Accuracy')\n",
        "acc_g.set_title('Accuracy', fontdict={'fontsize':18}, pad=20)\n",
        "acc_g.legend(loc='lower right')\n",
        "\n",
        "# loss graph style options\n",
        "loss_g.grid(axis='y', linestyle='--', linewidth=0.5)\n",
        "loss_g.set_xlabel('Epochs')\n",
        "loss_g.set_ylabel('Loss')\n",
        "loss_g.set_title('Loss', fontdict={'fontsize':18}, pad=20)\n",
        "loss_g.legend(loc='upper right')\n",
        "\n",
        "# layout adjustment\n",
        "plt.tight_layout()\n",
        "\n",
        "# save graph\n",
        "fig.savefig('train_plots.png')"
      ],
      "execution_count": null,
      "outputs": [
        {
          "output_type": "display_data",
          "data": {
            "image/png": "[encoded data removed]",
            "text/plain": [
              "<Figure size 1080x432 with 2 Axes>"
            ]
          },
          "metadata": {
            "tags": [],
            "needs_background": "light"
          }
        }
      ]
    },
    {
      "cell_type": "markdown",
      "metadata": {
        "id": "bRAyVZ1RkQIE"
      },
      "source": [
        "Finally, we evaluate the model on the test set. The data augmentation layers are transparent during evaluation."
      ]
    },
    {
      "cell_type": "code",
      "metadata": {
        "id": "o-pUz2DCQqE-",
        "colab": {
          "base_uri": "https://localhost:8080/"
        },
        "outputId": "9281eea9-3028-4f9b-f92c-e65df71bdb01"
      },
      "source": [
        "model = tf.keras.models.load_model('/content/gdrive/MyDrive/model/food_classifier.h5')\n",
        "test_loss, test_accuracy = model.evaluate(test_set)\n",
        "print(\"Test loss: \", test_loss)\n",
        "print(\"Test accuracy: \", test_accuracy)"
      ],
      "execution_count": null,
      "outputs": [
        {
          "output_type": "stream",
          "text": [
            "60/60 [==============================] - 53s 717ms/step - loss: 1.2698 - accuracy: 0.6774\n",
            "Test loss:  1.2698243856430054\n",
            "Test accuracy:  0.6773597598075867\n"
          ],
          "name": "stdout"
        }
      ]
    }
  ]
}