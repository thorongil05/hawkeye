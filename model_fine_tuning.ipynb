{
  "nbformat": 4,
  "nbformat_minor": 0,
  "metadata": {
    "colab": {
      "name": "model_fine_tuning.ipynb",
      "provenance": [],
      "collapsed_sections": [],
      "toc_visible": true
    },
    "kernelspec": {
      "name": "python3",
      "display_name": "Python 3"
    },
    "accelerator": "GPU"
  },
  "cells": [
    {
      "cell_type": "markdown",
      "metadata": {
        "id": "oCTMF2wWz9iH"
      },
      "source": [
        "# Data upload"
      ]
    },
    {
      "cell_type": "code",
      "metadata": {
        "id": "NlL-mFa1N5jE",
        "colab": {
          "base_uri": "https://localhost:8080/"
        },
        "outputId": "1cee31aa-e3fb-44c4-ac23-cbcdd34ef1ae"
      },
      "source": [
        "from google.colab import drive\n",
        "drive.mount('/content/gdrive')"
      ],
      "execution_count": null,
      "outputs": [
        {
          "output_type": "stream",
          "text": [
            "Mounted at /content/gdrive\n"
          ],
          "name": "stdout"
        }
      ]
    },
    {
      "cell_type": "code",
      "metadata": {
        "id": "xTZGFP8roLWe"
      },
      "source": [
        "!cp '/content/gdrive/MyDrive/[MIRCV]FoodWebSearch/food.zip' .\r\n",
        "!unzip -q food.zip\r\n",
        "!rm food.zip"
      ],
      "execution_count": null,
      "outputs": []
    },
    {
      "cell_type": "markdown",
      "metadata": {
        "id": "UWy48MSQ0VGV"
      },
      "source": [
        "# Initialization"
      ]
    },
    {
      "cell_type": "code",
      "metadata": {
        "colab": {
          "base_uri": "https://localhost:8080/"
        },
        "id": "tkOT2VvdP4xp",
        "outputId": "51421bd9-cbdf-40a9-96b6-b4fbb5d58748"
      },
      "source": [
        "!pip install split-folders tqdm"
      ],
      "execution_count": null,
      "outputs": [
        {
          "output_type": "stream",
          "text": [
            "Collecting split-folders\n",
            "  Downloading https://files.pythonhosted.org/packages/b8/5f/3c2b2f7ea5e047c8cdc3bb00ae582c5438fcdbbedcc23b3cc1c2c7aae642/split_folders-0.4.3-py3-none-any.whl\n",
            "Requirement already satisfied: tqdm in /usr/local/lib/python3.6/dist-packages (4.41.1)\n",
            "Installing collected packages: split-folders\n",
            "Successfully installed split-folders-0.4.3\n"
          ],
          "name": "stdout"
        }
      ]
    },
    {
      "cell_type": "code",
      "metadata": {
        "id": "b_h7o5f8Icu7",
        "colab": {
          "base_uri": "https://localhost:8080/"
        },
        "outputId": "0759b639-e59b-4e33-d31e-fecdbb126805"
      },
      "source": [
        "import os\n",
        "import tensorflow as tf\n",
        "import matplotlib.pyplot as plt\n",
        "import splitfolders\n",
        "\n",
        "# constants\n",
        "DATA_DIR = '/content/food-101/images'\n",
        "SETS_DIR = '/content/sets'\n",
        "BATCH_SIZE = 256\n",
        "\n",
        "# check hardware acceleration\n",
        "device_name = tf.test.gpu_device_name()\n",
        "print('GPU: ' , device_name)"
      ],
      "execution_count": null,
      "outputs": [
        {
          "output_type": "stream",
          "text": [
            "GPU:  /device:GPU:0\n"
          ],
          "name": "stdout"
        }
      ]
    },
    {
      "cell_type": "code",
      "metadata": {
        "colab": {
          "base_uri": "https://localhost:8080/"
        },
        "id": "e6h_0w_g6Rfc",
        "outputId": "bc60e09f-cd43-4268-c3d7-b89ec5edd4e1"
      },
      "source": [
        "# remove corrupted images\n",
        "# taken from keras doc\n",
        "# modified to remove also mac conf files\n",
        "\n",
        "num_skipped = 0\n",
        "for folder_name in os.listdir(DATA_DIR):\n",
        "    if folder_name == '.DS_Store':\n",
        "      ds_store = os.path.join(DATA_DIR, folder_name)\n",
        "      os.remove(ds_store)\n",
        "      print(\"Removed: \", ds_store)\n",
        "    else:\n",
        "      folder_path = os.path.join(DATA_DIR, folder_name)\n",
        "      for fname in os.listdir(folder_path):\n",
        "        fpath = os.path.join(folder_path, fname)\n",
        "        try:\n",
        "          fobj = open(fpath, \"rb\")\n",
        "          is_jfif = tf.compat.as_bytes(\"JFIF\") in fobj.peek(10)\n",
        "        finally:\n",
        "          fobj.close()\n",
        "        if not is_jfif:\n",
        "            num_skipped += 1\n",
        "            os.remove(fpath)\n",
        "            print(\"Removed: \", fpath)\n",
        "\n",
        "print(\"Removed %d images\" % num_skipped)"
      ],
      "execution_count": null,
      "outputs": [
        {
          "output_type": "stream",
          "text": [
            "Removed:  /content/food-101/images/.DS_Store\n",
            "Removed 0 images\n"
          ],
          "name": "stdout"
        }
      ]
    },
    {
      "cell_type": "markdown",
      "metadata": {
        "id": "RlcKTrL40nO9"
      },
      "source": [
        "# Datasets creation"
      ]
    },
    {
      "cell_type": "code",
      "metadata": {
        "colab": {
          "base_uri": "https://localhost:8080/"
        },
        "id": "BWrar6u3QJ85",
        "outputId": "72d672d4-9a6d-44db-a6e4-c3d3447462e5"
      },
      "source": [
        "# split data into train, validation and test set\n",
        "splitfolders.ratio(DATA_DIR, output=SETS_DIR, seed=123, ratio=(.7, .15, .15), group_prefix=None)"
      ],
      "execution_count": null,
      "outputs": [
        {
          "output_type": "stream",
          "text": [
            "Copying files: 101000 files [02:16, 738.51 files/s]\n"
          ],
          "name": "stderr"
        }
      ]
    },
    {
      "cell_type": "code",
      "metadata": {
        "id": "fKibBhfUTP1G",
        "colab": {
          "base_uri": "https://localhost:8080/"
        },
        "outputId": "f89d1b7a-1a77-4bb7-a468-e1b8154dbf15"
      },
      "source": [
        "train = SETS_DIR + '/train/'\r\n",
        "val = SETS_DIR + '/val/'\r\n",
        "test = SETS_DIR + '/test/'\r\n",
        "\r\n",
        "train_set = tf.keras.preprocessing.image_dataset_from_directory(\r\n",
        "    train,\r\n",
        "    labels='inferred',\r\n",
        "    label_mode='int',\r\n",
        "    seed=123,\r\n",
        "    shuffle=True,\r\n",
        "    image_size=(224, 224),\r\n",
        "    batch_size=BATCH_SIZE)\r\n",
        "\r\n",
        "val_set = tf.keras.preprocessing.image_dataset_from_directory(\r\n",
        "    val,\r\n",
        "    labels='inferred',\r\n",
        "    label_mode='int',\r\n",
        "    seed=123,\r\n",
        "    shuffle=True, \r\n",
        "    image_size=(224, 224),\r\n",
        "    batch_size=BATCH_SIZE)\r\n",
        "\r\n",
        "test_set = tf.keras.preprocessing.image_dataset_from_directory(\r\n",
        "    test,\r\n",
        "    labels='inferred',\r\n",
        "    label_mode='int',\r\n",
        "    seed=123,\r\n",
        "    shuffle=True,\r\n",
        "    image_size=(224, 224),\r\n",
        "    batch_size=BATCH_SIZE)\r\n",
        "\r\n",
        "# use buffered prefetching so we can yield data \r\n",
        "# from disk without having I/O becoming blocking\r\n",
        "train_set = train_set.prefetch(buffer_size=BATCH_SIZE)\r\n",
        "val_set = val_set.prefetch(buffer_size=BATCH_SIZE)\r\n",
        "test_set = test_set.prefetch(buffer_size=BATCH_SIZE)"
      ],
      "execution_count": null,
      "outputs": [
        {
          "output_type": "stream",
          "text": [
            "Found 70700 files belonging to 101 classes.\n",
            "Found 15150 files belonging to 101 classes.\n",
            "Found 15150 files belonging to 101 classes.\n"
          ],
          "name": "stdout"
        }
      ]
    },
    {
      "cell_type": "code",
      "metadata": {
        "id": "Zq1_Aq1WmwAX"
      },
      "source": [
        "def preprocess(images, labels):\r\n",
        "  images = tf.keras.applications.mobilenet_v2.preprocess_input(images)\r\n",
        "  return images, labels\r\n",
        "  \r\n",
        "train_set = train_set.map(preprocess, deterministic=True)\r\n",
        "val_set = val_set.map(preprocess, deterministic=True)\r\n",
        "test_set = test_set.map(preprocess, deterministic=True)\r\n"
      ],
      "execution_count": null,
      "outputs": []
    },
    {
      "cell_type": "markdown",
      "metadata": {
        "id": "IRpHNZJG0uU9"
      },
      "source": [
        "# Training"
      ]
    },
    {
      "cell_type": "code",
      "metadata": {
        "id": "eMjPQmQ6NqkR",
        "colab": {
          "base_uri": "https://localhost:8080/"
        },
        "outputId": "00398bc2-4597-491b-903b-2abc775c46ed"
      },
      "source": [
        "mobilenetv2 = tf.keras.applications.MobileNetV2(\r\n",
        "    weights='imagenet',\r\n",
        "    include_top=False,\r\n",
        "    input_shape=(224,224,3),\r\n",
        ")\r\n",
        "\r\n",
        "mobilenetv2.trainable = False\r\n",
        "\r\n",
        "model = tf.keras.models.Sequential([\r\n",
        "  # data augmentation\r\n",
        "  tf.keras.Input(shape=(224,224,3)),\r\n",
        "  tf.keras.layers.experimental.preprocessing.RandomFlip(mode='horizontal', seed=123),\r\n",
        "  tf.keras.layers.experimental.preprocessing.RandomRotation(factor=0.2, seed=123, fill_mode='nearest'),\r\n",
        "\r\n",
        "  # basenet\r\n",
        "  mobilenetv2,\r\n",
        "  tf.keras.layers.GlobalAveragePooling2D(),\r\n",
        "\r\n",
        "  # classifier\r\n",
        "  tf.keras.layers.Dense(256, activation='relu', name='dense_hidden'),\r\n",
        "  tf.keras.layers.Dense(101, activation='softmax', name='output')\r\n",
        "\r\n",
        "], name='food_classifier')\r\n",
        "\r\n",
        "model.summary()"
      ],
      "execution_count": null,
      "outputs": [
        {
          "output_type": "stream",
          "text": [
            "Downloading data from https://storage.googleapis.com/tensorflow/keras-applications/mobilenet_v2/mobilenet_v2_weights_tf_dim_ordering_tf_kernels_1.0_224_no_top.h5\n",
            "9412608/9406464 [==============================] - 0s 0us/step\n",
            "Model: \"food_classifier\"\n",
            "_________________________________________________________________\n",
            "Layer (type)                 Output Shape              Param #   \n",
            "=================================================================\n",
            "random_flip (RandomFlip)     (None, 224, 224, 3)       0         \n",
            "_________________________________________________________________\n",
            "random_rotation (RandomRotat (None, 224, 224, 3)       0         \n",
            "_________________________________________________________________\n",
            "mobilenetv2_1.00_224 (Functi (None, 7, 7, 1280)        2257984   \n",
            "_________________________________________________________________\n",
            "global_average_pooling2d (Gl (None, 1280)              0         \n",
            "_________________________________________________________________\n",
            "dense_hidden (Dense)         (None, 256)               327936    \n",
            "_________________________________________________________________\n",
            "output (Dense)               (None, 101)               25957     \n",
            "=================================================================\n",
            "Total params: 2,611,877\n",
            "Trainable params: 353,893\n",
            "Non-trainable params: 2,257,984\n",
            "_________________________________________________________________\n"
          ],
          "name": "stdout"
        }
      ]
    },
    {
      "cell_type": "code",
      "metadata": {
        "id": "7l_XcKWmYjzZ",
        "colab": {
          "base_uri": "https://localhost:8080/"
        },
        "outputId": "0368a2bf-879a-45dc-9273-1670af695e15"
      },
      "source": [
        "model.compile(loss='sparse_categorical_crossentropy',\r\n",
        "              optimizer=tf.keras.optimizers.RMSprop(learning_rate=1e-4),\r\n",
        "              metrics=['accuracy'])\r\n",
        "\r\n",
        "callbacks = [\r\n",
        "    # early stopping\r\n",
        "    tf.keras.callbacks.EarlyStopping(\r\n",
        "        monitor='val_loss', \r\n",
        "        patience=2,\r\n",
        "        restore_best_weights=True),\r\n",
        "\r\n",
        "    # model checkpoints (save the best model)\r\n",
        "    tf.keras.callbacks.ModelCheckpoint(\r\n",
        "        monitor='val_accuracy',\r\n",
        "        save_best_only=True,\r\n",
        "        mode='max',\r\n",
        "        filepath='/content/gdrive/MyDrive/model/food_classifier.h5'),\r\n",
        "]\r\n",
        "\r\n",
        "history = model.fit(\r\n",
        "      train_set,\r\n",
        "      epochs=100,\r\n",
        "      verbose=1,\r\n",
        "      callbacks=callbacks,\r\n",
        "      validation_data=val_set,\r\n",
        "      batch_size=BATCH_SIZE)"
      ],
      "execution_count": null,
      "outputs": [
        {
          "output_type": "stream",
          "text": [
            "Epoch 1/100\n",
            "277/277 [==============================] - 325s 1s/step - loss: 4.2359 - accuracy: 0.0990 - val_loss: 2.9484 - val_accuracy: 0.3338\n",
            "Epoch 2/100\n",
            "277/277 [==============================] - 314s 1s/step - loss: 2.7665 - accuracy: 0.3647 - val_loss: 2.3205 - val_accuracy: 0.4410\n",
            "Epoch 3/100\n",
            "277/277 [==============================] - 292s 1s/step - loss: 2.2940 - accuracy: 0.4467 - val_loss: 2.1010 - val_accuracy: 0.4817\n",
            "Epoch 4/100\n",
            "277/277 [==============================] - 236s 835ms/step - loss: 2.0896 - accuracy: 0.4825 - val_loss: 1.9840 - val_accuracy: 0.5007\n",
            "Epoch 5/100\n",
            "277/277 [==============================] - 235s 833ms/step - loss: 1.9837 - accuracy: 0.5062 - val_loss: 1.9061 - val_accuracy: 0.5183\n",
            "Epoch 6/100\n",
            "277/277 [==============================] - 235s 833ms/step - loss: 1.9049 - accuracy: 0.5216 - val_loss: 1.8620 - val_accuracy: 0.5263\n",
            "Epoch 7/100\n",
            "277/277 [==============================] - 234s 829ms/step - loss: 1.8447 - accuracy: 0.5322 - val_loss: 1.8192 - val_accuracy: 0.5351\n",
            "Epoch 8/100\n",
            "277/277 [==============================] - 231s 820ms/step - loss: 1.7976 - accuracy: 0.5437 - val_loss: 1.7882 - val_accuracy: 0.5456\n",
            "Epoch 9/100\n",
            "277/277 [==============================] - 231s 821ms/step - loss: 1.7641 - accuracy: 0.5532 - val_loss: 1.7625 - val_accuracy: 0.5512\n",
            "Epoch 10/100\n",
            "277/277 [==============================] - 232s 821ms/step - loss: 1.7279 - accuracy: 0.5586 - val_loss: 1.7376 - val_accuracy: 0.5570\n",
            "Epoch 11/100\n",
            "277/277 [==============================] - 232s 822ms/step - loss: 1.7087 - accuracy: 0.5632 - val_loss: 1.7278 - val_accuracy: 0.5609\n",
            "Epoch 12/100\n",
            "277/277 [==============================] - 231s 819ms/step - loss: 1.6757 - accuracy: 0.5703 - val_loss: 1.7097 - val_accuracy: 0.5642\n",
            "Epoch 13/100\n",
            "277/277 [==============================] - 232s 821ms/step - loss: 1.6526 - accuracy: 0.5765 - val_loss: 1.7024 - val_accuracy: 0.5656\n",
            "Epoch 14/100\n",
            "277/277 [==============================] - 232s 823ms/step - loss: 1.6401 - accuracy: 0.5762 - val_loss: 1.6933 - val_accuracy: 0.5666\n",
            "Epoch 15/100\n",
            "277/277 [==============================] - 232s 821ms/step - loss: 1.6251 - accuracy: 0.5818 - val_loss: 1.6775 - val_accuracy: 0.5695\n",
            "Epoch 16/100\n",
            "277/277 [==============================] - 231s 820ms/step - loss: 1.6011 - accuracy: 0.5883 - val_loss: 1.6695 - val_accuracy: 0.5725\n",
            "Epoch 17/100\n",
            "277/277 [==============================] - 231s 820ms/step - loss: 1.5823 - accuracy: 0.5905 - val_loss: 1.6677 - val_accuracy: 0.5737\n",
            "Epoch 18/100\n",
            "277/277 [==============================] - 231s 820ms/step - loss: 1.5765 - accuracy: 0.5924 - val_loss: 1.6577 - val_accuracy: 0.5737\n",
            "Epoch 19/100\n",
            "277/277 [==============================] - 231s 818ms/step - loss: 1.5677 - accuracy: 0.5951 - val_loss: 1.6508 - val_accuracy: 0.5770\n",
            "Epoch 20/100\n",
            "277/277 [==============================] - 231s 820ms/step - loss: 1.5512 - accuracy: 0.5985 - val_loss: 1.6424 - val_accuracy: 0.5792\n",
            "Epoch 21/100\n",
            "277/277 [==============================] - 232s 821ms/step - loss: 1.5362 - accuracy: 0.6029 - val_loss: 1.6332 - val_accuracy: 0.5813\n",
            "Epoch 22/100\n",
            "277/277 [==============================] - 231s 820ms/step - loss: 1.5220 - accuracy: 0.6064 - val_loss: 1.6301 - val_accuracy: 0.5829\n",
            "Epoch 23/100\n",
            "277/277 [==============================] - 231s 819ms/step - loss: 1.5187 - accuracy: 0.6055 - val_loss: 1.6246 - val_accuracy: 0.5850\n",
            "Epoch 24/100\n",
            "277/277 [==============================] - 231s 818ms/step - loss: 1.5059 - accuracy: 0.6086 - val_loss: 1.6213 - val_accuracy: 0.5830\n",
            "Epoch 25/100\n",
            "277/277 [==============================] - 231s 820ms/step - loss: 1.5048 - accuracy: 0.6101 - val_loss: 1.6164 - val_accuracy: 0.5850\n",
            "Epoch 26/100\n",
            "277/277 [==============================] - 232s 822ms/step - loss: 1.4871 - accuracy: 0.6133 - val_loss: 1.6183 - val_accuracy: 0.5844\n",
            "Epoch 27/100\n",
            "277/277 [==============================] - 231s 820ms/step - loss: 1.4777 - accuracy: 0.6149 - val_loss: 1.6150 - val_accuracy: 0.5849\n",
            "Epoch 28/100\n",
            "277/277 [==============================] - 231s 820ms/step - loss: 1.4789 - accuracy: 0.6143 - val_loss: 1.6164 - val_accuracy: 0.5845\n",
            "Epoch 29/100\n",
            "277/277 [==============================] - 231s 818ms/step - loss: 1.4640 - accuracy: 0.6182 - val_loss: 1.6024 - val_accuracy: 0.5884\n",
            "Epoch 30/100\n",
            "277/277 [==============================] - 231s 817ms/step - loss: 1.4588 - accuracy: 0.6181 - val_loss: 1.6032 - val_accuracy: 0.5890\n",
            "Epoch 31/100\n",
            "277/277 [==============================] - 230s 817ms/step - loss: 1.4507 - accuracy: 0.6183 - val_loss: 1.5992 - val_accuracy: 0.5904\n",
            "Epoch 32/100\n",
            "277/277 [==============================] - 231s 817ms/step - loss: 1.4457 - accuracy: 0.6233 - val_loss: 1.5998 - val_accuracy: 0.5901\n",
            "Epoch 33/100\n",
            "277/277 [==============================] - 230s 816ms/step - loss: 1.4331 - accuracy: 0.6272 - val_loss: 1.5959 - val_accuracy: 0.5900\n",
            "Epoch 34/100\n",
            "277/277 [==============================] - 230s 815ms/step - loss: 1.4263 - accuracy: 0.6284 - val_loss: 1.5952 - val_accuracy: 0.5898\n",
            "Epoch 35/100\n",
            "277/277 [==============================] - 230s 814ms/step - loss: 1.4243 - accuracy: 0.6265 - val_loss: 1.5925 - val_accuracy: 0.5916\n",
            "Epoch 36/100\n",
            "277/277 [==============================] - 231s 818ms/step - loss: 1.4132 - accuracy: 0.6313 - val_loss: 1.5914 - val_accuracy: 0.5923\n",
            "Epoch 37/100\n",
            "277/277 [==============================] - 230s 815ms/step - loss: 1.4194 - accuracy: 0.6273 - val_loss: 1.5899 - val_accuracy: 0.5927\n",
            "Epoch 38/100\n",
            "277/277 [==============================] - 230s 816ms/step - loss: 1.4056 - accuracy: 0.6309 - val_loss: 1.5863 - val_accuracy: 0.5931\n",
            "Epoch 39/100\n",
            "277/277 [==============================] - 230s 816ms/step - loss: 1.3944 - accuracy: 0.6317 - val_loss: 1.5875 - val_accuracy: 0.5919\n",
            "Epoch 40/100\n",
            "277/277 [==============================] - 230s 816ms/step - loss: 1.3892 - accuracy: 0.6368 - val_loss: 1.5980 - val_accuracy: 0.5890\n"
          ],
          "name": "stdout"
        }
      ]
    },
    {
      "cell_type": "code",
      "metadata": {
        "id": "aGcZkx031Gl9",
        "colab": {
          "base_uri": "https://localhost:8080/"
        },
        "outputId": "523ba95b-1315-4fe4-85a4-118a909165eb"
      },
      "source": [
        "# unfreeze the last block of the MobileNetV2\n",
        "mobilenetv2.trainable = True\n",
        "\n",
        "train = False\n",
        "for layer in mobilenetv2.layers:\n",
        "    if layer.name == 'block_16_expand':\n",
        "        train = True\n",
        "    if train:\n",
        "        layer.trainable = True\n",
        "    else:\n",
        "        layer.trainable = False\n",
        "\n",
        "model.summary()"
      ],
      "execution_count": null,
      "outputs": [
        {
          "output_type": "stream",
          "text": [
            "Model: \"food_classifier\"\n",
            "_________________________________________________________________\n",
            "Layer (type)                 Output Shape              Param #   \n",
            "=================================================================\n",
            "random_flip (RandomFlip)     (None, 224, 224, 3)       0         \n",
            "_________________________________________________________________\n",
            "random_rotation (RandomRotat (None, 224, 224, 3)       0         \n",
            "_________________________________________________________________\n",
            "mobilenetv2_1.00_224 (Functi (None, 7, 7, 1280)        2257984   \n",
            "_________________________________________________________________\n",
            "global_average_pooling2d (Gl (None, 1280)              0         \n",
            "_________________________________________________________________\n",
            "dense_hidden (Dense)         (None, 256)               327936    \n",
            "_________________________________________________________________\n",
            "output (Dense)               (None, 101)               25957     \n",
            "=================================================================\n",
            "Total params: 2,611,877\n",
            "Trainable params: 1,239,973\n",
            "Non-trainable params: 1,371,904\n",
            "_________________________________________________________________\n"
          ],
          "name": "stdout"
        }
      ]
    },
    {
      "cell_type": "code",
      "metadata": {
        "id": "SvzVUVksSZEc",
        "colab": {
          "base_uri": "https://localhost:8080/"
        },
        "outputId": "2cebd704-d562-4a93-fde8-01e4531a7c38"
      },
      "source": [
        "model.compile(loss='sparse_categorical_crossentropy',\n",
        "              optimizer=tf.keras.optimizers.RMSprop(lr=1e-5),\n",
        "              metrics=['accuracy'])\n",
        "\n",
        "ft_history = model.fit(\n",
        "      train_set,\n",
        "      epochs=100,\n",
        "      verbose=1,\n",
        "      callbacks=callbacks,\n",
        "      validation_data=val_set,\n",
        "      batch_size=BATCH_SIZE\n",
        ")"
      ],
      "execution_count": null,
      "outputs": [
        {
          "output_type": "stream",
          "text": [
            "Epoch 1/100\n",
            "277/277 [==============================] - 239s 835ms/step - loss: 2.0993 - accuracy: 0.4839 - val_loss: 1.7020 - val_accuracy: 0.5706\n",
            "Epoch 2/100\n",
            "277/277 [==============================] - 234s 832ms/step - loss: 1.6688 - accuracy: 0.5679 - val_loss: 1.6637 - val_accuracy: 0.5799\n",
            "Epoch 3/100\n",
            "277/277 [==============================] - 235s 834ms/step - loss: 1.5773 - accuracy: 0.5883 - val_loss: 1.6205 - val_accuracy: 0.5881\n",
            "Epoch 4/100\n",
            "277/277 [==============================] - 235s 834ms/step - loss: 1.5214 - accuracy: 0.6013 - val_loss: 1.5966 - val_accuracy: 0.5942\n",
            "Epoch 5/100\n",
            "277/277 [==============================] - 234s 831ms/step - loss: 1.4761 - accuracy: 0.6108 - val_loss: 1.5742 - val_accuracy: 0.5971\n",
            "Epoch 6/100\n",
            "277/277 [==============================] - 239s 846ms/step - loss: 1.4408 - accuracy: 0.6189 - val_loss: 1.5600 - val_accuracy: 0.6011\n",
            "Epoch 7/100\n",
            "277/277 [==============================] - 237s 839ms/step - loss: 1.4173 - accuracy: 0.6270 - val_loss: 1.5450 - val_accuracy: 0.6033\n",
            "Epoch 8/100\n",
            "277/277 [==============================] - 236s 836ms/step - loss: 1.3889 - accuracy: 0.6334 - val_loss: 1.5358 - val_accuracy: 0.6071\n",
            "Epoch 9/100\n",
            "277/277 [==============================] - 235s 833ms/step - loss: 1.3684 - accuracy: 0.6379 - val_loss: 1.5266 - val_accuracy: 0.6091\n",
            "Epoch 10/100\n",
            "277/277 [==============================] - 235s 834ms/step - loss: 1.3499 - accuracy: 0.6420 - val_loss: 1.5190 - val_accuracy: 0.6104\n",
            "Epoch 11/100\n",
            "277/277 [==============================] - 236s 836ms/step - loss: 1.3268 - accuracy: 0.6478 - val_loss: 1.5108 - val_accuracy: 0.6132\n",
            "Epoch 12/100\n",
            "277/277 [==============================] - 235s 832ms/step - loss: 1.3145 - accuracy: 0.6522 - val_loss: 1.5026 - val_accuracy: 0.6131\n",
            "Epoch 13/100\n",
            "277/277 [==============================] - 234s 829ms/step - loss: 1.3014 - accuracy: 0.6552 - val_loss: 1.4951 - val_accuracy: 0.6165\n",
            "Epoch 14/100\n",
            "277/277 [==============================] - 234s 830ms/step - loss: 1.2803 - accuracy: 0.6574 - val_loss: 1.4887 - val_accuracy: 0.6188\n",
            "Epoch 15/100\n",
            "277/277 [==============================] - 234s 831ms/step - loss: 1.2682 - accuracy: 0.6647 - val_loss: 1.4824 - val_accuracy: 0.6197\n",
            "Epoch 16/100\n",
            "277/277 [==============================] - 234s 830ms/step - loss: 1.2537 - accuracy: 0.6660 - val_loss: 1.4768 - val_accuracy: 0.6208\n",
            "Epoch 17/100\n",
            "277/277 [==============================] - 234s 830ms/step - loss: 1.2425 - accuracy: 0.6704 - val_loss: 1.4715 - val_accuracy: 0.6224\n",
            "Epoch 18/100\n",
            "277/277 [==============================] - 234s 830ms/step - loss: 1.2257 - accuracy: 0.6719 - val_loss: 1.4646 - val_accuracy: 0.6233\n",
            "Epoch 19/100\n",
            "277/277 [==============================] - 234s 830ms/step - loss: 1.2157 - accuracy: 0.6738 - val_loss: 1.4586 - val_accuracy: 0.6248\n",
            "Epoch 20/100\n",
            "277/277 [==============================] - 234s 828ms/step - loss: 1.2094 - accuracy: 0.6773 - val_loss: 1.4535 - val_accuracy: 0.6269\n",
            "Epoch 21/100\n",
            "277/277 [==============================] - 235s 833ms/step - loss: 1.1987 - accuracy: 0.6779 - val_loss: 1.4467 - val_accuracy: 0.6277\n",
            "Epoch 22/100\n",
            "277/277 [==============================] - 234s 831ms/step - loss: 1.1856 - accuracy: 0.6835 - val_loss: 1.4417 - val_accuracy: 0.6284\n",
            "Epoch 23/100\n",
            "277/277 [==============================] - 234s 830ms/step - loss: 1.1762 - accuracy: 0.6866 - val_loss: 1.4374 - val_accuracy: 0.6294\n",
            "Epoch 24/100\n",
            "277/277 [==============================] - 234s 831ms/step - loss: 1.1703 - accuracy: 0.6866 - val_loss: 1.4337 - val_accuracy: 0.6310\n",
            "Epoch 25/100\n",
            "277/277 [==============================] - 235s 832ms/step - loss: 1.1593 - accuracy: 0.6895 - val_loss: 1.4309 - val_accuracy: 0.6325\n",
            "Epoch 26/100\n",
            "277/277 [==============================] - 234s 830ms/step - loss: 1.1425 - accuracy: 0.6941 - val_loss: 1.4257 - val_accuracy: 0.6329\n",
            "Epoch 27/100\n",
            "277/277 [==============================] - 235s 832ms/step - loss: 1.1336 - accuracy: 0.6951 - val_loss: 1.4217 - val_accuracy: 0.6347\n",
            "Epoch 28/100\n",
            "277/277 [==============================] - 234s 831ms/step - loss: 1.1271 - accuracy: 0.6956 - val_loss: 1.4197 - val_accuracy: 0.6345\n",
            "Epoch 29/100\n",
            "277/277 [==============================] - 234s 829ms/step - loss: 1.1257 - accuracy: 0.6973 - val_loss: 1.4157 - val_accuracy: 0.6363\n",
            "Epoch 30/100\n",
            "277/277 [==============================] - 234s 829ms/step - loss: 1.1109 - accuracy: 0.6988 - val_loss: 1.4115 - val_accuracy: 0.6367\n",
            "Epoch 31/100\n",
            "277/277 [==============================] - 234s 831ms/step - loss: 1.0994 - accuracy: 0.7018 - val_loss: 1.4067 - val_accuracy: 0.6389\n",
            "Epoch 32/100\n",
            "277/277 [==============================] - 233s 828ms/step - loss: 1.0952 - accuracy: 0.7036 - val_loss: 1.4044 - val_accuracy: 0.6403\n",
            "Epoch 33/100\n",
            "277/277 [==============================] - 233s 828ms/step - loss: 1.0863 - accuracy: 0.7088 - val_loss: 1.4004 - val_accuracy: 0.6397\n",
            "Epoch 34/100\n",
            "277/277 [==============================] - 234s 829ms/step - loss: 1.0804 - accuracy: 0.7066 - val_loss: 1.3987 - val_accuracy: 0.6403\n",
            "Epoch 35/100\n",
            "277/277 [==============================] - 233s 828ms/step - loss: 1.0740 - accuracy: 0.7117 - val_loss: 1.3966 - val_accuracy: 0.6417\n",
            "Epoch 36/100\n",
            "277/277 [==============================] - 234s 831ms/step - loss: 1.0697 - accuracy: 0.7126 - val_loss: 1.3933 - val_accuracy: 0.6414\n",
            "Epoch 37/100\n",
            "277/277 [==============================] - 234s 830ms/step - loss: 1.0577 - accuracy: 0.7140 - val_loss: 1.3916 - val_accuracy: 0.6430\n",
            "Epoch 38/100\n",
            "277/277 [==============================] - 233s 828ms/step - loss: 1.0472 - accuracy: 0.7177 - val_loss: 1.3887 - val_accuracy: 0.6429\n",
            "Epoch 39/100\n",
            "277/277 [==============================] - 234s 830ms/step - loss: 1.0450 - accuracy: 0.7176 - val_loss: 1.3867 - val_accuracy: 0.6432\n",
            "Epoch 40/100\n",
            "277/277 [==============================] - 234s 830ms/step - loss: 1.0341 - accuracy: 0.7198 - val_loss: 1.3840 - val_accuracy: 0.6451\n",
            "Epoch 41/100\n",
            "277/277 [==============================] - 234s 832ms/step - loss: 1.0287 - accuracy: 0.7225 - val_loss: 1.3819 - val_accuracy: 0.6448\n",
            "Epoch 42/100\n",
            "277/277 [==============================] - 233s 828ms/step - loss: 1.0202 - accuracy: 0.7243 - val_loss: 1.3784 - val_accuracy: 0.6450\n",
            "Epoch 43/100\n",
            "277/277 [==============================] - 237s 840ms/step - loss: 1.0096 - accuracy: 0.7266 - val_loss: 1.3746 - val_accuracy: 0.6458\n",
            "Epoch 44/100\n",
            "277/277 [==============================] - 239s 849ms/step - loss: 1.0122 - accuracy: 0.7270 - val_loss: 1.3736 - val_accuracy: 0.6470\n",
            "Epoch 45/100\n",
            "277/277 [==============================] - 238s 845ms/step - loss: 1.0052 - accuracy: 0.7268 - val_loss: 1.3718 - val_accuracy: 0.6482\n",
            "Epoch 46/100\n",
            "277/277 [==============================] - 235s 835ms/step - loss: 0.9941 - accuracy: 0.7323 - val_loss: 1.3710 - val_accuracy: 0.6484\n",
            "Epoch 47/100\n",
            "277/277 [==============================] - 235s 834ms/step - loss: 0.9943 - accuracy: 0.7290 - val_loss: 1.3692 - val_accuracy: 0.6478\n",
            "Epoch 48/100\n",
            "277/277 [==============================] - 234s 831ms/step - loss: 0.9763 - accuracy: 0.7357 - val_loss: 1.3679 - val_accuracy: 0.6479\n",
            "Epoch 49/100\n",
            "277/277 [==============================] - 235s 835ms/step - loss: 0.9774 - accuracy: 0.7339 - val_loss: 1.3662 - val_accuracy: 0.6491\n",
            "Epoch 50/100\n",
            "277/277 [==============================] - 237s 841ms/step - loss: 0.9692 - accuracy: 0.7375 - val_loss: 1.3659 - val_accuracy: 0.6484\n",
            "Epoch 51/100\n",
            "277/277 [==============================] - 235s 832ms/step - loss: 0.9621 - accuracy: 0.7400 - val_loss: 1.3614 - val_accuracy: 0.6490\n",
            "Epoch 52/100\n",
            "277/277 [==============================] - 235s 835ms/step - loss: 0.9520 - accuracy: 0.7416 - val_loss: 1.3601 - val_accuracy: 0.6501\n",
            "Epoch 53/100\n",
            "277/277 [==============================] - 236s 836ms/step - loss: 0.9514 - accuracy: 0.7405 - val_loss: 1.3598 - val_accuracy: 0.6492\n",
            "Epoch 54/100\n",
            "277/277 [==============================] - 235s 834ms/step - loss: 0.9494 - accuracy: 0.7429 - val_loss: 1.3571 - val_accuracy: 0.6504\n",
            "Epoch 55/100\n",
            "277/277 [==============================] - 235s 833ms/step - loss: 0.9356 - accuracy: 0.7452 - val_loss: 1.3551 - val_accuracy: 0.6511\n",
            "Epoch 56/100\n",
            "277/277 [==============================] - 236s 838ms/step - loss: 0.9382 - accuracy: 0.7446 - val_loss: 1.3563 - val_accuracy: 0.6502\n",
            "Epoch 57/100\n",
            "277/277 [==============================] - 235s 833ms/step - loss: 0.9297 - accuracy: 0.7485 - val_loss: 1.3523 - val_accuracy: 0.6520\n",
            "Epoch 58/100\n",
            "277/277 [==============================] - 234s 832ms/step - loss: 0.9277 - accuracy: 0.7464 - val_loss: 1.3506 - val_accuracy: 0.6522\n",
            "Epoch 59/100\n",
            "277/277 [==============================] - 234s 829ms/step - loss: 0.9190 - accuracy: 0.7503 - val_loss: 1.3491 - val_accuracy: 0.6524\n",
            "Epoch 60/100\n",
            "277/277 [==============================] - 235s 832ms/step - loss: 0.9107 - accuracy: 0.7533 - val_loss: 1.3483 - val_accuracy: 0.6514\n",
            "Epoch 61/100\n",
            "277/277 [==============================] - 234s 830ms/step - loss: 0.9064 - accuracy: 0.7528 - val_loss: 1.3466 - val_accuracy: 0.6513\n",
            "Epoch 62/100\n",
            "277/277 [==============================] - 234s 831ms/step - loss: 0.9058 - accuracy: 0.7540 - val_loss: 1.3457 - val_accuracy: 0.6518\n",
            "Epoch 63/100\n",
            "277/277 [==============================] - 234s 831ms/step - loss: 0.9028 - accuracy: 0.7529 - val_loss: 1.3452 - val_accuracy: 0.6530\n",
            "Epoch 64/100\n",
            "277/277 [==============================] - 234s 831ms/step - loss: 0.8936 - accuracy: 0.7583 - val_loss: 1.3426 - val_accuracy: 0.6534\n",
            "Epoch 65/100\n",
            "277/277 [==============================] - 234s 831ms/step - loss: 0.8891 - accuracy: 0.7555 - val_loss: 1.3416 - val_accuracy: 0.6547\n",
            "Epoch 66/100\n",
            "277/277 [==============================] - 235s 834ms/step - loss: 0.8836 - accuracy: 0.7633 - val_loss: 1.3402 - val_accuracy: 0.6541\n",
            "Epoch 67/100\n",
            "277/277 [==============================] - 233s 826ms/step - loss: 0.8741 - accuracy: 0.7608 - val_loss: 1.3395 - val_accuracy: 0.6552\n",
            "Epoch 68/100\n",
            "277/277 [==============================] - 234s 831ms/step - loss: 0.8747 - accuracy: 0.7608 - val_loss: 1.3407 - val_accuracy: 0.6549\n",
            "Epoch 69/100\n",
            "277/277 [==============================] - 234s 830ms/step - loss: 0.8683 - accuracy: 0.7642 - val_loss: 1.3395 - val_accuracy: 0.6550\n",
            "Epoch 70/100\n",
            "277/277 [==============================] - 234s 830ms/step - loss: 0.8656 - accuracy: 0.7647 - val_loss: 1.3380 - val_accuracy: 0.6566\n",
            "Epoch 71/100\n",
            "277/277 [==============================] - 233s 827ms/step - loss: 0.8641 - accuracy: 0.7625 - val_loss: 1.3391 - val_accuracy: 0.6560\n",
            "Epoch 72/100\n",
            "277/277 [==============================] - 235s 832ms/step - loss: 0.8612 - accuracy: 0.7653 - val_loss: 1.3375 - val_accuracy: 0.6549\n",
            "Epoch 73/100\n",
            "277/277 [==============================] - 234s 830ms/step - loss: 0.8445 - accuracy: 0.7705 - val_loss: 1.3368 - val_accuracy: 0.6564\n",
            "Epoch 74/100\n",
            "277/277 [==============================] - 234s 830ms/step - loss: 0.8473 - accuracy: 0.7712 - val_loss: 1.3346 - val_accuracy: 0.6565\n",
            "Epoch 75/100\n",
            "277/277 [==============================] - 234s 829ms/step - loss: 0.8447 - accuracy: 0.7698 - val_loss: 1.3353 - val_accuracy: 0.6561\n",
            "Epoch 76/100\n",
            "277/277 [==============================] - 234s 830ms/step - loss: 0.8382 - accuracy: 0.7701 - val_loss: 1.3345 - val_accuracy: 0.6562\n",
            "Epoch 77/100\n",
            "277/277 [==============================] - 234s 831ms/step - loss: 0.8322 - accuracy: 0.7745 - val_loss: 1.3348 - val_accuracy: 0.6583\n",
            "Epoch 78/100\n",
            "277/277 [==============================] - 234s 831ms/step - loss: 0.8295 - accuracy: 0.7745 - val_loss: 1.3333 - val_accuracy: 0.6584\n",
            "Epoch 79/100\n",
            "277/277 [==============================] - 234s 830ms/step - loss: 0.8206 - accuracy: 0.7755 - val_loss: 1.3320 - val_accuracy: 0.6584\n",
            "Epoch 80/100\n",
            "277/277 [==============================] - 235s 832ms/step - loss: 0.8155 - accuracy: 0.7761 - val_loss: 1.3316 - val_accuracy: 0.6581\n",
            "Epoch 81/100\n",
            "277/277 [==============================] - 234s 829ms/step - loss: 0.8162 - accuracy: 0.7769 - val_loss: 1.3320 - val_accuracy: 0.6593\n",
            "Epoch 82/100\n",
            "277/277 [==============================] - 234s 830ms/step - loss: 0.8039 - accuracy: 0.7812 - val_loss: 1.3317 - val_accuracy: 0.6578\n"
          ],
          "name": "stdout"
        }
      ]
    },
    {
      "cell_type": "markdown",
      "metadata": {
        "id": "k60nKCvK0zEg"
      },
      "source": [
        "# Evaluation"
      ]
    },
    {
      "cell_type": "code",
      "metadata": {
        "id": "K5ecm1DnjMV7",
        "colab": {
          "base_uri": "https://localhost:8080/",
          "height": 441
        },
        "outputId": "de0e5342-5e23-461e-ec2a-768f6490bced"
      },
      "source": [
        "# data from training with freezed mobilenet\n",
        "acc = history.history['accuracy']\n",
        "val_acc = history.history['val_accuracy']\n",
        "loss = history.history['loss']\n",
        "val_loss = history.history['val_loss']\n",
        "\n",
        "# data from fine-tuning training\n",
        "ft_acc = ft_history.history['accuracy']\n",
        "ft_val_acc = ft_history.history['val_accuracy']\n",
        "ft_loss = ft_history.history['loss']\n",
        "ft_val_loss = ft_history.history['val_loss']\n",
        "\n",
        "# create figure\n",
        "fig, (acc_g,loss_g) = plt.subplots(1,2, figsize=(15,6))\n",
        "\n",
        "# range for x axis\n",
        "epochs = range(len(acc))\n",
        "epochs_1 = range(len(ft_acc))\n",
        "\n",
        "# plot accuracy curves\n",
        "acc_g.plot(epochs, acc, color='tab:orange', marker='x', linestyle='-', label='Classifier training', linewidth=1)\n",
        "acc_g.plot(epochs, val_acc, color='tab:blue', marker='x', linestyle='-', label='Classifier validation', linewidth=1)\n",
        "acc_g.plot(epochs_1, ft_acc, color='tab:olive', marker='^', linestyle='-', label='Fine-tuning training', linewidth=1)\n",
        "acc_g.plot(epochs_1, ft_val_acc, color='tab:cyan', marker='^', linestyle='-', label='Fine-tuning validation', linewidth=1)\n",
        "\n",
        "# plot loss curves\n",
        "loss_g.plot(epochs, loss, color='tab:orange', marker='x', linestyle='-', label='Classifier training ', linewidth=1)\n",
        "loss_g.plot(epochs, val_loss, color='tab:blue', marker='x', linestyle='-', label='Classifier validation', linewidth=1)\n",
        "loss_g.plot(epochs_1, ft_loss, color='tab:olive', marker='^', linestyle='-', label='Fine-tuning training ', linewidth=1)\n",
        "loss_g.plot(epochs_1, ft_val_loss, color='tab:cyan', marker='^', linestyle='-', label='Fine-tuning validation', linewidth=1)\n",
        "\n",
        "# accuracy graph style options\n",
        "acc_g.grid(axis='y', linestyle='--', linewidth=0.5)\n",
        "acc_g.set_xlabel('Epochs')\n",
        "acc_g.set_ylabel('Accuracy')\n",
        "acc_g.set_title('Accuracy', fontdict={'fontsize':18}, pad=20)\n",
        "acc_g.legend(loc='lower right')\n",
        "\n",
        "# loss graph style options\n",
        "loss_g.grid(axis='y', linestyle='--', linewidth=0.5)\n",
        "loss_g.set_xlabel('Epochs')\n",
        "loss_g.set_ylabel('Loss')\n",
        "loss_g.set_title('Loss', fontdict={'fontsize':18}, pad=20)\n",
        "loss_g.legend(loc='upper right')\n",
        "\n",
        "# layout adjustment\n",
        "plt.tight_layout()\n",
        "\n",
        "# save graph\n",
        "fig.savefig('train_plots.png')"
      ],
      "execution_count": null,
      "outputs": [
        {
          "output_type": "display_data",
          "data": {
            "image/png": "[encoded data removed]",
            "text/plain": [
              "<Figure size 1080x432 with 2 Axes>"
            ]
          },
          "metadata": {
            "tags": [],
            "needs_background": "light"
          }
        }
      ]
    },
    {
      "cell_type": "code",
      "metadata": {
        "id": "o-pUz2DCQqE-",
        "colab": {
          "base_uri": "https://localhost:8080/"
        },
        "outputId": "5bb0842f-777a-4319-8e79-14a8a0e007d0"
      },
      "source": [
        "model = tf.keras.models.load_model('/content/gdrive/MyDrive/model/food_classifier.h5')\n",
        "test_loss, test_accuracy = model.evaluate(test_set)\n",
        "print(\"Test loss: \", test_loss)\n",
        "print(\"Test accuracy: \", test_accuracy)"
      ],
      "execution_count": null,
      "outputs": [
        {
          "output_type": "stream",
          "text": [
            "60/60 [==============================] - 60s 804ms/step - loss: 1.3128 - accuracy: 0.6626\n",
            "Test loss:  1.3127570152282715\n",
            "Test accuracy:  0.6626402735710144\n"
          ],
          "name": "stdout"
        }
      ]
    }
  ]
}