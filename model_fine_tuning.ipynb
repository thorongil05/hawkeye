{
  "nbformat": 4,
  "nbformat_minor": 0,
  "metadata": {
    "colab": {
      "name": "model_fine_tuning.ipynb",
      "provenance": [],
      "collapsed_sections": []
    },
    "kernelspec": {
      "name": "python3",
      "display_name": "Python 3"
    },
    "accelerator": "GPU"
  },
  "cells": [
    {
      "cell_type": "code",
      "metadata": {
        "id": "NlL-mFa1N5jE",
        "colab": {
          "base_uri": "https://localhost:8080/"
        },
        "outputId": "b5623d85-de44-4fcf-95c7-f7aae153f0e8"
      },
      "source": [
        "from google.colab import drive\n",
        "drive.mount('/content/gdrive')"
      ],
      "execution_count": 1,
      "outputs": [
        {
          "output_type": "stream",
          "text": [
            "Mounted at /content/gdrive\n"
          ],
          "name": "stdout"
        }
      ]
    },
    {
      "cell_type": "code",
      "metadata": {
        "id": "xTZGFP8roLWe",
        "colab": {
          "base_uri": "https://localhost:8080/"
        },
        "outputId": "3e52d2fa-7fb3-467c-e021-045987545d65"
      },
      "source": [
        "!cp '/content/gdrive/MyDrive/[MIRCV]FoodWebSearch/food.zip' .\r\n",
        "!unzip -q food.zip\r\n",
        "!rm food.zip"
      ],
      "execution_count": 2,
      "outputs": [
        {
          "output_type": "stream",
          "text": [
            "  error:  invalid compressed data to inflate food-101/images/cheesecake/1017408.jpg\n",
            "file #16026:  bad zipfile offset (local header sig):  805454155\n",
            "file #16027:  bad zipfile offset (local header sig):  805489509\n",
            "file #16028:  bad zipfile offset (local header sig):  805529948\n"
          ],
          "name": "stdout"
        }
      ]
    },
    {
      "cell_type": "code",
      "metadata": {
        "colab": {
          "base_uri": "https://localhost:8080/"
        },
        "id": "tkOT2VvdP4xp",
        "outputId": "cba39173-247f-4925-9bce-44cb6cd5764c"
      },
      "source": [
        "!pip install split-folders tqdm"
      ],
      "execution_count": 3,
      "outputs": [
        {
          "output_type": "stream",
          "text": [
            "Collecting split-folders\n",
            "  Downloading https://files.pythonhosted.org/packages/b8/5f/3c2b2f7ea5e047c8cdc3bb00ae582c5438fcdbbedcc23b3cc1c2c7aae642/split_folders-0.4.3-py3-none-any.whl\n",
            "Requirement already satisfied: tqdm in /usr/local/lib/python3.6/dist-packages (4.41.1)\n",
            "Installing collected packages: split-folders\n",
            "Successfully installed split-folders-0.4.3\n"
          ],
          "name": "stdout"
        }
      ]
    },
    {
      "cell_type": "code",
      "metadata": {
        "id": "b_h7o5f8Icu7",
        "colab": {
          "base_uri": "https://localhost:8080/"
        },
        "outputId": "9c1664a8-abaa-4ab2-d557-3294ae21d797"
      },
      "source": [
        "import os\n",
        "import tensorflow as tf\n",
        "import matplotlib.pyplot as plt\n",
        "import splitfolders\n",
        "\n",
        "# constants\n",
        "DATA_DIR = '/content/food-101/images'\n",
        "SETS_DIR = '/content/sets'\n",
        "BATCH_SIZE = 128\n",
        "\n",
        "# check hardware acceleration\n",
        "device_name = tf.test.gpu_device_name()\n",
        "print('Found GPU: ' , device_name)"
      ],
      "execution_count": 1,
      "outputs": [
        {
          "output_type": "stream",
          "text": [
            "Found GPU:  /device:GPU:0\n"
          ],
          "name": "stdout"
        }
      ]
    },
    {
      "cell_type": "code",
      "metadata": {
        "colab": {
          "base_uri": "https://localhost:8080/"
        },
        "id": "e6h_0w_g6Rfc",
        "outputId": "e81a3b52-d42e-4050-a91f-85a96cbb6c9c"
      },
      "source": [
        "# remove corrupted images\n",
        "num_skipped = 0\n",
        "for folder_name in os.listdir(DATA_DIR):\n",
        "    if folder_name == '.DS_Store':\n",
        "      ds_store = os.path.join(DATA_DIR, folder_name)\n",
        "      os.remove(ds_store)\n",
        "      print(\"Removed: \", ds_store)\n",
        "    else:\n",
        "      folder_path = os.path.join(DATA_DIR, folder_name)\n",
        "      for fname in os.listdir(folder_path):\n",
        "        fpath = os.path.join(folder_path, fname)\n",
        "        try:\n",
        "          fobj = open(fpath, \"rb\")\n",
        "          is_jfif = tf.compat.as_bytes(\"JFIF\") in fobj.peek(10)\n",
        "        finally:\n",
        "          fobj.close()\n",
        "        if not is_jfif:\n",
        "            num_skipped += 1\n",
        "            os.remove(fpath)\n",
        "            print(\"Removed: \", fpath)\n",
        "\n",
        "print(\"Removed %d images\" % num_skipped)"
      ],
      "execution_count": 3,
      "outputs": [
        {
          "output_type": "stream",
          "text": [
            "Removed 0 images\n"
          ],
          "name": "stdout"
        }
      ]
    },
    {
      "cell_type": "code",
      "metadata": {
        "colab": {
          "base_uri": "https://localhost:8080/"
        },
        "id": "BWrar6u3QJ85",
        "outputId": "ee29e53d-c440-4c3a-cb8b-09914f7f4356"
      },
      "source": [
        "# create train, validation and test set\n",
        "splitfolders.ratio(DATA_DIR, output=SETS_DIR, seed=123, ratio=(.7, .15, .15), group_prefix=None)"
      ],
      "execution_count": 6,
      "outputs": [
        {
          "output_type": "stream",
          "text": [
            "Copying files: 100996 files [02:21, 714.56 files/s]\n"
          ],
          "name": "stderr"
        }
      ]
    },
    {
      "cell_type": "code",
      "metadata": {
        "id": "fKibBhfUTP1G",
        "colab": {
          "base_uri": "https://localhost:8080/"
        },
        "outputId": "b429a886-6407-4fdc-e9a2-f1265412fc8c"
      },
      "source": [
        "train = SETS_DIR + '/train/'\r\n",
        "validation = SETS_DIR + '/val/'\r\n",
        "test = SETS_DIR + '/test/'\r\n",
        "\r\n",
        "train_set = tf.keras.preprocessing.image_dataset_from_directory(\r\n",
        "    train,\r\n",
        "    labels='inferred',\r\n",
        "    label_mode='int',\r\n",
        "    seed=123,\r\n",
        "    shuffle=True,\r\n",
        "    color_mode='rgb', \r\n",
        "    image_size=(224, 224),\r\n",
        "    batch_size=BATCH_SIZE)\r\n",
        "\r\n",
        "val_set = tf.keras.preprocessing.image_dataset_from_directory(\r\n",
        "    validation,\r\n",
        "    labels='inferred',\r\n",
        "    label_mode='int',\r\n",
        "    seed=123,\r\n",
        "    shuffle=False,\r\n",
        "    color_mode='rgb', \r\n",
        "    image_size=(224, 224),\r\n",
        "    batch_size=BATCH_SIZE)\r\n",
        "\r\n",
        "test_set = tf.keras.preprocessing.image_dataset_from_directory(\r\n",
        "    test,\r\n",
        "    label_mode='int',\r\n",
        "    seed=123,\r\n",
        "    shuffle=False,\r\n",
        "    color_mode='rgb',\r\n",
        "    image_size=(224, 224),\r\n",
        "    batch_size=BATCH_SIZE)\r\n",
        "\r\n",
        "# use buffered prefetching so we can yield data \r\n",
        "# from disk without having I/O becoming blocking\r\n",
        "train_set = train_set.prefetch(buffer_size=BATCH_SIZE)\r\n",
        "val_set = val_set.prefetch(buffer_size=BATCH_SIZE)\r\n",
        "test_set = test_set.prefetch(buffer_size=BATCH_SIZE)"
      ],
      "execution_count": 4,
      "outputs": [
        {
          "output_type": "stream",
          "text": [
            "Found 70697 files belonging to 101 classes.\n",
            "Found 15149 files belonging to 101 classes.\n",
            "Found 15150 files belonging to 101 classes.\n"
          ],
          "name": "stdout"
        }
      ]
    },
    {
      "cell_type": "code",
      "metadata": {
        "id": "Zq1_Aq1WmwAX"
      },
      "source": [
        "def preprocess(images, labels):\r\n",
        "  images = tf.keras.applications.mobilenet_v2.preprocess_input(images)\r\n",
        "  return images, labels\r\n",
        "  \r\n",
        "train_set = train_set.map(preprocess, deterministic=True)\r\n",
        "val_set = train_set.map(preprocess, deterministic=True)\r\n",
        "test_sset = test_set.map(preprocess, deterministic=True)\r\n"
      ],
      "execution_count": 5,
      "outputs": []
    },
    {
      "cell_type": "code",
      "metadata": {
        "id": "eMjPQmQ6NqkR",
        "colab": {
          "base_uri": "https://localhost:8080/"
        },
        "outputId": "2716cdad-cb3d-48cc-ae5a-901a609401eb"
      },
      "source": [
        "mobilenetv2 = tf.keras.applications.MobileNetV2(\r\n",
        "    weights='imagenet',\r\n",
        "    include_top=False,\r\n",
        "    pooling = 'max',   #check if avg\r\n",
        "    input_shape=(224,224,3)\r\n",
        ")\r\n",
        "\r\n",
        "mobilenetv2.trainable = False\r\n",
        "\r\n",
        "model = tf.keras.models.Sequential() \r\n",
        "model.add(mobilenetv2)\r\n",
        "model.add(tf.keras.layers.Dense(512, activation='relu', name='dense_hidden_1'))\r\n",
        "model.add(tf.keras.layers.Dense(101, activation='softmax', name='output'))\r\n",
        "model.summary()"
      ],
      "execution_count": 8,
      "outputs": [
        {
          "output_type": "stream",
          "text": [
            "Model: \"sequential_1\"\n",
            "_________________________________________________________________\n",
            "Layer (type)                 Output Shape              Param #   \n",
            "=================================================================\n",
            "mobilenetv2_1.00_224 (Functi (None, 1280)              2257984   \n",
            "_________________________________________________________________\n",
            "dense_hidden_1 (Dense)       (None, 512)               655872    \n",
            "_________________________________________________________________\n",
            "output (Dense)               (None, 101)               51813     \n",
            "=================================================================\n",
            "Total params: 2,965,669\n",
            "Trainable params: 707,685\n",
            "Non-trainable params: 2,257,984\n",
            "_________________________________________________________________\n"
          ],
          "name": "stdout"
        }
      ]
    },
    {
      "cell_type": "code",
      "metadata": {
        "id": "7l_XcKWmYjzZ",
        "colab": {
          "base_uri": "https://localhost:8080/"
        },
        "outputId": "02682a86-59d4-419d-92a1-c0aed0f1f48d"
      },
      "source": [
        "model.compile(loss='sparse_categorical_crossentropy',\r\n",
        "              optimizer=tf.keras.optimizers.RMSprop(lr=1e-5),  #try\r\n",
        "              metrics=['accuracy'])\r\n",
        "\r\n",
        "history = model.fit(\r\n",
        "      train_set,\r\n",
        "      epochs=30,\r\n",
        "      verbose=1,\r\n",
        "      validation_data=val_set,\r\n",
        "      batch_size=BATCH_SIZE\r\n",
        "      )"
      ],
      "execution_count": 9,
      "outputs": [
        {
          "output_type": "stream",
          "text": [
            "Epoch 1/2\n",
            "553/553 [==============================] - 410s 715ms/step - loss: 6.4708 - accuracy: 0.0173 - val_loss: 5.5832 - val_accuracy: 0.0099\n",
            "Epoch 2/2\n",
            "553/553 [==============================] - 342s 615ms/step - loss: 4.3789 - accuracy: 0.0775 - val_loss: 5.5063 - val_accuracy: 0.0103\n"
          ],
          "name": "stdout"
        }
      ]
    },
    {
      "cell_type": "code",
      "metadata": {
        "id": "aGcZkx031Gl9"
      },
      "source": [
        "# unfreeze the last block of the MobileNetV2\n",
        "mobilenetv2.trainable = True\n",
        "\n",
        "train = False\n",
        "for layer in mobilenetv2.layers:\n",
        "    if layer.name == 'block_16_expand':\n",
        "        train = True\n",
        "    if train:\n",
        "        layer.trainable = True\n",
        "    else:\n",
        "        layer.trainable = False\n",
        "\n",
        "model.summary()"
      ],
      "execution_count": null,
      "outputs": []
    },
    {
      "cell_type": "code",
      "metadata": {
        "id": "SvzVUVksSZEc"
      },
      "source": [
        "model.compile(loss='sparse_categorical_crossentropy',\n",
        "              optimizer=tf.keras.optimizers.RMSprop(lr=1e-5),  #try\n",
        "              metrics=['accuracy'])\n",
        "\n",
        "ft_history = model.fit(\n",
        "      train_dataset,\n",
        "      epochs=20,\n",
        "      verbose=1,\n",
        "      validation_data=valid_dataset,\n",
        "      batch_size=BATCH_SIZE\n",
        ")"
      ],
      "execution_count": null,
      "outputs": []
    },
    {
      "cell_type": "code",
      "metadata": {
        "colab": {
          "base_uri": "https://localhost:8080/",
          "height": 441
        },
        "id": "K5ecm1DnjMV7",
        "outputId": "b80e1196-a3e0-4617-8f4c-211ebe8f43f2"
      },
      "source": [
        "# data from training with freezed mobilenet\n",
        "acc = history.history['accuracy']\n",
        "val_acc = history.history['val_accuracy']\n",
        "loss = history.history['loss']\n",
        "val_loss = history.history['val_loss']\n",
        "\n",
        "# data from fine-tuning training\n",
        "ft_acc = history.history['accuracy']\n",
        "ft_val_acc = history.history['val_accuracy']\n",
        "ft_loss = history.history['loss']\n",
        "ft_val_loss = history.history['val_loss']\n",
        "\n",
        "# create figure\n",
        "fig, (acc_g,loss_g) = plt.subplots(1,2, figsize=(15,6))\n",
        "\n",
        "# range for x axis\n",
        "epochs = range(len(acc))\n",
        "\n",
        "# plot accuracy curves\n",
        "acc_g.plot(epochs, acc, 'kx-', label='Classifier training', linewidth=1)\n",
        "acc_g.plot(epochs, val_acc, 'rx-', label='Classifier validation', linewidth=1)\n",
        "acc_g.plot(epochs, ft_acc, 'g^-', label='Fine-tuning training', linewidth=1)\n",
        "acc_g.plot(epochs, ft_val_acc, 'b^-', label='Fine-tuning validation', linewidth=1)\n",
        "\n",
        "# plot loss curves\n",
        "loss_g.plot(epochs, loss, 'kx-', label='Classifier training ', linewidth=1)\n",
        "loss_g.plot(epochs, val_loss, 'rx-', label='Classifier validation', linewidth=1)\n",
        "loss_g.plot(epochs, ft_loss, 'g^-', label='Fine-tuning training ', linewidth=1)\n",
        "loss_g.plot(epochs, ft_val_loss, 'b^-', label='Fine-tuning validation', linewidth=1)\n",
        "\n",
        "# accuracy graph style options\n",
        "acc_g.grid(axis='y', linestyle='--', linewidth=0.5)\n",
        "acc_g.set_xlabel('Epochs')\n",
        "acc_g.set_ylabel('Accuracy')\n",
        "acc_g.set_title('Accuracy', fontdict={'fontsize':18, 'fontweight':'bold'}, pad=20)\n",
        "acc_g.legend(loc='upper right')\n",
        "\n",
        "# loss graph style options\n",
        "loss_g.grid(axis='y', linestyle='--', linewidth=0.5)\n",
        "loss_g.set_xlabel('Epochs')\n",
        "loss_g.set_ylabel('Loss')\n",
        "loss_g.set_title('Loss', fontdict={'fontsize':18, 'fontweight':'bold'}, pad=20)\n",
        "loss_g.legend(loc='upper right')\n",
        "\n",
        "# layout adjustment\n",
        "plt.tight_layout()\n",
        "\n",
        "# save graph\n",
        "fig.savefig('train_plots.png')"
      ],
      "execution_count": 44,
      "outputs": [
        {
          "output_type": "display_data",
          "data": {
            "image/png": "[encoded data removed]",
            "text/plain": [
              "<Figure size 1080x432 with 2 Axes>"
            ]
          },
          "metadata": {
            "tags": [],
            "needs_background": "light"
          }
        }
      ]
    },
    {
      "cell_type": "code",
      "metadata": {
        "id": "o-pUz2DCQqE-",
        "colab": {
          "base_uri": "https://localhost:8080/"
        },
        "outputId": "3b4b32c1-0ace-4f19-9ea5-2cd94f6fbaaf"
      },
      "source": [
        "test_loss, test_accuracy = model.evaluate(test_set)\n",
        "print(\"Test loss: \", test_loss)\n",
        "print(\"Test accuracy: \", test_accuracy)"
      ],
      "execution_count": 40,
      "outputs": [
        {
          "output_type": "stream",
          "text": [
            "119/119 [==============================] - 35s 296ms/step - loss: 6.1520 - accuracy: 0.0094\n",
            "Test loss:  6.151988506317139\n",
            "Test accuracy:  0.009438944049179554\n"
          ],
          "name": "stdout"
        }
      ]
    },
    {
      "cell_type": "code",
      "metadata": {
        "id": "0M-zxDlqpJwq"
      },
      "source": [
        "model.save('/content/model.h5')"
      ],
      "execution_count": 10,
      "outputs": []
    },
    {
      "cell_type": "code",
      "metadata": {
        "id": "osrXIVDjLieb"
      },
      "source": [
        "# TODO: feature extraction with the fine-tuned model"
      ],
      "execution_count": null,
      "outputs": []
    }
  ]
}