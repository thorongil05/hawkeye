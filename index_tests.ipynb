{
  "nbformat": 4,
  "nbformat_minor": 0,
  "metadata": {
    "colab": {
      "name": "index_tests.ipynb",
      "provenance": [],
      "collapsed_sections": [
        "Z6xdSZ3fxgzX",
        "TbrdN4xByCas",
        "OTtZ5Ni_kOPP"
      ]
    },
    "kernelspec": {
      "name": "python3",
      "display_name": "Python 3"
    }
  },
  "cells": [
    {
      "cell_type": "markdown",
      "metadata": {
        "id": "UI-ZGVGAtdnQ"
      },
      "source": [
        "# Index Tests\n",
        "Tests on the creation use data with the following composition:\n",
        "- test1: 20 3-dimensional points\n",
        "- test2: 30 3-dimensional points\n",
        "- test3: 100 4-dimensional points"
      ]
    },
    {
      "cell_type": "markdown",
      "metadata": {
        "id": "WoYf-QBrvqu6"
      },
      "source": [
        "## Import Vantage Point Tree Classes"
      ]
    },
    {
      "cell_type": "code",
      "metadata": {
        "colab": {
          "base_uri": "https://localhost:8080/"
        },
        "id": "hhu_h4hwuwL-",
        "outputId": "caa4cf09-6e1c-41be-f942-fa2f95a53bd7"
      },
      "source": [
        "from google.colab import drive\n",
        "drive.mount('/content/gdrive')"
      ],
      "execution_count": 1,
      "outputs": [
        {
          "output_type": "stream",
          "text": [
            "Mounted at /content/gdrive\n"
          ],
          "name": "stdout"
        }
      ]
    },
    {
      "cell_type": "code",
      "metadata": {
        "colab": {
          "base_uri": "https://localhost:8080/"
        },
        "id": "VToIJkQzuPOi",
        "outputId": "eec2f94f-74fa-49dd-c5ff-5708089be8ed"
      },
      "source": [
        "!pip install import-ipynb"
      ],
      "execution_count": 15,
      "outputs": [
        {
          "output_type": "stream",
          "text": [
            "shell-init: error retrieving current directory: getcwd: cannot access parent directories: Transport endpoint is not connected\n",
            "shell-init: error retrieving current directory: getcwd: cannot access parent directories: Transport endpoint is not connected\n",
            "The folder you are executing pip from can no longer be found.\n"
          ],
          "name": "stdout"
        }
      ]
    },
    {
      "cell_type": "code",
      "metadata": {
        "colab": {
          "base_uri": "https://localhost:8080/"
        },
        "id": "zGnwswt4tcaS",
        "outputId": "2a3203d0-4b94-4fdb-c8d0-20db51c3c939"
      },
      "source": [
        "%cd \"/content/gdrive/MyDrive/[MIRCV]FoodWebSearch/notebooks\"\n",
        "\n",
        "import import_ipynb\n",
        "from index_creation import VP_Tree, Node\n",
        "\n",
        "print(\"\\nClass VP_Tree and Node has been imported correctly\")"
      ],
      "execution_count": 2,
      "outputs": [
        {
          "output_type": "stream",
          "text": [
            "/content/gdrive/.shortcut-targets-by-id/1Lqbq3dboVPe48Cxj_XZyhRs54U4hXhEM/[MIRCV]FoodWebSearch/notebooks\n",
            "importing Jupyter notebook from index_creation.ipynb\n",
            "Drive already mounted at /content/gdrive; to attempt to forcibly remount, call drive.mount(\"/content/gdrive\", force_remount=True).\n",
            "\n",
            "Class VP_Tree and Node has been imported correctly\n"
          ],
          "name": "stdout"
        }
      ]
    },
    {
      "cell_type": "markdown",
      "metadata": {
        "id": "Z6xdSZ3fxgzX"
      },
      "source": [
        "## Initialize Notebook"
      ]
    },
    {
      "cell_type": "code",
      "metadata": {
        "id": "kSJEPJ6dxlY7"
      },
      "source": [
        "import numpy as np\n",
        "import os\n",
        "from scipy.spatial import distance as d\n",
        "\n",
        "TEST_PATH = \"/content/gdrive/My Drive/[MIRCV]FoodWebSearch/antonio-tests\"\n",
        "\n",
        "FEATURES_PATH_TEST_1 = \"/content/gdrive/My Drive/[MIRCV]FoodWebSearch/antonio-tests/features-test-1.npy\"\n",
        "FEATURES_NAMES_TEST_1 = \"/content/gdrive/My Drive/[MIRCV]FoodWebSearch/antonio-tests/features-names-test-1.npy\"\n",
        "\n",
        "FEATURES_PATH_TEST_2 = \"/content/gdrive/My Drive/[MIRCV]FoodWebSearch/antonio-tests/features-test-2.npy\"\n",
        "FEATURES_NAMES_TEST_2 = \"/content/gdrive/My Drive/[MIRCV]FoodWebSearch/antonio-tests/features-names-test-2.npy\"\n",
        "\n",
        "FEATURES_PATH_TEST_3 = \"/content/gdrive/My Drive/[MIRCV]FoodWebSearch/antonio-tests/features-test-3.npy\"\n",
        "FEATURES_NAMES_TEST_3 = \"/content/gdrive/My Drive/[MIRCV]FoodWebSearch/antonio-tests/features-names-test-3.npy\""
      ],
      "execution_count": 3,
      "outputs": []
    },
    {
      "cell_type": "markdown",
      "metadata": {
        "id": "XI4zCLi7v7mp"
      },
      "source": [
        "## Partition By Median Tests"
      ]
    },
    {
      "cell_type": "code",
      "metadata": {
        "colab": {
          "base_uri": "https://localhost:8080/"
        },
        "id": "Ygry8Ffqxcpf",
        "outputId": "d2391971-9b2f-4593-9249-133a02cbf589"
      },
      "source": [
        "# Partition By Median Tests 1\n",
        "data = [(\"image0\", np.array([0,2,1])) , (\"image1\",np.array([2,3,6])), (\"image2\",np.array([5,3,2])),\n",
        "          (\"image3\",np.array([5,6,4])), (\"image4\",np.array([5,16,1])), (\"image5\",np.array([2,6,2])), (\"image6\",np.array([1,3,1]))]\n",
        "\n",
        "vantage_point_tree = VP_Tree(\"Index_Test\", 5)\n",
        "node, s_1, s_2 = vantage_point_tree.partition_by_median(data)\n",
        "\n",
        "print(\"Node:\", node.pivot)\n",
        "print(\"Median:\", node.median)\n",
        "print(\"Set 1:\", s_1)\n",
        "print(\"Set 2:\", s_2)"
      ],
      "execution_count": null,
      "outputs": [
        {
          "output_type": "stream",
          "text": [
            "Node: ('image1', array([2, 3, 6]))\n",
            "Median: 5.049509756796392\n",
            "Set 1: [('image3', array([5, 6, 4])), ('image2', array([5, 3, 2])), ('image5', array([2, 6, 2]))]\n",
            "Set 2: [('image6', array([1, 3, 1])), ('image0', array([0, 2, 1])), ('image4', array([ 5, 16,  1]))]\n"
          ],
          "name": "stdout"
        }
      ]
    },
    {
      "cell_type": "code",
      "metadata": {
        "colab": {
          "base_uri": "https://localhost:8080/"
        },
        "id": "3QN6WFOyxwf8",
        "outputId": "cc304b28-ea53-4d1b-c7db-5347858888e2"
      },
      "source": [
        "# Partition By Median Tests 2\n",
        "data = [(\"img_1\",np.array([0,0])), (\"img_2\",np.array([0,1])), (\"img_3\",np.array([2,2])), (\"img_4\",np.array([3,3]))]\n",
        "\n",
        "vantage_point_tree = VP_Tree(\"Index_Test\", 5)\n",
        "\n",
        "node, s_1, s_2 = vantage_point_tree.partition_by_median(data)\n",
        "\n",
        "print(\"Pivot:\", node.pivot)\n",
        "print(\"Median:\", node.median)\n",
        "print(\"Set 1:\", s_1)\n",
        "print(\"Set 2:\", s_2)"
      ],
      "execution_count": null,
      "outputs": [
        {
          "output_type": "stream",
          "text": [
            "Pivot: ('img_3', array([2, 2]))\n",
            "Median: 2.23606797749979\n",
            "Set 1: [('img_4', array([3, 3])), ('img_2', array([0, 1]))]\n",
            "Set 2: [('img_2', array([0, 1])), ('img_1', array([0, 0]))]\n"
          ],
          "name": "stdout"
        }
      ]
    },
    {
      "cell_type": "markdown",
      "metadata": {
        "id": "TbrdN4xByCas"
      },
      "source": [
        "## Creation Tests with euclidean distance"
      ]
    },
    {
      "cell_type": "code",
      "metadata": {
        "colab": {
          "base_uri": "https://localhost:8080/"
        },
        "id": "ai4DaIEfyKnh",
        "outputId": "48ea64de-1d6a-49c9-d1dc-cfb3f15813bd"
      },
      "source": [
        "# Create Tree Test 1\n",
        "vantage_point_tree = VP_Tree(\"Index_Test_1\",4)\n",
        "vantage_point_tree.create_vptree(FEATURES_NAMES_TEST_1,FEATURES_PATH_TEST_1)\n",
        "result = VP_Tree.print_tree(vantage_point_tree.root, level=1)\n",
        "\n",
        "print(\"Result:\\n\" + result + \"\\n\")\n",
        "\n",
        "index_name = vantage_point_tree.index_name\n",
        "\n",
        "path = VP_Tree.save_vptree(os.path.join(TEST_PATH, index_name),vantage_point_tree)\n",
        "\n",
        "print(\"Saved on:\", path)\n",
        "\n",
        "tree_loaded = VP_Tree.load_vptree(path)\n",
        "\n",
        "print(\"\\nTree Loaded\\n\")\n",
        "result = VP_Tree.print_tree(tree_loaded.root, level=1)\n",
        "print(result)"
      ],
      "execution_count": 5,
      "outputs": [
        {
          "output_type": "stream",
          "text": [
            "Number of data: 21\n",
            "The max height of the tree is: 3\n",
            "Tree is building\n",
            "Building of the tree completed in: 5.468463897705078 s\n",
            "Result:\n",
            "id: 0 ('img13', array([ 2,  3, 10]))\n",
            "\tid: 00 ('img6', array([1, 3, 1]))\n",
            "\t\tid: 000 ('img0', array([0, 2, 1]))\n",
            "\t\t\t/content/gdrive/My Drive/[MIRCV]FoodWebSearch/antonio-tests/Index_Test_1/leaves_3/000_subset_1.npy\n",
            "\t\t\t/content/gdrive/My Drive/[MIRCV]FoodWebSearch/antonio-tests/Index_Test_1/leaves_3/000_subset_2.npy\n",
            "\t\tid: 001 ('img18', array([ 5, 23,  1]))\n",
            "\t\t\t/content/gdrive/My Drive/[MIRCV]FoodWebSearch/antonio-tests/Index_Test_1/leaves_3/001_subset_1.npy\n",
            "\t\t\t/content/gdrive/My Drive/[MIRCV]FoodWebSearch/antonio-tests/Index_Test_1/leaves_3/001_subset_2.npy\n",
            "\tid: 01 ('img17', array([25,  6, 41]))\n",
            "\t\tid: 010 ('img9', array([15, 32, 22]))\n",
            "\t\t\t/content/gdrive/My Drive/[MIRCV]FoodWebSearch/antonio-tests/Index_Test_1/leaves_3/010_subset_1.npy\n",
            "\t\t\t/content/gdrive/My Drive/[MIRCV]FoodWebSearch/antonio-tests/Index_Test_1/leaves_3/010_subset_2.npy\n",
            "\t\tid: 011 ('img14', array([32, 65,  5]))\n",
            "\t\t\t/content/gdrive/My Drive/[MIRCV]FoodWebSearch/antonio-tests/Index_Test_1/leaves_3/011_subset_1.npy\n",
            "\t\t\t/content/gdrive/My Drive/[MIRCV]FoodWebSearch/antonio-tests/Index_Test_1/leaves_3/011_subset_2.npy\n",
            "\n",
            "File saved correctly in: /content/gdrive/My Drive/[MIRCV]FoodWebSearch/antonio-tests/Index_Test_1/Index_Test_1.json\n",
            "Saved on: /content/gdrive/My Drive/[MIRCV]FoodWebSearch/antonio-tests/Index_Test_1/Index_Test_1.json\n",
            "Tree loaded correctly\n",
            "\n",
            "Tree Loaded\n",
            "\n",
            "id: 0 ['img13', [2, 3, 10]]\n",
            "\tid: 00 ['img6', [1, 3, 1]]\n",
            "\t\tid: 000 ['img0', [0, 2, 1]]\n",
            "\t\t\t/content/gdrive/My Drive/[MIRCV]FoodWebSearch/antonio-tests/Index_Test_1/leaves_3/000_subset_1.npy\n",
            "\t\t\t/content/gdrive/My Drive/[MIRCV]FoodWebSearch/antonio-tests/Index_Test_1/leaves_3/000_subset_2.npy\n",
            "\t\tid: 001 ['img18', [5, 23, 1]]\n",
            "\t\t\t/content/gdrive/My Drive/[MIRCV]FoodWebSearch/antonio-tests/Index_Test_1/leaves_3/001_subset_1.npy\n",
            "\t\t\t/content/gdrive/My Drive/[MIRCV]FoodWebSearch/antonio-tests/Index_Test_1/leaves_3/001_subset_2.npy\n",
            "\tid: 01 ['img17', [25, 6, 41]]\n",
            "\t\tid: 010 ['img9', [15, 32, 22]]\n",
            "\t\t\t/content/gdrive/My Drive/[MIRCV]FoodWebSearch/antonio-tests/Index_Test_1/leaves_3/010_subset_1.npy\n",
            "\t\t\t/content/gdrive/My Drive/[MIRCV]FoodWebSearch/antonio-tests/Index_Test_1/leaves_3/010_subset_2.npy\n",
            "\t\tid: 011 ['img14', [32, 65, 5]]\n",
            "\t\t\t/content/gdrive/My Drive/[MIRCV]FoodWebSearch/antonio-tests/Index_Test_1/leaves_3/011_subset_1.npy\n",
            "\t\t\t/content/gdrive/My Drive/[MIRCV]FoodWebSearch/antonio-tests/Index_Test_1/leaves_3/011_subset_2.npy\n"
          ],
          "name": "stdout"
        }
      ]
    },
    {
      "cell_type": "code",
      "metadata": {
        "id": "Bkdc8A5V07gj"
      },
      "source": [
        "# Create Tree Test 2\n",
        "vantage_point_tree = VP_Tree(\"Index_Test_2\",4)\n",
        "vantage_point_tree.create_vptree(FEATURES_NAMES_TEST_2, FEATURES_PATH_TEST_2)\n",
        "result = VP_Tree.print_tree(vantage_point_tree.root, level=1)\n",
        "print(\"Result:\\n\" + result + \"\\n\")\n",
        "\n",
        "path = VP_Tree.save_vptree(os.path.join(TEST_PATH, index_name),vantage_point_tree)\n",
        "\n",
        "print(\"Saved on:\", path)\n",
        "\n",
        "tree_loaded = VP_Tree.load_vptree(path)\n",
        "\n",
        "print(\"\\nTree Loaded\\n\")\n",
        "result = VP_Tree.print_tree(tree_loaded.root, level=1)\n",
        "print(result)"
      ],
      "execution_count": null,
      "outputs": []
    },
    {
      "cell_type": "code",
      "metadata": {
        "id": "lqyPbxEL1GMS"
      },
      "source": [
        "# Create Tree Test 3\n",
        "vantage_point_tree = VP_Tree(\"Index_Test_3\",6)\n",
        "vantage_point_tree.create_vptree(FEATURES_NAMES_TEST_3, FEATURES_PATH_TEST_3)\n",
        "result = VP_Tree.print_tree(vantage_point_tree.root, level=1)\n",
        "print(\"Result:\\n\" + result + \"\\n\")\n",
        "\n",
        "path = VP_Tree.save_vptree(os.path.join(TEST_PATH, index_name),vantage_point_tree)\n",
        "\n",
        "print(\"Saved on:\", path)\n",
        "\n",
        "tree_loaded = VP_Tree.load_vptree(path)\n",
        "\n",
        "print(\"\\nTree Loaded\\n\")\n",
        "result = VP_Tree.print_tree(tree_loaded.root, level=1)\n",
        "print(result)"
      ],
      "execution_count": null,
      "outputs": []
    },
    {
      "cell_type": "code",
      "metadata": {
        "id": "PI-RQuKf1W2m"
      },
      "source": [
        "# Create Tree Test 4\n",
        "vantage_point_tree = VP_Tree(\"Index_Test_4\",4, disk_mode=True,leaves_path=TEST_PATH)\n",
        "vantage_point_tree.create_vptree(FEATURES_NAMES_TEST_1, FEATURES_PATH_TEST_1)\n",
        "result = VP_Tree.print_tree(vantage_point_tree.root, level=1, disk_mode=True)\n",
        "\n",
        "print(\"Result:\\n\" + result + \"\\n\")\n",
        "\n",
        "path = VP_Tree.save_vptree(os.path.join(TEST_PATH, index_name),vantage_point_tree)\n",
        "\n",
        "print(\"Saved on:\", path)\n",
        "\n",
        "tree_loaded = VP_Tree.load_vptree(path)\n",
        "\n",
        "print(\"\\nTree Loaded\\n\")\n",
        "result = VP_Tree.print_tree(tree_loaded.root, level=1)\n",
        "print(result)"
      ],
      "execution_count": null,
      "outputs": []
    },
    {
      "cell_type": "markdown",
      "metadata": {
        "id": "OTtZ5Ni_kOPP"
      },
      "source": [
        "## Creation Tests with Cosine Similarity"
      ]
    },
    {
      "cell_type": "code",
      "metadata": {
        "colab": {
          "base_uri": "https://localhost:8080/"
        },
        "id": "RfJGReRQkTBH",
        "outputId": "9ee028d4-8ec9-4f64-de1f-142d308689b7"
      },
      "source": [
        "# Create Tree Test 1\n",
        "vantage_point_tree = VP_Tree(\"Index_Test_1_sim\",4, disk_mode=True, use_similarity=True)\n",
        "vantage_point_tree.create_vptree(FEATURES_NAMES_TEST_1,FEATURES_PATH_TEST_1)\n",
        "result = VP_Tree.print_tree(vantage_point_tree.root, level=1)\n",
        "\n",
        "print(\"Result:\\n\" + result + \"\\n\")\n",
        "\n",
        "index_name = vantage_point_tree.index_name\n",
        "\n",
        "path = VP_Tree.save_vptree(os.path.join(TEST_PATH, index_name),vantage_point_tree)\n",
        "\n",
        "print(\"Saved on:\", path)\n",
        "\n",
        "tree_loaded = VP_Tree.load_vptree(path)\n",
        "\n",
        "print(\"\\nTree Loaded\\n\")\n",
        "result = VP_Tree.print_tree(tree_loaded.root, level=1)\n",
        "print(result)"
      ],
      "execution_count": null,
      "outputs": [
        {
          "output_type": "stream",
          "text": [
            "Number of data: 21\n",
            "The max height of the tree is: 3\n",
            "Tree is building\n",
            "Building of the tree completed in: 3.6347827911376953 s\n",
            "Result:\n",
            "id: 0 ('img20', array([10, 31, 10]))\n",
            "\tid: 00 ('img0', array([0, 2, 1]))\n",
            "\t\tid: 000 ('img7', array([ 5, 23,  4]))\n",
            "\t\t\t/content/gdrive/My Drive/[MIRCV]FoodWebSearch/antonio-tests/Index_Test_1_sim/leaves_3/000_subset_1.npy\n",
            "\t\t\t/content/gdrive/My Drive/[MIRCV]FoodWebSearch/antonio-tests/Index_Test_1_sim/leaves_3/000_subset_2.npy\n",
            "\t\tid: 001 ('img4', array([ 5, 16,  1]))\n",
            "\t\t\t/content/gdrive/My Drive/[MIRCV]FoodWebSearch/antonio-tests/Index_Test_1_sim/leaves_3/001_subset_1.npy\n",
            "\t\t\t/content/gdrive/My Drive/[MIRCV]FoodWebSearch/antonio-tests/Index_Test_1_sim/leaves_3/001_subset_2.npy\n",
            "\tid: 01 ('img3', array([5, 6, 4]))\n",
            "\t\tid: 010 ('img10', array([77, 61, 46]))\n",
            "\t\t\t/content/gdrive/My Drive/[MIRCV]FoodWebSearch/antonio-tests/Index_Test_1_sim/leaves_3/010_subset_1.npy\n",
            "\t\t\t/content/gdrive/My Drive/[MIRCV]FoodWebSearch/antonio-tests/Index_Test_1_sim/leaves_3/010_subset_2.npy\n",
            "\t\tid: 011 ('img17', array([25,  6, 41]))\n",
            "\t\t\t/content/gdrive/My Drive/[MIRCV]FoodWebSearch/antonio-tests/Index_Test_1_sim/leaves_3/011_subset_1.npy\n",
            "\t\t\t/content/gdrive/My Drive/[MIRCV]FoodWebSearch/antonio-tests/Index_Test_1_sim/leaves_3/011_subset_2.npy\n",
            "\n",
            "File saved correctly in: /content/gdrive/My Drive/[MIRCV]FoodWebSearch/antonio-tests/Index_Test_1_sim/Index_Test_1_sim.json\n",
            "Saved on: /content/gdrive/My Drive/[MIRCV]FoodWebSearch/antonio-tests/Index_Test_1_sim/Index_Test_1_sim.json\n",
            "Tree loaded correctly\n",
            "\n",
            "Tree Loaded\n",
            "\n",
            "id: 0 ['img20', [10, 31, 10]]\n",
            "\tid: 00 ['img0', [0, 2, 1]]\n",
            "\t\tid: 000 ['img7', [5, 23, 4]]\n",
            "\t\t\t/content/gdrive/My Drive/[MIRCV]FoodWebSearch/antonio-tests/Index_Test_1_sim/leaves_3/000_subset_1.npy\n",
            "\t\t\t/content/gdrive/My Drive/[MIRCV]FoodWebSearch/antonio-tests/Index_Test_1_sim/leaves_3/000_subset_2.npy\n",
            "\t\tid: 001 ['img4', [5, 16, 1]]\n",
            "\t\t\t/content/gdrive/My Drive/[MIRCV]FoodWebSearch/antonio-tests/Index_Test_1_sim/leaves_3/001_subset_1.npy\n",
            "\t\t\t/content/gdrive/My Drive/[MIRCV]FoodWebSearch/antonio-tests/Index_Test_1_sim/leaves_3/001_subset_2.npy\n",
            "\tid: 01 ['img3', [5, 6, 4]]\n",
            "\t\tid: 010 ['img10', [77, 61, 46]]\n",
            "\t\t\t/content/gdrive/My Drive/[MIRCV]FoodWebSearch/antonio-tests/Index_Test_1_sim/leaves_3/010_subset_1.npy\n",
            "\t\t\t/content/gdrive/My Drive/[MIRCV]FoodWebSearch/antonio-tests/Index_Test_1_sim/leaves_3/010_subset_2.npy\n",
            "\t\tid: 011 ['img17', [25, 6, 41]]\n",
            "\t\t\t/content/gdrive/My Drive/[MIRCV]FoodWebSearch/antonio-tests/Index_Test_1_sim/leaves_3/011_subset_1.npy\n",
            "\t\t\t/content/gdrive/My Drive/[MIRCV]FoodWebSearch/antonio-tests/Index_Test_1_sim/leaves_3/011_subset_2.npy\n"
          ],
          "name": "stdout"
        }
      ]
    },
    {
      "cell_type": "markdown",
      "metadata": {
        "id": "XbkURlxk2AQp"
      },
      "source": [
        "## Searching Tests"
      ]
    },
    {
      "cell_type": "markdown",
      "metadata": {
        "id": "fhvjCdsGl-C4"
      },
      "source": [
        "### Tree with Euclidean Distance"
      ]
    },
    {
      "cell_type": "code",
      "metadata": {
        "colab": {
          "base_uri": "https://localhost:8080/"
        },
        "id": "VqeptUK52FZ9",
        "outputId": "ac089306-cb3a-4a4c-a75a-5b69099c8b14"
      },
      "source": [
        "# k-NN search Test 1\n",
        "vantage_point_tree = VP_Tree(\"Index_Test\",4)\n",
        "vantage_point_tree.create_vptree(FEATURES_NAMES_TEST_1, FEATURES_PATH_TEST_1)\n",
        "print(VP_Tree.print_tree(vantage_point_tree.root,1))\n",
        "\n",
        "query = [0,1,1]\n",
        "k = 3\n",
        "\n",
        "print(\"Query:\", query, \"\\n\")\n",
        "\n",
        "nn, d_nn = vantage_point_tree.knn_search(k, query)\n",
        "\n",
        "print(\"\\nk-NN search on the tree\")\n",
        "print(\"Points:\", nn)\n",
        "print(\"Distances:\", d_nn)\n",
        "print(\"Distance Computed:\", vantage_point_tree.distance_computed)\n",
        "print(\"File Accessed:\", vantage_point_tree.file_accessed)\n",
        "\n",
        "print(\"\\n\\nSequential Scan on the array\")\n",
        "data = np.load(FEATURES_PATH_TEST_1)\n",
        "distances = [d.euclidean(point, query) for point in data]\n",
        "zipped = sorted(zip(data, distances), key=lambda x:x[1])\n",
        "for element in zipped[0:k]:\n",
        "  print(element)"
      ],
      "execution_count": 8,
      "outputs": [
        {
          "output_type": "stream",
          "text": [
            "Number of data: 21\n",
            "The max height of the tree is: 3\n",
            "Tree is building\n",
            "Building of the tree completed in: 0.05205059051513672 s\n",
            "id: 0 ('img3', array([5, 6, 4]))\n",
            "\tid: 00 ('img5', array([2, 6, 2]))\n",
            "\t\tid: 000 ('img0', array([0, 2, 1]))\n",
            "\t\t\t/content/gdrive/My Drive/[MIRCV]FoodWebSearch/antonio-tests/Index_Test/leaves_3/000_subset_1.npy\n",
            "\t\t\t/content/gdrive/My Drive/[MIRCV]FoodWebSearch/antonio-tests/Index_Test/leaves_3/000_subset_2.npy\n",
            "\t\tid: 001 ('img4', array([ 5, 16,  1]))\n",
            "\t\t\t/content/gdrive/My Drive/[MIRCV]FoodWebSearch/antonio-tests/Index_Test/leaves_3/001_subset_1.npy\n",
            "\t\t\t/content/gdrive/My Drive/[MIRCV]FoodWebSearch/antonio-tests/Index_Test/leaves_3/001_subset_2.npy\n",
            "\tid: 01 ('img10', array([77, 61, 46]))\n",
            "\t\tid: 010 ('img20', array([10, 31, 10]))\n",
            "\t\t\t/content/gdrive/My Drive/[MIRCV]FoodWebSearch/antonio-tests/Index_Test/leaves_3/010_subset_1.npy\n",
            "\t\t\t/content/gdrive/My Drive/[MIRCV]FoodWebSearch/antonio-tests/Index_Test/leaves_3/010_subset_2.npy\n",
            "\t\tid: 011 ('img8', array([223,  23,  61]))\n",
            "\t\t\t/content/gdrive/My Drive/[MIRCV]FoodWebSearch/antonio-tests/Index_Test/leaves_3/011_subset_1.npy\n",
            "\t\t\t/content/gdrive/My Drive/[MIRCV]FoodWebSearch/antonio-tests/Index_Test/leaves_3/011_subset_2.npy\n",
            "Query: [0, 1, 1] \n",
            "\n",
            "Query answered in 0.015189886093139648  s\n",
            "\n",
            "k-NN search on the tree\n",
            "Points: [('img0', array([0, 2, 1])), array(['img6', array([1, 3, 1])], dtype=object), ('img5', array([2, 6, 2]))]\n",
            "Distances: [1.0, 2.23606797749979, 5.477225575051661]\n",
            "Distance Computed: 27\n",
            "File Accessed: 0\n",
            "\n",
            "\n",
            "Sequential Scan on the array\n",
            "(array([0, 2, 1]), 1.0)\n",
            "(array([1, 3, 1]), 2.23606797749979)\n",
            "(array([5, 3, 2]), 5.477225575051661)\n"
          ],
          "name": "stdout"
        }
      ]
    },
    {
      "cell_type": "code",
      "metadata": {
        "colab": {
          "base_uri": "https://localhost:8080/"
        },
        "id": "cQVfzJ1q24ol",
        "outputId": "a4ba341f-34f2-4166-b8f5-27eab07e92f5"
      },
      "source": [
        "# k-NN search Test 2\n",
        "vantage_point_tree = VP_Tree(\"Index_Test_3\",4)\n",
        "vantage_point_tree.create_vptree(FEATURES_NAMES_TEST_2, FEATURES_PATH_TEST_2)\n",
        "print(VP_Tree.print_tree(vantage_point_tree.root,1))\n",
        "\n",
        "query = [0,1,1]\n",
        "k = 3\n",
        "\n",
        "nn, d_nn = vantage_point_tree.knn_search(k, query)\n",
        "\n",
        "print(\"Query:\", query)\n",
        "\n",
        "print(\"k-NN search on the tree\")\n",
        "print(\"Points:\", nn)\n",
        "print(\"Distances:\", d_nn)\n",
        "print(\"Distance Computed:\", vantage_point_tree.distance_computed)\n",
        "print(\"File Accessed:\", vantage_point_tree.file_accessed)\n",
        "\n",
        "print(\"\\n\\nSequential Scan on the array\")\n",
        "data = np.load(FEATURES_PATH_TEST_2)\n",
        "distances = [d.euclidean(point, query) for point in data]\n",
        "zipped = sorted(zip(data, distances), key=lambda x:x[1])\n",
        "for element in zipped[0:k]:\n",
        "  print(element)"
      ],
      "execution_count": null,
      "outputs": [
        {
          "output_type": "stream",
          "text": [
            "Number of data: 30\n",
            "The max height of the tree is: 3\n",
            "Tree is building\n",
            "Building of the tree completed in: 6.901199102401733 s\n",
            "id: 0 ('img_26', array([49., 83., 24.]))\n",
            "\tid: 00 ('img_16', array([56., 97., 40.]))\n",
            "\t\tid: 000 ('img_23', array([40., 97., 35.]))\n",
            "\t\t\t/content/gdrive/My Drive/[MIRCV]FoodWebSearch/antonio-tests/Index_Test_3/leaves_3/000_subset_1.npy\n",
            "\t\t\t/content/gdrive/My Drive/[MIRCV]FoodWebSearch/antonio-tests/Index_Test_3/leaves_3/000_subset_2.npy\n",
            "\t\tid: 001 ('img_1', array([60.21, 24.  , 26.  ]))\n",
            "\t\t\t/content/gdrive/My Drive/[MIRCV]FoodWebSearch/antonio-tests/Index_Test_3/leaves_3/001_subset_1.npy\n",
            "\t\t\t/content/gdrive/My Drive/[MIRCV]FoodWebSearch/antonio-tests/Index_Test_3/leaves_3/001_subset_2.npy\n",
            "\tid: 01 ('img_8', array([98., 27., 22.]))\n",
            "\t\tid: 010 ('img_29', array([43., 34., 61.]))\n",
            "\t\t\t/content/gdrive/My Drive/[MIRCV]FoodWebSearch/antonio-tests/Index_Test_3/leaves_3/010_subset_1.npy\n",
            "\t\t\t/content/gdrive/My Drive/[MIRCV]FoodWebSearch/antonio-tests/Index_Test_3/leaves_3/010_subset_2.npy\n",
            "\t\tid: 011 ('img_21', array([66., 61., 89.]))\n",
            "\t\t\t/content/gdrive/My Drive/[MIRCV]FoodWebSearch/antonio-tests/Index_Test_3/leaves_3/011_subset_1.npy\n",
            "\t\t\t/content/gdrive/My Drive/[MIRCV]FoodWebSearch/antonio-tests/Index_Test_3/leaves_3/011_subset_2.npy\n",
            "Query answered in 0.009626388549804688  s\n",
            "Query: [0, 1, 1]\n",
            "k-NN search on the tree\n",
            "Points: [array(['img_10', array([ 4.,  9., 22.])], dtype=object), array(['img_24', array([26.,  3., 10.])], dtype=object), array(['img_6', array([32., 13.,  6.])], dtype=object)]\n",
            "Distances: [22.825424421026653, 27.586228448267445, 34.539832078341085]\n",
            "Distance Computed: 24\n",
            "File Accessed: 6\n",
            "\n",
            "\n",
            "Sequential Scan on the array\n",
            "(array([ 4.,  9., 22.]), 22.825424421026653)\n",
            "(array([26.,  3., 10.]), 27.586228448267445)\n",
            "(array([32., 13.,  6.]), 34.539832078341085)\n"
          ],
          "name": "stdout"
        }
      ]
    },
    {
      "cell_type": "code",
      "metadata": {
        "colab": {
          "base_uri": "https://localhost:8080/"
        },
        "id": "UQkMSIhm3Qg0",
        "outputId": "a4d02fb9-c537-4411-fa7c-d85a4fcd62a0"
      },
      "source": [
        "# k-NN search Test 3\n",
        "vantage_point_tree = VP_Tree(\"Index_Test_3\",4)\n",
        "vantage_point_tree.create_vptree(FEATURES_NAMES_TEST_3, FEATURES_PATH_TEST_3)\n",
        "print(VP_Tree.print_tree(vantage_point_tree.root,1))\n",
        "\n",
        "query = [2,17,26,31]\n",
        "k = 6\n",
        "\n",
        "nn, d_nn = vantage_point_tree.knn_search(k, query)\n",
        "\n",
        "print(\"Query:\", query)\n",
        "\n",
        "print(\"k-NN search on the tree\")\n",
        "print(\"Points:\", nn)\n",
        "print(\"Distances:\", d_nn)\n",
        "print(\"Distance Computed:\", vantage_point_tree.distance_computed)\n",
        "print(\"File Accessed:\", vantage_point_tree.file_accessed)\n",
        "\n",
        "print(\"\\n\\nSequential Scan on the array\")\n",
        "data = np.load(FEATURES_PATH_TEST_3)\n",
        "distances = [d.euclidean(point, query) for point in data]\n",
        "zipped = sorted(zip(data, distances), key=lambda x:x[1])\n",
        "for element in zipped[0:k]:\n",
        "  print(element)"
      ],
      "execution_count": null,
      "outputs": [
        {
          "output_type": "stream",
          "text": [
            "Number of data: 100\n",
            "The max height of the tree is: 5\n",
            "Tree is building\n",
            "Building of the tree completed in: 0.12288379669189453 s\n",
            "id: 0 ('img_28', array([86, 64, 36, 58]))\n",
            "\tid: 00 ('img_74', array([48, 53, 26, 39]))\n",
            "\t\tid: 000 ('img_33', array([45, 51, 30, 44]))\n",
            "\t\t\tid: 0000 ('img_64', array([80, 68, 43, 41]))\n",
            "\t\t\t\t/content/gdrive/My Drive/[MIRCV]FoodWebSearch/antonio-tests/Index_Test_3/leaves_4/0000_subset_1.npy\n",
            "\t\t\t\t/content/gdrive/My Drive/[MIRCV]FoodWebSearch/antonio-tests/Index_Test_3/leaves_4/0000_subset_2.npy\n",
            "\t\t\tid: 0001 ('img_31', array([82, 28, 35, 29]))\n",
            "\t\t\t\t/content/gdrive/My Drive/[MIRCV]FoodWebSearch/antonio-tests/Index_Test_3/leaves_4/0001_subset_1.npy\n",
            "\t\t\t\t/content/gdrive/My Drive/[MIRCV]FoodWebSearch/antonio-tests/Index_Test_3/leaves_4/0001_subset_2.npy\n",
            "\t\tid: 001 ('img_13', array([51, 84, 68, 72]))\n",
            "\t\t\tid: 0010 ('img_60', array([44, 36, 38, 92]))\n",
            "\t\t\t\t/content/gdrive/My Drive/[MIRCV]FoodWebSearch/antonio-tests/Index_Test_3/leaves_4/0010_subset_1.npy\n",
            "\t\t\t\t/content/gdrive/My Drive/[MIRCV]FoodWebSearch/antonio-tests/Index_Test_3/leaves_4/0010_subset_2.npy\n",
            "\t\t\tid: 0011 ('img_57', array([69, 12, 60, 52]))\n",
            "\t\t\t\t/content/gdrive/My Drive/[MIRCV]FoodWebSearch/antonio-tests/Index_Test_3/leaves_4/0011_subset_1.npy\n",
            "\t\t\t\t/content/gdrive/My Drive/[MIRCV]FoodWebSearch/antonio-tests/Index_Test_3/leaves_4/0011_subset_2.npy\n",
            "\tid: 01 ('img_80', array([10, 31, 30, 25]))\n",
            "\t\tid: 010 ('img_16', array([13, 16, 93, 12]))\n",
            "\t\t\tid: 0100 ('img_46', array([19, 28, 47, 39]))\n",
            "\t\t\t\t/content/gdrive/My Drive/[MIRCV]FoodWebSearch/antonio-tests/Index_Test_3/leaves_4/0100_subset_1.npy\n",
            "\t\t\t\t/content/gdrive/My Drive/[MIRCV]FoodWebSearch/antonio-tests/Index_Test_3/leaves_4/0100_subset_2.npy\n",
            "\t\t\tid: 0101 ('img_24', array([20, 73,  6, 64]))\n",
            "\t\t\t\t/content/gdrive/My Drive/[MIRCV]FoodWebSearch/antonio-tests/Index_Test_3/leaves_4/0101_subset_1.npy\n",
            "\t\t\t\t/content/gdrive/My Drive/[MIRCV]FoodWebSearch/antonio-tests/Index_Test_3/leaves_4/0101_subset_2.npy\n",
            "\t\tid: 011 ('img_51', array([ 4, 62, 39, 89]))\n",
            "\t\t\tid: 0110 ('img_26', array([20,  4, 73, 74]))\n",
            "\t\t\t\t/content/gdrive/My Drive/[MIRCV]FoodWebSearch/antonio-tests/Index_Test_3/leaves_4/0110_subset_1.npy\n",
            "\t\t\t\t/content/gdrive/My Drive/[MIRCV]FoodWebSearch/antonio-tests/Index_Test_3/leaves_4/0110_subset_2.npy\n",
            "\t\t\tid: 0111 ('img_7', array([17, 84, 91, 33]))\n",
            "\t\t\t\t/content/gdrive/My Drive/[MIRCV]FoodWebSearch/antonio-tests/Index_Test_3/leaves_4/0111_subset_1.npy\n",
            "\t\t\t\t/content/gdrive/My Drive/[MIRCV]FoodWebSearch/antonio-tests/Index_Test_3/leaves_4/0111_subset_2.npy\n",
            "Query answered in 0.023880720138549805  s\n",
            "Query: [2, 17, 26, 31]\n",
            "k-NN search on the tree\n",
            "Points: [array(['img_75', array([ 2, 17, 25, 31])], dtype=object), array(['img_45', array([11, 29, 18, 31])], dtype=object), array(['img_45', array([11, 29, 18, 31])], dtype=object), ('img_80', array([10, 31, 30, 25])), array(['img_95', array([14, 26, 10, 15])], dtype=object), array(['img_20', array([20, 28, 34, 12])], dtype=object)]\n",
            "Distances: [1.0, 17.0, 17.0, 17.663521732655695, 27.147743920996454, 29.49576240750525]\n",
            "Distance Computed: 99\n",
            "File Accessed: 14\n",
            "\n",
            "\n",
            "Sequential Scan on the array\n",
            "(array([ 2, 17, 25, 31]), 1.0)\n",
            "(array([11, 29, 18, 31]), 17.0)\n",
            "(array([10, 31, 30, 25]), 17.663521732655695)\n",
            "(array([14, 26, 10, 15]), 27.147743920996454)\n",
            "(array([20, 28, 34, 12]), 29.49576240750525)\n",
            "(array([19, 28, 47, 39]), 30.24896692450835)\n"
          ],
          "name": "stdout"
        }
      ]
    },
    {
      "cell_type": "code",
      "metadata": {
        "colab": {
          "base_uri": "https://localhost:8080/"
        },
        "id": "UdFlqWg33vag",
        "outputId": "2c548fa0-ab6c-4b4a-8e25-1fd2d254d7c2"
      },
      "source": [
        "#k-NN search Test 4\n",
        "vantage_point_tree = VP_Tree(\"Index_Test_3\",4, disk_mode=True)\n",
        "vantage_point_tree.create_vptree(FEATURES_NAMES_TEST_3, FEATURES_PATH_TEST_3)\n",
        "\n",
        "query = [0,1,1,2]\n",
        "k = 6\n",
        "\n",
        "nn, d_nn = vantage_point_tree.knn_search(k, query)\n",
        "\n",
        "print(\"Query:\", query)\n",
        "\n",
        "print(\"k-NN search on the tree\")\n",
        "print(\"Points:\", nn)\n",
        "print(\"Distances:\", d_nn)\n",
        "\n",
        "print(\"\\n\\nSequential Scan on the array\")\n",
        "data = np.load(FEATURES_PATH_TEST_3)\n",
        "distances = [d.euclidean(point, query) for point in data]\n",
        "zipped = sorted(zip(data, distances), key=lambda x:x[1])\n",
        "for element in zipped[0:k]:\n",
        "  print(element)"
      ],
      "execution_count": null,
      "outputs": [
        {
          "output_type": "stream",
          "text": [
            "Number of data: 100\n",
            "The max height of the tree is: 5\n",
            "Tree is building\n",
            "Building of the tree completed in: 0.11896729469299316 s\n",
            "Query answered in 0.026964664459228516  s\n",
            "Query: [0, 1, 1, 2]\n",
            "k-NN search on the tree\n",
            "Points: [array(['img_95', array([14, 26, 10, 15])], dtype=object), array(['img_75', array([ 2, 17, 25, 31])], dtype=object), array(['img_45', array([11, 29, 18, 31])], dtype=object), array(['img_20', array([20, 28, 34, 12])], dtype=object), array(['img_20', array([20, 28, 34, 12])], dtype=object), array(['img_80', array([10, 31, 30, 25])], dtype=object)]\n",
            "Distances: [32.72613634390714, 40.95119045888654, 45.110974274559844, 48.14561246884289, 48.14561246884289, 48.68264577855234]\n",
            "\n",
            "\n",
            "Sequential Scan on the array\n",
            "(array([14, 26, 10, 15]), 32.72613634390714)\n",
            "(array([ 2, 17, 25, 31]), 40.95119045888654)\n",
            "(array([11, 29, 18, 31]), 45.110974274559844)\n",
            "(array([20, 28, 34, 12]), 48.14561246884289)\n",
            "(array([10, 31, 30, 25]), 48.68264577855234)\n",
            "(array([33, 13, 16, 34]), 49.8196748283246)\n"
          ],
          "name": "stdout"
        }
      ]
    },
    {
      "cell_type": "markdown",
      "metadata": {
        "id": "nuTmeieCmDwm"
      },
      "source": [
        "### Tree with Cosine Similarity"
      ]
    },
    {
      "cell_type": "code",
      "metadata": {
        "colab": {
          "base_uri": "https://localhost:8080/",
          "height": 230
        },
        "id": "33GIOTUtmiOQ",
        "outputId": "e6eb9e47-d972-4ac7-8785-da6569f41075"
      },
      "source": [
        "# k-NN search Test 1 - Similarity\n",
        "vantage_point_tree = VP_Tree(\"Index_Test_1_sim\",4, use_similarity=True)\n",
        "vantage_point_tree.create_vptree(FEATURES_NAMES_TEST_1, FEATURES_PATH_TEST_1)\n",
        "\n",
        "query = [0,2,1]\n",
        "k = 3\n",
        "\n",
        "print(\"Query:\", query, \"\\n\")\n",
        "\n",
        "nn, d_nn = vantage_point_tree.knn_search(k, query)\n",
        "\n",
        "print(\"\\nk-NN search on the tree\")\n",
        "print(\"Points:\", nn)\n",
        "print(\"Distances:\", d_nn)\n",
        "\n",
        "print(\"\\n\\nSequential Scan on the array\")\n",
        "data = np.load(FEATURES_PATH_TEST_1)\n",
        "distances = [1-np.dot(point, query)/(np.linalg.norm(point)*np.linalg.norm(query)) for point in data]\n",
        "zipped = sorted(zip(data, distances), key=lambda x:x[1])\n",
        "for element in zipped[0:k]:\n",
        "  print(element)"
      ],
      "execution_count": null,
      "outputs": [
        {
          "output_type": "error",
          "ename": "NameError",
          "evalue": "ignored",
          "traceback": [
            "\u001b[0;31m---------------------------------------------------------------------------\u001b[0m",
            "\u001b[0;31mNameError\u001b[0m                                 Traceback (most recent call last)",
            "\u001b[0;32m<ipython-input-4-aa477ee4226f>\u001b[0m in \u001b[0;36m<module>\u001b[0;34m()\u001b[0m\n\u001b[1;32m      1\u001b[0m \u001b[0;31m# k-NN search Test 1 - Similarity\u001b[0m\u001b[0;34m\u001b[0m\u001b[0;34m\u001b[0m\u001b[0;34m\u001b[0m\u001b[0m\n\u001b[1;32m      2\u001b[0m \u001b[0mvantage_point_tree\u001b[0m \u001b[0;34m=\u001b[0m \u001b[0mVP_Tree\u001b[0m\u001b[0;34m(\u001b[0m\u001b[0;34m\"Index_Test_1_sim\"\u001b[0m\u001b[0;34m,\u001b[0m\u001b[0;36m4\u001b[0m\u001b[0;34m,\u001b[0m \u001b[0muse_similarity\u001b[0m\u001b[0;34m=\u001b[0m\u001b[0;32mTrue\u001b[0m\u001b[0;34m)\u001b[0m\u001b[0;34m\u001b[0m\u001b[0;34m\u001b[0m\u001b[0m\n\u001b[0;32m----> 3\u001b[0;31m \u001b[0mvantage_point_tree\u001b[0m\u001b[0;34m.\u001b[0m\u001b[0mcreate_vptree\u001b[0m\u001b[0;34m(\u001b[0m\u001b[0mFEATURES_NAMES_TEST_1\u001b[0m\u001b[0;34m,\u001b[0m \u001b[0mFEATURES_PATH_TEST_1\u001b[0m\u001b[0;34m)\u001b[0m\u001b[0;34m\u001b[0m\u001b[0;34m\u001b[0m\u001b[0m\n\u001b[0m\u001b[1;32m      4\u001b[0m \u001b[0;34m\u001b[0m\u001b[0m\n\u001b[1;32m      5\u001b[0m \u001b[0mquery\u001b[0m \u001b[0;34m=\u001b[0m \u001b[0;34m[\u001b[0m\u001b[0;36m0\u001b[0m\u001b[0;34m,\u001b[0m\u001b[0;36m2\u001b[0m\u001b[0;34m,\u001b[0m\u001b[0;36m1\u001b[0m\u001b[0;34m]\u001b[0m\u001b[0;34m\u001b[0m\u001b[0;34m\u001b[0m\u001b[0m\n",
            "\u001b[0;31mNameError\u001b[0m: name 'FEATURES_NAMES_TEST_1' is not defined"
          ]
        }
      ]
    }
  ]
}