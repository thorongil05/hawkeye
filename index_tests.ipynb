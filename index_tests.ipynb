{
  "nbformat": 4,
  "nbformat_minor": 0,
  "metadata": {
    "colab": {
      "name": "index_tests.ipynb",
      "provenance": [],
      "collapsed_sections": [
        "Z6xdSZ3fxgzX",
        "XI4zCLi7v7mp",
        "TbrdN4xByCas"
      ]
    },
    "kernelspec": {
      "name": "python3",
      "display_name": "Python 3"
    }
  },
  "cells": [
    {
      "cell_type": "markdown",
      "metadata": {
        "id": "UI-ZGVGAtdnQ"
      },
      "source": [
        "# Index Tests\n",
        "Tests on the creation use data with the following composition:\n",
        "- test1: 20 3-dimensional points\n",
        "- test2: 30 3-dimensional points\n",
        "- test3: 100 4-dimensional points"
      ]
    },
    {
      "cell_type": "markdown",
      "metadata": {
        "id": "WoYf-QBrvqu6"
      },
      "source": [
        "## Import Vantage Point Tree Classes"
      ]
    },
    {
      "cell_type": "code",
      "metadata": {
        "colab": {
          "base_uri": "https://localhost:8080/"
        },
        "id": "hhu_h4hwuwL-",
        "outputId": "bed33b28-de6c-41a8-9923-032225ddfa5e"
      },
      "source": [
        "from google.colab import drive\n",
        "drive.mount('/content/gdrive')"
      ],
      "execution_count": 1,
      "outputs": [
        {
          "output_type": "stream",
          "text": [
            "Mounted at /content/gdrive\n"
          ],
          "name": "stdout"
        }
      ]
    },
    {
      "cell_type": "code",
      "metadata": {
        "colab": {
          "base_uri": "https://localhost:8080/"
        },
        "id": "VToIJkQzuPOi",
        "outputId": "d010694a-36c0-4b10-b18f-12406629dfe2"
      },
      "source": [
        "!pip install import-ipynb"
      ],
      "execution_count": 2,
      "outputs": [
        {
          "output_type": "stream",
          "text": [
            "Requirement already satisfied: import-ipynb in /usr/local/lib/python3.6/dist-packages (0.1.3)\n"
          ],
          "name": "stdout"
        }
      ]
    },
    {
      "cell_type": "code",
      "metadata": {
        "colab": {
          "base_uri": "https://localhost:8080/"
        },
        "id": "zGnwswt4tcaS",
        "outputId": "a1c227d3-4ca0-44d9-ed6f-4ebce79ca3c1"
      },
      "source": [
        "%cd \"/content/gdrive/MyDrive/[MIRCV]FoodWebSearch/notebooks\"\n",
        "\n",
        "import import_ipynb\n",
        "from index_creation import VP_Tree, Node\n",
        "\n",
        "print(\"\\nClass VP_Tree and Node has been imported correctly\")"
      ],
      "execution_count": 3,
      "outputs": [
        {
          "output_type": "stream",
          "text": [
            "/content/gdrive/.shortcut-targets-by-id/1Lqbq3dboVPe48Cxj_XZyhRs54U4hXhEM/[MIRCV]FoodWebSearch/notebooks\n",
            "importing Jupyter notebook from index_creation.ipynb\n",
            "Drive already mounted at /content/gdrive; to attempt to forcibly remount, call drive.mount(\"/content/gdrive\", force_remount=True).\n",
            "\n",
            "Class VP_Tree and Node has been imported correctly\n"
          ],
          "name": "stdout"
        }
      ]
    },
    {
      "cell_type": "markdown",
      "metadata": {
        "id": "Z6xdSZ3fxgzX"
      },
      "source": [
        "## Initialize Notebook"
      ]
    },
    {
      "cell_type": "code",
      "metadata": {
        "id": "kSJEPJ6dxlY7"
      },
      "source": [
        "import numpy as np\n",
        "import os\n",
        "from scipy.spatial import distance as d\n",
        "\n",
        "TEST_PATH = \"/content/gdrive/My Drive/[MIRCV]FoodWebSearch/antonio-tests\"\n",
        "\n",
        "FEATURES_PATH_TEST_1 = \"/content/gdrive/My Drive/[MIRCV]FoodWebSearch/antonio-tests/features-test-1.npy\"\n",
        "FEATURES_NAMES_TEST_1 = \"/content/gdrive/My Drive/[MIRCV]FoodWebSearch/antonio-tests/features-names-test-1.npy\"\n",
        "\n",
        "FEATURES_PATH_TEST_2 = \"/content/gdrive/My Drive/[MIRCV]FoodWebSearch/antonio-tests/features-test-2.npy\"\n",
        "FEATURES_NAMES_TEST_2 = \"/content/gdrive/My Drive/[MIRCV]FoodWebSearch/antonio-tests/features-names-test-2.npy\"\n",
        "\n",
        "FEATURES_PATH_TEST_3 = \"/content/gdrive/My Drive/[MIRCV]FoodWebSearch/antonio-tests/features-test-3.npy\"\n",
        "FEATURES_NAMES_TEST_3 = \"/content/gdrive/My Drive/[MIRCV]FoodWebSearch/antonio-tests/features-names-test-3.npy\""
      ],
      "execution_count": 5,
      "outputs": []
    },
    {
      "cell_type": "markdown",
      "metadata": {
        "id": "XI4zCLi7v7mp"
      },
      "source": [
        "## Partition By Median Tests"
      ]
    },
    {
      "cell_type": "code",
      "metadata": {
        "colab": {
          "base_uri": "https://localhost:8080/"
        },
        "id": "Ygry8Ffqxcpf",
        "outputId": "012cf002-69c9-4f41-e573-fbef275e8d6a"
      },
      "source": [
        "# Partition By Median Tests 1\n",
        "data = [(\"image0\", np.array([0,2,1])) , (\"image1\",np.array([2,3,6])), (\"image2\",np.array([5,3,2])),\n",
        "          (\"image3\",np.array([5,6,4])), (\"image4\",np.array([5,16,1])), (\"image5\",np.array([2,6,2])), (\"image6\",np.array([1,3,1]))]\n",
        "\n",
        "vantage_point_tree = VP_Tree(\"Index_Test\", 5)\n",
        "node, s_1, s_2 = vantage_point_tree.partition_by_median(data)\n",
        "\n",
        "print(\"Node:\", node.pivot)\n",
        "print(\"Median:\", node.median)\n",
        "print(\"Set 1:\", s_1)\n",
        "print(\"Set 2:\", s_2)"
      ],
      "execution_count": 6,
      "outputs": [
        {
          "output_type": "stream",
          "text": [
            "Node: ('image3', array([5, 6, 4]))\n",
            "Median: 5.260683827334365\n",
            "Set 1: [('image2', array([5, 3, 2])), ('image5', array([2, 6, 2])), ('image1', array([2, 3, 6]))]\n",
            "Set 2: [('image6', array([1, 3, 1])), ('image0', array([0, 2, 1])), ('image4', array([ 5, 16,  1]))]\n"
          ],
          "name": "stdout"
        }
      ]
    },
    {
      "cell_type": "code",
      "metadata": {
        "colab": {
          "base_uri": "https://localhost:8080/"
        },
        "id": "3QN6WFOyxwf8",
        "outputId": "c54e341c-e24c-4eaf-8bc4-e21b7f486951"
      },
      "source": [
        "# Partition By Median Tests 2\n",
        "data = [(\"img_1\",np.array([0,0])), (\"img_2\",np.array([0,1])), (\"img_3\",np.array([2,2])), (\"img_4\",np.array([3,3]))]\n",
        "\n",
        "vantage_point_tree = VP_Tree(\"Index_Test\", 5)\n",
        "\n",
        "node, s_1, s_2 = vantage_point_tree.partition_by_median(data)\n",
        "\n",
        "print(\"Pivot:\", node.pivot)\n",
        "print(\"Median:\", node.median)\n",
        "print(\"Set 1:\", s_1)\n",
        "print(\"Set 2:\", s_2)"
      ],
      "execution_count": 7,
      "outputs": [
        {
          "output_type": "stream",
          "text": [
            "Pivot: ('img_1', array([0, 0]))\n",
            "Median: 2.8284271247461903\n",
            "Set 1: [('img_2', array([0, 1])), ('img_3', array([2, 2]))]\n",
            "Set 2: [('img_3', array([2, 2])), ('img_4', array([3, 3]))]\n"
          ],
          "name": "stdout"
        }
      ]
    },
    {
      "cell_type": "markdown",
      "metadata": {
        "id": "TbrdN4xByCas"
      },
      "source": [
        "## Creation Tests"
      ]
    },
    {
      "cell_type": "code",
      "metadata": {
        "colab": {
          "base_uri": "https://localhost:8080/"
        },
        "id": "ai4DaIEfyKnh",
        "outputId": "eb1bb3e2-9c0f-4f1e-cf8e-25b5e9580178"
      },
      "source": [
        "# Create Tree Test 1\n",
        "vantage_point_tree = VP_Tree(\"Index_Test_1\",4)\n",
        "vantage_point_tree.create_vptree(FEATURES_NAMES_TEST_1,FEATURES_PATH_TEST_1)\n",
        "result = VP_Tree.print_tree(vantage_point_tree.root, level=1)\n",
        "\n",
        "print(\"Result:\\n\" + result + \"\\n\")\n",
        "\n",
        "index_name = vantage_point_tree.index_name\n",
        "\n",
        "path = VP_Tree.save_vptree(os.path.join(TEST_PATH, index_name),vantage_point_tree)\n",
        "\n",
        "print(\"Saved on:\", path)\n",
        "\n",
        "tree_loaded = VP_Tree.load_vptree(path)\n",
        "\n",
        "print(\"\\nTree Loaded\\n\")\n",
        "result = VP_Tree.print_tree(tree_loaded.root, level=1)\n",
        "print(result)"
      ],
      "execution_count": 8,
      "outputs": [
        {
          "output_type": "stream",
          "text": [
            "Number of data: 21\n",
            "The max height of the tree is: 3\n",
            "Tree is building\n",
            "Building of the tree completed in: 0.08094048500061035 s\n",
            "Result:\n",
            "id: 0 ('img5', array([2, 6, 2]))\n",
            "\tid: 00 ('img2', array([5, 3, 2]))\n",
            "\t\tid: 000 ('img3', array([5, 6, 4]))\n",
            "\t\t\t/content/gdrive/My Drive/[MIRCV]FoodWebSearch/antonio-tests/Index_Test_1/leaves_3/000_subset_1.npy\n",
            "\t\t\t/content/gdrive/My Drive/[MIRCV]FoodWebSearch/antonio-tests/Index_Test_1/leaves_3/000_subset_2.npy\n",
            "\t\tid: 001 ('img13', array([ 2,  3, 10]))\n",
            "\t\t\t/content/gdrive/My Drive/[MIRCV]FoodWebSearch/antonio-tests/Index_Test_1/leaves_3/001_subset_1.npy\n",
            "\t\t\t/content/gdrive/My Drive/[MIRCV]FoodWebSearch/antonio-tests/Index_Test_1/leaves_3/001_subset_2.npy\n",
            "\tid: 01 ('img8', array([223,  23,  61]))\n",
            "\t\tid: 010 ('img10', array([77, 61, 46]))\n",
            "\t\t\t/content/gdrive/My Drive/[MIRCV]FoodWebSearch/antonio-tests/Index_Test_1/leaves_3/010_subset_1.npy\n",
            "\t\t\t/content/gdrive/My Drive/[MIRCV]FoodWebSearch/antonio-tests/Index_Test_1/leaves_3/010_subset_2.npy\n",
            "\t\tid: 011 ('img16', array([ 1, 30, 60]))\n",
            "\t\t\t/content/gdrive/My Drive/[MIRCV]FoodWebSearch/antonio-tests/Index_Test_1/leaves_3/011_subset_1.npy\n",
            "\t\t\t/content/gdrive/My Drive/[MIRCV]FoodWebSearch/antonio-tests/Index_Test_1/leaves_3/011_subset_2.npy\n",
            "\n",
            "File saved correctly in: /content/gdrive/My Drive/[MIRCV]FoodWebSearch/antonio-tests/Index_Test_1/Index_Test_1.json\n",
            "Saved on: /content/gdrive/My Drive/[MIRCV]FoodWebSearch/antonio-tests/Index_Test_1/Index_Test_1.json\n",
            "Tree loaded correctly\n",
            "\n",
            "Tree Loaded\n",
            "\n",
            "id: 0 ['img5', [2, 6, 2]]\n",
            "\tid: 00 ['img2', [5, 3, 2]]\n",
            "\t\tid: 000 ['img3', [5, 6, 4]]\n",
            "\t\t\t/content/gdrive/My Drive/[MIRCV]FoodWebSearch/antonio-tests/Index_Test_1/leaves_3/000_subset_1.npy\n",
            "\t\t\t/content/gdrive/My Drive/[MIRCV]FoodWebSearch/antonio-tests/Index_Test_1/leaves_3/000_subset_2.npy\n",
            "\t\tid: 001 ['img13', [2, 3, 10]]\n",
            "\t\t\t/content/gdrive/My Drive/[MIRCV]FoodWebSearch/antonio-tests/Index_Test_1/leaves_3/001_subset_1.npy\n",
            "\t\t\t/content/gdrive/My Drive/[MIRCV]FoodWebSearch/antonio-tests/Index_Test_1/leaves_3/001_subset_2.npy\n",
            "\tid: 01 ['img8', [223, 23, 61]]\n",
            "\t\tid: 010 ['img10', [77, 61, 46]]\n",
            "\t\t\t/content/gdrive/My Drive/[MIRCV]FoodWebSearch/antonio-tests/Index_Test_1/leaves_3/010_subset_1.npy\n",
            "\t\t\t/content/gdrive/My Drive/[MIRCV]FoodWebSearch/antonio-tests/Index_Test_1/leaves_3/010_subset_2.npy\n",
            "\t\tid: 011 ['img16', [1, 30, 60]]\n",
            "\t\t\t/content/gdrive/My Drive/[MIRCV]FoodWebSearch/antonio-tests/Index_Test_1/leaves_3/011_subset_1.npy\n",
            "\t\t\t/content/gdrive/My Drive/[MIRCV]FoodWebSearch/antonio-tests/Index_Test_1/leaves_3/011_subset_2.npy\n"
          ],
          "name": "stdout"
        }
      ]
    },
    {
      "cell_type": "code",
      "metadata": {
        "colab": {
          "base_uri": "https://localhost:8080/"
        },
        "id": "Bkdc8A5V07gj",
        "outputId": "bf131c3c-43a7-4528-d29c-1656416e3c66"
      },
      "source": [
        "# Create Tree Test 2\n",
        "vantage_point_tree = VP_Tree(\"Index_Test_2\",4)\n",
        "vantage_point_tree.create_vptree(FEATURES_NAMES_TEST_2, FEATURES_PATH_TEST_2)\n",
        "result = VP_Tree.print_tree(vantage_point_tree.root, level=1)\n",
        "print(\"Result:\\n\" + result + \"\\n\")\n",
        "\n",
        "path = VP_Tree.save_vptree(os.path.join(TEST_PATH, index_name),vantage_point_tree)\n",
        "\n",
        "print(\"Saved on:\", path)\n",
        "\n",
        "tree_loaded = VP_Tree.load_vptree(path)\n",
        "\n",
        "print(\"\\nTree Loaded\\n\")\n",
        "result = VP_Tree.print_tree(tree_loaded.root, level=1)\n",
        "print(result)"
      ],
      "execution_count": null,
      "outputs": [
        {
          "output_type": "stream",
          "text": [
            "Number of data: 30\n",
            "The max height of the tree is: 3\n",
            "Level n.1\n",
            "Level n.2\n",
            "Level n.2\n",
            "Building of the tree completed in: 2.3370540142059326 s\n",
            "Result:\n",
            "id: 0 ('img_12', array([38., 86., 60.]))\n",
            "\tid: 00 ('img_16', array([56., 97., 40.]))\n",
            "\t\tid: 000 ('img_15', array([11., 71., 14.]))\n",
            "\t\t\t/content/gdrive/My Drive/[MIRCV]FoodWebSearch/antonio-tests/Index_Test_2/leaves_3/000_subset_1.npy\n",
            "\t\t\t/content/gdrive/My Drive/[MIRCV]FoodWebSearch/antonio-tests/Index_Test_2/leaves_3/000_subset_2.npy\n",
            "\t\tid: 001 ('img_21', array([66., 61., 89.]))\n",
            "\t\t\t/content/gdrive/My Drive/[MIRCV]FoodWebSearch/antonio-tests/Index_Test_2/leaves_3/001_subset_1.npy\n",
            "\t\t\t/content/gdrive/My Drive/[MIRCV]FoodWebSearch/antonio-tests/Index_Test_2/leaves_3/001_subset_2.npy\n",
            "\tid: 01 ('img_13', array([66., 13., 90.]))\n",
            "\t\tid: 010 ('img_8', array([98., 27., 22.]))\n",
            "\t\t\t/content/gdrive/My Drive/[MIRCV]FoodWebSearch/antonio-tests/Index_Test_2/leaves_3/010_subset_1.npy\n",
            "\t\t\t/content/gdrive/My Drive/[MIRCV]FoodWebSearch/antonio-tests/Index_Test_2/leaves_3/010_subset_2.npy\n",
            "\t\tid: 011 ('img_24', array([26.,  3., 10.]))\n",
            "\t\t\t/content/gdrive/My Drive/[MIRCV]FoodWebSearch/antonio-tests/Index_Test_2/leaves_3/011_subset_1.npy\n",
            "\t\t\t/content/gdrive/My Drive/[MIRCV]FoodWebSearch/antonio-tests/Index_Test_2/leaves_3/011_subset_2.npy\n",
            "\n",
            "File saved correctly in: /content/gdrive/My Drive/[MIRCV]FoodWebSearch/antonio-tests/Index_Test_1/Index_Test_2.json\n",
            "Saved on: /content/gdrive/My Drive/[MIRCV]FoodWebSearch/antonio-tests/Index_Test_1/Index_Test_2.json\n",
            "Tree loaded correctly\n",
            "\n",
            "Tree Loaded\n",
            "\n",
            "id: 0 ['img_12', [38.0, 86.0, 60.0]]\n",
            "\tid: 00 ['img_16', [56.0, 97.0, 40.0]]\n",
            "\t\tid: 000 ['img_15', [11.0, 71.0, 14.0]]\n",
            "\t\t\t/content/gdrive/My Drive/[MIRCV]FoodWebSearch/antonio-tests/Index_Test_2/leaves_3/000_subset_1.npy\n",
            "\t\t\t/content/gdrive/My Drive/[MIRCV]FoodWebSearch/antonio-tests/Index_Test_2/leaves_3/000_subset_2.npy\n",
            "\t\tid: 001 ['img_21', [66.0, 61.0, 89.0]]\n",
            "\t\t\t/content/gdrive/My Drive/[MIRCV]FoodWebSearch/antonio-tests/Index_Test_2/leaves_3/001_subset_1.npy\n",
            "\t\t\t/content/gdrive/My Drive/[MIRCV]FoodWebSearch/antonio-tests/Index_Test_2/leaves_3/001_subset_2.npy\n",
            "\tid: 01 ['img_13', [66.0, 13.0, 90.0]]\n",
            "\t\tid: 010 ['img_8', [98.0, 27.0, 22.0]]\n",
            "\t\t\t/content/gdrive/My Drive/[MIRCV]FoodWebSearch/antonio-tests/Index_Test_2/leaves_3/010_subset_1.npy\n",
            "\t\t\t/content/gdrive/My Drive/[MIRCV]FoodWebSearch/antonio-tests/Index_Test_2/leaves_3/010_subset_2.npy\n",
            "\t\tid: 011 ['img_24', [26.0, 3.0, 10.0]]\n",
            "\t\t\t/content/gdrive/My Drive/[MIRCV]FoodWebSearch/antonio-tests/Index_Test_2/leaves_3/011_subset_1.npy\n",
            "\t\t\t/content/gdrive/My Drive/[MIRCV]FoodWebSearch/antonio-tests/Index_Test_2/leaves_3/011_subset_2.npy\n"
          ],
          "name": "stdout"
        }
      ]
    },
    {
      "cell_type": "code",
      "metadata": {
        "colab": {
          "base_uri": "https://localhost:8080/"
        },
        "id": "lqyPbxEL1GMS",
        "outputId": "82ddf8cc-fcbc-47bd-d32c-c84522160d53"
      },
      "source": [
        "# Create Tree Test 3\n",
        "vantage_point_tree = VP_Tree(\"Index_Test_3\",6)\n",
        "vantage_point_tree.create_vptree(FEATURES_NAMES_TEST_3, FEATURES_PATH_TEST_3)\n",
        "result = VP_Tree.print_tree(vantage_point_tree.root, level=1)\n",
        "print(\"Result:\\n\" + result + \"\\n\")\n",
        "\n",
        "path = VP_Tree.save_vptree(os.path.join(TEST_PATH, index_name),vantage_point_tree)\n",
        "\n",
        "print(\"Saved on:\", path)\n",
        "\n",
        "tree_loaded = VP_Tree.load_vptree(path)\n",
        "\n",
        "print(\"\\nTree Loaded\\n\")\n",
        "result = VP_Tree.print_tree(tree_loaded.root, level=1)\n",
        "print(result)"
      ],
      "execution_count": null,
      "outputs": [
        {
          "output_type": "stream",
          "text": [
            "Number of data: 100\n",
            "The max height of the tree is: 5\n",
            "Level n.1\n",
            "Level n.2\n",
            "Level n.3\n",
            "Level n.4\n",
            "Level n.4\n",
            "Level n.3\n",
            "Level n.4\n",
            "Level n.4\n",
            "Level n.2\n",
            "Level n.3\n",
            "Level n.4\n",
            "Level n.4\n",
            "Level n.3\n",
            "Level n.4\n",
            "Level n.4\n",
            "Building of the tree completed in: 9.011357307434082 s\n",
            "Result:\n",
            "id: 0 ('img_40', array([14, 34, 30, 85]))\n",
            "\tid: 00 ('img_75', array([ 2, 17, 25, 31]))\n",
            "\t\tid: 000 ('img_68', array([43, 34, 30, 29]))\n",
            "\t\t\tid: 0000 ('img_45', array([11, 29, 18, 31]))\n",
            "\t\t\t\tid: 00000 ('img_90', array([33, 13, 16, 34]))\n",
            "\t\t\t\t\t/content/gdrive/My Drive/[MIRCV]FoodWebSearch/antonio-tests/Index_Test_3/leaves_5/00000_subset_1.npy\n",
            "\t\t\t\t\t/content/gdrive/My Drive/[MIRCV]FoodWebSearch/antonio-tests/Index_Test_3/leaves_5/00000_subset_2.npy\n",
            "\t\t\t\tid: 00001 ('img_83', array([38,  2, 36, 51]))\n",
            "\t\t\t\t\t/content/gdrive/My Drive/[MIRCV]FoodWebSearch/antonio-tests/Index_Test_3/leaves_5/00001_subset_1.npy\n",
            "\t\t\t\t\t/content/gdrive/My Drive/[MIRCV]FoodWebSearch/antonio-tests/Index_Test_3/leaves_5/00001_subset_2.npy\n",
            "\t\t\tid: 0001 ('img_32', array([38, 22, 40, 67]))\n",
            "\t\t\t\tid: 00010 ('img_25', array([41, 14, 35, 67]))\n",
            "\t\t\t\t\t/content/gdrive/My Drive/[MIRCV]FoodWebSearch/antonio-tests/Index_Test_3/leaves_5/00010_subset_1.npy\n",
            "\t\t\t\t\t/content/gdrive/My Drive/[MIRCV]FoodWebSearch/antonio-tests/Index_Test_3/leaves_5/00010_subset_2.npy\n",
            "\t\t\t\tid: 00011 ('img_24', array([20, 73,  6, 64]))\n",
            "\t\t\t\t\t/content/gdrive/My Drive/[MIRCV]FoodWebSearch/antonio-tests/Index_Test_3/leaves_5/00011_subset_1.npy\n",
            "\t\t\t\t\t/content/gdrive/My Drive/[MIRCV]FoodWebSearch/antonio-tests/Index_Test_3/leaves_5/00011_subset_2.npy\n",
            "\t\tid: 001 ('img_94', array([22, 74, 13, 94]))\n",
            "\t\t\tid: 0010 ('img_24', array([20, 73,  6, 64]))\n",
            "\t\t\t\tid: 00100 ('img_6', array([65, 76, 27, 58]))\n",
            "\t\t\t\t\t/content/gdrive/My Drive/[MIRCV]FoodWebSearch/antonio-tests/Index_Test_3/leaves_5/00100_subset_1.npy\n",
            "\t\t\t\t\t/content/gdrive/My Drive/[MIRCV]FoodWebSearch/antonio-tests/Index_Test_3/leaves_5/00100_subset_2.npy\n",
            "\t\t\t\tid: 00101 ('img_71', array([65, 55,  7, 82]))\n",
            "\t\t\t\t\t/content/gdrive/My Drive/[MIRCV]FoodWebSearch/antonio-tests/Index_Test_3/leaves_5/00101_subset_1.npy\n",
            "\t\t\t\t\t/content/gdrive/My Drive/[MIRCV]FoodWebSearch/antonio-tests/Index_Test_3/leaves_5/00101_subset_2.npy\n",
            "\t\t\tid: 0011 ('img_84', array([56, 24, 31, 97]))\n",
            "\t\t\t\tid: 00110 ('img_0', array([56,  0, 26, 95]))\n",
            "\t\t\t\t\t/content/gdrive/My Drive/[MIRCV]FoodWebSearch/antonio-tests/Index_Test_3/leaves_5/00110_subset_1.npy\n",
            "\t\t\t\t\t/content/gdrive/My Drive/[MIRCV]FoodWebSearch/antonio-tests/Index_Test_3/leaves_5/00110_subset_2.npy\n",
            "\t\t\t\tid: 00111 ('img_1', array([73, 40, 13, 47]))\n",
            "\t\t\t\t\t/content/gdrive/My Drive/[MIRCV]FoodWebSearch/antonio-tests/Index_Test_3/leaves_5/00111_subset_1.npy\n",
            "\t\t\t\t\t/content/gdrive/My Drive/[MIRCV]FoodWebSearch/antonio-tests/Index_Test_3/leaves_5/00111_subset_2.npy\n",
            "\tid: 01 ('img_20', array([20, 28, 34, 12]))\n",
            "\t\tid: 010 ('img_97', array([74, 23, 79, 54]))\n",
            "\t\t\tid: 0100 ('img_4', array([65, 59, 85, 30]))\n",
            "\t\t\t\tid: 01000 ('img_37', array([51, 50, 73,  6]))\n",
            "\t\t\t\t\t/content/gdrive/My Drive/[MIRCV]FoodWebSearch/antonio-tests/Index_Test_3/leaves_5/01000_subset_1.npy\n",
            "\t\t\t\t\t/content/gdrive/My Drive/[MIRCV]FoodWebSearch/antonio-tests/Index_Test_3/leaves_5/01000_subset_2.npy\n",
            "\t\t\t\tid: 01001 ('img_48', array([78, 12, 30, 48]))\n",
            "\t\t\t\t\t/content/gdrive/My Drive/[MIRCV]FoodWebSearch/antonio-tests/Index_Test_3/leaves_5/01001_subset_1.npy\n",
            "\t\t\t\t\t/content/gdrive/My Drive/[MIRCV]FoodWebSearch/antonio-tests/Index_Test_3/leaves_5/01001_subset_2.npy\n",
            "\t\t\tid: 0101 ('img_81', array([ 8, 43, 98, 25]))\n",
            "\t\t\t\tid: 01010 ('img_86', array([80, 52, 44, 10]))\n",
            "\t\t\t\t\t/content/gdrive/My Drive/[MIRCV]FoodWebSearch/antonio-tests/Index_Test_3/leaves_5/01010_subset_1.npy\n",
            "\t\t\t\t\t/content/gdrive/My Drive/[MIRCV]FoodWebSearch/antonio-tests/Index_Test_3/leaves_5/01010_subset_2.npy\n",
            "\t\t\t\tid: 01011 ('img_66', array([53, 58,  0, 17]))\n",
            "\t\t\t\t\t/content/gdrive/My Drive/[MIRCV]FoodWebSearch/antonio-tests/Index_Test_3/leaves_5/01011_subset_1.npy\n",
            "\t\t\t\t\t/content/gdrive/My Drive/[MIRCV]FoodWebSearch/antonio-tests/Index_Test_3/leaves_5/01011_subset_2.npy\n",
            "\t\tid: 011 ('img_23', array([99, 22, 48, 79]))\n",
            "\t\t\tid: 0110 ('img_28', array([86, 64, 36, 58]))\n",
            "\t\t\t\tid: 01100 ('img_14', array([93, 75, 24, 88]))\n",
            "\t\t\t\t\t/content/gdrive/My Drive/[MIRCV]FoodWebSearch/antonio-tests/Index_Test_3/leaves_5/01100_subset_1.npy\n",
            "\t\t\t\t\t/content/gdrive/My Drive/[MIRCV]FoodWebSearch/antonio-tests/Index_Test_3/leaves_5/01100_subset_2.npy\n",
            "\t\t\t\tid: 01101 ('img_99', array([68, 26, 88, 75]))\n",
            "\t\t\t\t\t/content/gdrive/My Drive/[MIRCV]FoodWebSearch/antonio-tests/Index_Test_3/leaves_5/01101_subset_1.npy\n",
            "\t\t\t\t\t/content/gdrive/My Drive/[MIRCV]FoodWebSearch/antonio-tests/Index_Test_3/leaves_5/01101_subset_2.npy\n",
            "\t\t\tid: 0111 ('img_15', array([77, 82, 87, 12]))\n",
            "\t\t\t\tid: 01110 ('img_77', array([82, 76, 88, 15]))\n",
            "\t\t\t\t\t/content/gdrive/My Drive/[MIRCV]FoodWebSearch/antonio-tests/Index_Test_3/leaves_5/01110_subset_1.npy\n",
            "\t\t\t\t\t/content/gdrive/My Drive/[MIRCV]FoodWebSearch/antonio-tests/Index_Test_3/leaves_5/01110_subset_2.npy\n",
            "\t\t\t\tid: 01111 ('img_7', array([17, 84, 91, 33]))\n",
            "\t\t\t\t\t/content/gdrive/My Drive/[MIRCV]FoodWebSearch/antonio-tests/Index_Test_3/leaves_5/01111_subset_1.npy\n",
            "\t\t\t\t\t/content/gdrive/My Drive/[MIRCV]FoodWebSearch/antonio-tests/Index_Test_3/leaves_5/01111_subset_2.npy\n",
            "\n",
            "File saved correctly in: /content/gdrive/My Drive/[MIRCV]FoodWebSearch/antonio-tests/Index_Test_1/Index_Test_3.json\n",
            "Saved on: /content/gdrive/My Drive/[MIRCV]FoodWebSearch/antonio-tests/Index_Test_1/Index_Test_3.json\n",
            "Tree loaded correctly\n",
            "\n",
            "Tree Loaded\n",
            "\n",
            "id: 0 ['img_40', [14, 34, 30, 85]]\n",
            "\tid: 00 ['img_75', [2, 17, 25, 31]]\n",
            "\t\tid: 000 ['img_68', [43, 34, 30, 29]]\n",
            "\t\t\tid: 0000 ['img_45', [11, 29, 18, 31]]\n",
            "\t\t\t\tid: 00000 ['img_90', [33, 13, 16, 34]]\n",
            "\t\t\t\t\t/content/gdrive/My Drive/[MIRCV]FoodWebSearch/antonio-tests/Index_Test_3/leaves_5/00000_subset_1.npy\n",
            "\t\t\t\t\t/content/gdrive/My Drive/[MIRCV]FoodWebSearch/antonio-tests/Index_Test_3/leaves_5/00000_subset_2.npy\n",
            "\t\t\t\tid: 00001 ['img_83', [38, 2, 36, 51]]\n",
            "\t\t\t\t\t/content/gdrive/My Drive/[MIRCV]FoodWebSearch/antonio-tests/Index_Test_3/leaves_5/00001_subset_1.npy\n",
            "\t\t\t\t\t/content/gdrive/My Drive/[MIRCV]FoodWebSearch/antonio-tests/Index_Test_3/leaves_5/00001_subset_2.npy\n",
            "\t\t\tid: 0001 ['img_32', [38, 22, 40, 67]]\n",
            "\t\t\t\tid: 00010 ['img_25', [41, 14, 35, 67]]\n",
            "\t\t\t\t\t/content/gdrive/My Drive/[MIRCV]FoodWebSearch/antonio-tests/Index_Test_3/leaves_5/00010_subset_1.npy\n",
            "\t\t\t\t\t/content/gdrive/My Drive/[MIRCV]FoodWebSearch/antonio-tests/Index_Test_3/leaves_5/00010_subset_2.npy\n",
            "\t\t\t\tid: 00011 ['img_24', [20, 73, 6, 64]]\n",
            "\t\t\t\t\t/content/gdrive/My Drive/[MIRCV]FoodWebSearch/antonio-tests/Index_Test_3/leaves_5/00011_subset_1.npy\n",
            "\t\t\t\t\t/content/gdrive/My Drive/[MIRCV]FoodWebSearch/antonio-tests/Index_Test_3/leaves_5/00011_subset_2.npy\n",
            "\t\tid: 001 ['img_94', [22, 74, 13, 94]]\n",
            "\t\t\tid: 0010 ['img_24', [20, 73, 6, 64]]\n",
            "\t\t\t\tid: 00100 ['img_6', [65, 76, 27, 58]]\n",
            "\t\t\t\t\t/content/gdrive/My Drive/[MIRCV]FoodWebSearch/antonio-tests/Index_Test_3/leaves_5/00100_subset_1.npy\n",
            "\t\t\t\t\t/content/gdrive/My Drive/[MIRCV]FoodWebSearch/antonio-tests/Index_Test_3/leaves_5/00100_subset_2.npy\n",
            "\t\t\t\tid: 00101 ['img_71', [65, 55, 7, 82]]\n",
            "\t\t\t\t\t/content/gdrive/My Drive/[MIRCV]FoodWebSearch/antonio-tests/Index_Test_3/leaves_5/00101_subset_1.npy\n",
            "\t\t\t\t\t/content/gdrive/My Drive/[MIRCV]FoodWebSearch/antonio-tests/Index_Test_3/leaves_5/00101_subset_2.npy\n",
            "\t\t\tid: 0011 ['img_84', [56, 24, 31, 97]]\n",
            "\t\t\t\tid: 00110 ['img_0', [56, 0, 26, 95]]\n",
            "\t\t\t\t\t/content/gdrive/My Drive/[MIRCV]FoodWebSearch/antonio-tests/Index_Test_3/leaves_5/00110_subset_1.npy\n",
            "\t\t\t\t\t/content/gdrive/My Drive/[MIRCV]FoodWebSearch/antonio-tests/Index_Test_3/leaves_5/00110_subset_2.npy\n",
            "\t\t\t\tid: 00111 ['img_1', [73, 40, 13, 47]]\n",
            "\t\t\t\t\t/content/gdrive/My Drive/[MIRCV]FoodWebSearch/antonio-tests/Index_Test_3/leaves_5/00111_subset_1.npy\n",
            "\t\t\t\t\t/content/gdrive/My Drive/[MIRCV]FoodWebSearch/antonio-tests/Index_Test_3/leaves_5/00111_subset_2.npy\n",
            "\tid: 01 ['img_20', [20, 28, 34, 12]]\n",
            "\t\tid: 010 ['img_97', [74, 23, 79, 54]]\n",
            "\t\t\tid: 0100 ['img_4', [65, 59, 85, 30]]\n",
            "\t\t\t\tid: 01000 ['img_37', [51, 50, 73, 6]]\n",
            "\t\t\t\t\t/content/gdrive/My Drive/[MIRCV]FoodWebSearch/antonio-tests/Index_Test_3/leaves_5/01000_subset_1.npy\n",
            "\t\t\t\t\t/content/gdrive/My Drive/[MIRCV]FoodWebSearch/antonio-tests/Index_Test_3/leaves_5/01000_subset_2.npy\n",
            "\t\t\t\tid: 01001 ['img_48', [78, 12, 30, 48]]\n",
            "\t\t\t\t\t/content/gdrive/My Drive/[MIRCV]FoodWebSearch/antonio-tests/Index_Test_3/leaves_5/01001_subset_1.npy\n",
            "\t\t\t\t\t/content/gdrive/My Drive/[MIRCV]FoodWebSearch/antonio-tests/Index_Test_3/leaves_5/01001_subset_2.npy\n",
            "\t\t\tid: 0101 ['img_81', [8, 43, 98, 25]]\n",
            "\t\t\t\tid: 01010 ['img_86', [80, 52, 44, 10]]\n",
            "\t\t\t\t\t/content/gdrive/My Drive/[MIRCV]FoodWebSearch/antonio-tests/Index_Test_3/leaves_5/01010_subset_1.npy\n",
            "\t\t\t\t\t/content/gdrive/My Drive/[MIRCV]FoodWebSearch/antonio-tests/Index_Test_3/leaves_5/01010_subset_2.npy\n",
            "\t\t\t\tid: 01011 ['img_66', [53, 58, 0, 17]]\n",
            "\t\t\t\t\t/content/gdrive/My Drive/[MIRCV]FoodWebSearch/antonio-tests/Index_Test_3/leaves_5/01011_subset_1.npy\n",
            "\t\t\t\t\t/content/gdrive/My Drive/[MIRCV]FoodWebSearch/antonio-tests/Index_Test_3/leaves_5/01011_subset_2.npy\n",
            "\t\tid: 011 ['img_23', [99, 22, 48, 79]]\n",
            "\t\t\tid: 0110 ['img_28', [86, 64, 36, 58]]\n",
            "\t\t\t\tid: 01100 ['img_14', [93, 75, 24, 88]]\n",
            "\t\t\t\t\t/content/gdrive/My Drive/[MIRCV]FoodWebSearch/antonio-tests/Index_Test_3/leaves_5/01100_subset_1.npy\n",
            "\t\t\t\t\t/content/gdrive/My Drive/[MIRCV]FoodWebSearch/antonio-tests/Index_Test_3/leaves_5/01100_subset_2.npy\n",
            "\t\t\t\tid: 01101 ['img_99', [68, 26, 88, 75]]\n",
            "\t\t\t\t\t/content/gdrive/My Drive/[MIRCV]FoodWebSearch/antonio-tests/Index_Test_3/leaves_5/01101_subset_1.npy\n",
            "\t\t\t\t\t/content/gdrive/My Drive/[MIRCV]FoodWebSearch/antonio-tests/Index_Test_3/leaves_5/01101_subset_2.npy\n",
            "\t\t\tid: 0111 ['img_15', [77, 82, 87, 12]]\n",
            "\t\t\t\tid: 01110 ['img_77', [82, 76, 88, 15]]\n",
            "\t\t\t\t\t/content/gdrive/My Drive/[MIRCV]FoodWebSearch/antonio-tests/Index_Test_3/leaves_5/01110_subset_1.npy\n",
            "\t\t\t\t\t/content/gdrive/My Drive/[MIRCV]FoodWebSearch/antonio-tests/Index_Test_3/leaves_5/01110_subset_2.npy\n",
            "\t\t\t\tid: 01111 ['img_7', [17, 84, 91, 33]]\n",
            "\t\t\t\t\t/content/gdrive/My Drive/[MIRCV]FoodWebSearch/antonio-tests/Index_Test_3/leaves_5/01111_subset_1.npy\n",
            "\t\t\t\t\t/content/gdrive/My Drive/[MIRCV]FoodWebSearch/antonio-tests/Index_Test_3/leaves_5/01111_subset_2.npy\n"
          ],
          "name": "stdout"
        }
      ]
    },
    {
      "cell_type": "code",
      "metadata": {
        "colab": {
          "base_uri": "https://localhost:8080/"
        },
        "id": "PI-RQuKf1W2m",
        "outputId": "d3d06f40-a40c-4c42-d088-b75e378634f8"
      },
      "source": [
        "# Create Tree Test 4\n",
        "vantage_point_tree = VP_Tree(\"Index_Test_4\",4, disk_mode=True,leaves_path=TEST_PATH)\n",
        "vantage_point_tree.create_vptree(FEATURES_NAMES_TEST_1, FEATURES_PATH_TEST_1)\n",
        "result = VP_Tree.print_tree(vantage_point_tree.root, level=1, disk_mode=True)\n",
        "\n",
        "print(\"Result:\\n\" + result + \"\\n\")\n",
        "\n",
        "path = VP_Tree.save_vptree(os.path.join(TEST_PATH, index_name),vantage_point_tree)\n",
        "\n",
        "print(\"Saved on:\", path)\n",
        "\n",
        "tree_loaded = VP_Tree.load_vptree(path)\n",
        "\n",
        "print(\"\\nTree Loaded\\n\")\n",
        "result = VP_Tree.print_tree(tree_loaded.root, level=1)\n",
        "print(result)"
      ],
      "execution_count": null,
      "outputs": [
        {
          "output_type": "stream",
          "text": [
            "Number of data: 21\n",
            "The max height of the tree is: 3\n",
            "Level n.1\n",
            "Level n.2\n",
            "Level n.2\n",
            "Building of the tree completed in: 2.7408978939056396 s\n",
            "Result:\n",
            "id: 0 ('img9', array([15, 32, 22]))\n",
            "\tid: 00 ('img13', array([ 2,  3, 10]))\n",
            "\t\tid: 000 ('img18', array([ 5, 23,  1]))\n",
            "\t\t\t/content/gdrive/My Drive/[MIRCV]FoodWebSearch/antonio-tests/Index_Test_4/leaves_3/000_subset_1.npy\n",
            "\t\t\t/content/gdrive/My Drive/[MIRCV]FoodWebSearch/antonio-tests/Index_Test_4/leaves_3/000_subset_2.npy\n",
            "\t\tid: 001 ('img12', array([30, 61, 20]))\n",
            "\t\t\t/content/gdrive/My Drive/[MIRCV]FoodWebSearch/antonio-tests/Index_Test_4/leaves_3/001_subset_1.npy\n",
            "\t\t\t/content/gdrive/My Drive/[MIRCV]FoodWebSearch/antonio-tests/Index_Test_4/leaves_3/001_subset_2.npy\n",
            "\tid: 01 ('img0', array([0, 2, 1]))\n",
            "\t\tid: 010 ('img16', array([ 1, 30, 60]))\n",
            "\t\t\t/content/gdrive/My Drive/[MIRCV]FoodWebSearch/antonio-tests/Index_Test_4/leaves_3/010_subset_1.npy\n",
            "\t\t\t/content/gdrive/My Drive/[MIRCV]FoodWebSearch/antonio-tests/Index_Test_4/leaves_3/010_subset_2.npy\n",
            "\t\tid: 011 ('img10', array([77, 61, 46]))\n",
            "\t\t\t/content/gdrive/My Drive/[MIRCV]FoodWebSearch/antonio-tests/Index_Test_4/leaves_3/011_subset_1.npy\n",
            "\t\t\t/content/gdrive/My Drive/[MIRCV]FoodWebSearch/antonio-tests/Index_Test_4/leaves_3/011_subset_2.npy\n",
            "\n",
            "File saved correctly in: /content/gdrive/My Drive/[MIRCV]FoodWebSearch/antonio-tests/Index_Test_1/Index_Test_4.json\n",
            "Saved on: /content/gdrive/My Drive/[MIRCV]FoodWebSearch/antonio-tests/Index_Test_1/Index_Test_4.json\n",
            "Tree loaded correctly\n",
            "\n",
            "Tree Loaded\n",
            "\n",
            "id: 0 ['img9', [15, 32, 22]]\n",
            "\tid: 00 ['img13', [2, 3, 10]]\n",
            "\t\tid: 000 ['img18', [5, 23, 1]]\n",
            "\t\t\t/content/gdrive/My Drive/[MIRCV]FoodWebSearch/antonio-tests/Index_Test_4/leaves_3/000_subset_1.npy\n",
            "\t\t\t/content/gdrive/My Drive/[MIRCV]FoodWebSearch/antonio-tests/Index_Test_4/leaves_3/000_subset_2.npy\n",
            "\t\tid: 001 ['img12', [30, 61, 20]]\n",
            "\t\t\t/content/gdrive/My Drive/[MIRCV]FoodWebSearch/antonio-tests/Index_Test_4/leaves_3/001_subset_1.npy\n",
            "\t\t\t/content/gdrive/My Drive/[MIRCV]FoodWebSearch/antonio-tests/Index_Test_4/leaves_3/001_subset_2.npy\n",
            "\tid: 01 ['img0', [0, 2, 1]]\n",
            "\t\tid: 010 ['img16', [1, 30, 60]]\n",
            "\t\t\t/content/gdrive/My Drive/[MIRCV]FoodWebSearch/antonio-tests/Index_Test_4/leaves_3/010_subset_1.npy\n",
            "\t\t\t/content/gdrive/My Drive/[MIRCV]FoodWebSearch/antonio-tests/Index_Test_4/leaves_3/010_subset_2.npy\n",
            "\t\tid: 011 ['img10', [77, 61, 46]]\n",
            "\t\t\t/content/gdrive/My Drive/[MIRCV]FoodWebSearch/antonio-tests/Index_Test_4/leaves_3/011_subset_1.npy\n",
            "\t\t\t/content/gdrive/My Drive/[MIRCV]FoodWebSearch/antonio-tests/Index_Test_4/leaves_3/011_subset_2.npy\n"
          ],
          "name": "stdout"
        }
      ]
    },
    {
      "cell_type": "markdown",
      "metadata": {
        "id": "XbkURlxk2AQp"
      },
      "source": [
        "## Searching Tests"
      ]
    },
    {
      "cell_type": "code",
      "metadata": {
        "colab": {
          "base_uri": "https://localhost:8080/"
        },
        "id": "VqeptUK52FZ9",
        "outputId": "0af0a4ed-bbfd-46ed-f2d3-3607fd2bcbf2"
      },
      "source": [
        "# k-NN search Test 1\n",
        "vantage_point_tree = VP_Tree(\"Index_Test\",4)\n",
        "vantage_point_tree.create_vptree(FEATURES_NAMES_TEST_1, FEATURES_PATH_TEST_1)\n",
        "\n",
        "query = [0,1,1]\n",
        "k = 3\n",
        "\n",
        "print(\"Query:\", query, \"\\n\")\n",
        "\n",
        "nn, d_nn = vantage_point_tree.knn_search(k, query)\n",
        "\n",
        "print(\"\\nk-NN search on the tree\")\n",
        "print(\"Points:\", nn)\n",
        "print(\"Distances:\", d_nn)\n",
        "\n",
        "print(\"\\n\\nSequential Scan on the array\")\n",
        "data = np.load(FEATURES_PATH_TEST_1)\n",
        "distances = [d.euclidean(point, query) for point in data]\n",
        "zipped = sorted(zip(data, distances), key=lambda x:x[1])\n",
        "for element in zipped[0:k]:\n",
        "  print(element)"
      ],
      "execution_count": null,
      "outputs": [
        {
          "output_type": "stream",
          "text": [
            "Number of data: 21\n",
            "The max height of the tree is: 3\n",
            "Level n.1\n",
            "Level n.2\n",
            "Level n.2\n",
            "Building of the tree completed in: 0.09337711334228516 s\n",
            "Query: [0, 1, 1] \n",
            "\n",
            "Query answered in 0.019068241119384766  s\n",
            "\n",
            "k-NN search on the tree\n",
            "Points: [('img0', array([0, 2, 1])), array(['img0', array([0, 2, 1])], dtype=object), array(['img6', array([1, 3, 1])], dtype=object)]\n",
            "Distances: [1.0, 1.0, 2.23606797749979]\n",
            "\n",
            "\n",
            "Sequential Scan on the array\n",
            "(array([0, 2, 1]), 1.0)\n",
            "(array([1, 3, 1]), 2.23606797749979)\n",
            "(array([5, 3, 2]), 5.477225575051661)\n"
          ],
          "name": "stdout"
        }
      ]
    },
    {
      "cell_type": "code",
      "metadata": {
        "colab": {
          "base_uri": "https://localhost:8080/"
        },
        "id": "cQVfzJ1q24ol",
        "outputId": "8a9f83fd-f958-47e2-81c2-5795488119d6"
      },
      "source": [
        "# k-NN search Test 2\n",
        "vantage_point_tree = VP_Tree(\"Index_Test_3\",4)\n",
        "vantage_point_tree.create_vptree(FEATURES_NAMES_TEST_2, FEATURES_PATH_TEST_2)\n",
        "\n",
        "query = [0,1,1]\n",
        "k = 3\n",
        "\n",
        "nn, d_nn = vantage_point_tree.knn_search(k, query)\n",
        "\n",
        "print(\"Query:\", query)\n",
        "\n",
        "print(\"k-NN search on the tree\")\n",
        "print(\"Points:\", nn)\n",
        "print(\"Distances:\", d_nn)\n",
        "\n",
        "print(\"\\n\\nSequential Scan on the array\")\n",
        "data = np.load(FEATURES_PATH_TEST_2)\n",
        "distances = [d.euclidean(point, query) for point in data]\n",
        "zipped = sorted(zip(data, distances), key=lambda x:x[1])\n",
        "for element in zipped[0:k]:\n",
        "  print(element)"
      ],
      "execution_count": null,
      "outputs": [
        {
          "output_type": "stream",
          "text": [
            "Number of data: 30\n",
            "The max height of the tree is: 3\n",
            "Level n.1\n",
            "Level n.2\n",
            "Level n.2\n",
            "Building of the tree completed in: 2.4061920642852783 s\n",
            "Query answered in 0.01263284683227539  s\n",
            "Query: [0, 1, 1]\n",
            "k-NN search on the tree\n",
            "Points: [('img_10', array([ 4.,  9., 22.])), array(['img_24', array([26.,  3., 10.])], dtype=object), array(['img_6', array([32., 13.,  6.])], dtype=object)]\n",
            "Distances: [22.825424421026653, 27.586228448267445, 34.539832078341085]\n",
            "\n",
            "\n",
            "Sequential Scan on the array\n",
            "(array([ 4.,  9., 22.]), 22.825424421026653)\n",
            "(array([26.,  3., 10.]), 27.586228448267445)\n",
            "(array([32., 13.,  6.]), 34.539832078341085)\n"
          ],
          "name": "stdout"
        }
      ]
    },
    {
      "cell_type": "code",
      "metadata": {
        "colab": {
          "base_uri": "https://localhost:8080/"
        },
        "id": "UQkMSIhm3Qg0",
        "outputId": "143b0a43-4b1d-44f6-b88c-f3b80aa92a2d"
      },
      "source": [
        "# k-NN search Test 3\n",
        "vantage_point_tree = VP_Tree(\"Index_Test_3\",4)\n",
        "vantage_point_tree.create_vptree(FEATURES_NAMES_TEST_3, FEATURES_PATH_TEST_3)\n",
        "\n",
        "query = [2,17,26,31]\n",
        "k = 6\n",
        "\n",
        "nn, d_nn = vantage_point_tree.knn_search(k, query)\n",
        "\n",
        "print(\"Query:\", query)\n",
        "\n",
        "print(\"k-NN search on the tree\")\n",
        "print(\"Points:\", nn)\n",
        "print(\"Distances:\", d_nn)\n",
        "\n",
        "print(\"\\n\\nSequential Scan on the array\")\n",
        "data = np.load(FEATURES_PATH_TEST_3)\n",
        "distances = [d.euclidean(point, query) for point in data]\n",
        "zipped = sorted(zip(data, distances), key=lambda x:x[1])\n",
        "for element in zipped[0:k]:\n",
        "  print(element)"
      ],
      "execution_count": null,
      "outputs": [
        {
          "output_type": "stream",
          "text": [
            "Number of data: 100\n",
            "The max height of the tree is: 5\n",
            "Level n.1\n",
            "Level n.2\n",
            "Level n.3\n",
            "Level n.3\n",
            "Level n.2\n",
            "Level n.3\n",
            "Level n.3\n",
            "Building of the tree completed in: 5.186305999755859 s\n",
            "Query answered in 0.03465151786804199  s\n",
            "Query: [2, 17, 26, 31]\n",
            "k-NN search on the tree\n",
            "Points: [array(['img_75', array([ 2, 17, 25, 31])], dtype=object), array(['img_45', array([11, 29, 18, 31])], dtype=object), array(['img_80', array([10, 31, 30, 25])], dtype=object), array(['img_95', array([14, 26, 10, 15])], dtype=object), ('img_20', array([20, 28, 34, 12])), array(['img_46', array([19, 28, 47, 39])], dtype=object)]\n",
            "Distances: [1.0, 17.0, 17.663521732655695, 27.147743920996454, 29.49576240750525, 30.24896692450835]\n",
            "\n",
            "\n",
            "Sequential Scan on the array\n",
            "(array([ 2, 17, 25, 31]), 1.0)\n",
            "(array([11, 29, 18, 31]), 17.0)\n",
            "(array([10, 31, 30, 25]), 17.663521732655695)\n",
            "(array([14, 26, 10, 15]), 27.147743920996454)\n",
            "(array([20, 28, 34, 12]), 29.49576240750525)\n",
            "(array([19, 28, 47, 39]), 30.24896692450835)\n"
          ],
          "name": "stdout"
        }
      ]
    },
    {
      "cell_type": "code",
      "metadata": {
        "colab": {
          "base_uri": "https://localhost:8080/"
        },
        "id": "UdFlqWg33vag",
        "outputId": "bf2f5044-1345-44f7-fd54-19e3c76bf939"
      },
      "source": [
        "#k-NN search Test 4\n",
        "vantage_point_tree = VP_Tree(\"Index_Test_3\",4, disk_mode=True)\n",
        "vantage_point_tree.create_vptree(FEATURES_NAMES_TEST_3, FEATURES_PATH_TEST_3)\n",
        "\n",
        "query = [0,1,1,2]\n",
        "k = 6\n",
        "\n",
        "nn, d_nn = vantage_point_tree.knn_search(k, query)\n",
        "\n",
        "print(\"Query:\", query)\n",
        "\n",
        "print(\"k-NN search on the tree\")\n",
        "print(\"Points:\", nn)\n",
        "print(\"Distances:\", d_nn)\n",
        "\n",
        "print(\"\\n\\nSequential Scan on the array\")\n",
        "data = np.load(FEATURES_PATH_TEST_3)\n",
        "distances = [d.euclidean(point, query) for point in data]\n",
        "zipped = sorted(zip(data, distances), key=lambda x:x[1])\n",
        "for element in zipped[0:k]:\n",
        "  print(element)"
      ],
      "execution_count": null,
      "outputs": [
        {
          "output_type": "stream",
          "text": [
            "Number of data: 100\n",
            "The max height of the tree is: 5\n",
            "Level n.1\n",
            "Level n.2\n",
            "Level n.3\n",
            "Level n.3\n",
            "Level n.2\n",
            "Level n.3\n",
            "Level n.3\n",
            "Building of the tree completed in: 0.15247058868408203 s\n",
            "Query answered in 0.024530410766601562  s\n",
            "Query: [0, 1, 1, 2]\n",
            "k-NN search on the tree\n",
            "Points: [array(['img_95', array([14, 26, 10, 15])], dtype=object), array(['img_75', array([ 2, 17, 25, 31])], dtype=object), array(['img_45', array([11, 29, 18, 31])], dtype=object), array(['img_20', array([20, 28, 34, 12])], dtype=object), array(['img_80', array([10, 31, 30, 25])], dtype=object), array(['img_90', array([33, 13, 16, 34])], dtype=object)]\n",
            "Distances: [32.72613634390714, 40.95119045888654, 45.110974274559844, 48.14561246884289, 48.68264577855234, 49.8196748283246]\n",
            "\n",
            "\n",
            "Sequential Scan on the array\n",
            "(array([14, 26, 10, 15]), 32.72613634390714)\n",
            "(array([ 2, 17, 25, 31]), 40.95119045888654)\n",
            "(array([11, 29, 18, 31]), 45.110974274559844)\n",
            "(array([20, 28, 34, 12]), 48.14561246884289)\n",
            "(array([10, 31, 30, 25]), 48.68264577855234)\n",
            "(array([33, 13, 16, 34]), 49.8196748283246)\n"
          ],
          "name": "stdout"
        }
      ]
    }
  ]
}