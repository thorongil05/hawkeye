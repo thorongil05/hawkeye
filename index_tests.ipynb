{
  "nbformat": 4,
  "nbformat_minor": 0,
  "metadata": {
    "colab": {
      "name": "index_tests.ipynb",
      "provenance": [],
      "collapsed_sections": [
        "XI4zCLi7v7mp",
        "TbrdN4xByCas",
        "OTtZ5Ni_kOPP",
        "nuTmeieCmDwm"
      ]
    },
    "kernelspec": {
      "name": "python3",
      "display_name": "Python 3"
    }
  },
  "cells": [
    {
      "cell_type": "markdown",
      "metadata": {
        "id": "UI-ZGVGAtdnQ"
      },
      "source": [
        "# Index Tests\n",
        "Tests on the creation use data with the following composition:\n",
        "- test1: 20 3-dimensional points\n",
        "- test2: 30 3-dimensional points\n",
        "- test3: 100 4-dimensional points"
      ]
    },
    {
      "cell_type": "markdown",
      "metadata": {
        "id": "WoYf-QBrvqu6"
      },
      "source": [
        "## Import Vantage Point Tree Classes"
      ]
    },
    {
      "cell_type": "code",
      "metadata": {
        "colab": {
          "base_uri": "https://localhost:8080/"
        },
        "id": "hhu_h4hwuwL-",
        "outputId": "0c941d51-f04a-4d0c-906b-734c8a33b149"
      },
      "source": [
        "from google.colab import drive\n",
        "drive.mount('/content/gdrive')"
      ],
      "execution_count": null,
      "outputs": [
        {
          "output_type": "stream",
          "text": [
            "Mounted at /content/gdrive\n"
          ],
          "name": "stdout"
        }
      ]
    },
    {
      "cell_type": "code",
      "metadata": {
        "colab": {
          "base_uri": "https://localhost:8080/"
        },
        "id": "VToIJkQzuPOi",
        "outputId": "98bdafd1-21fa-4081-cb75-71f89b112f7f"
      },
      "source": [
        "!pip install import-ipynb"
      ],
      "execution_count": null,
      "outputs": [
        {
          "output_type": "stream",
          "text": [
            "Collecting import-ipynb\n",
            "  Downloading https://files.pythonhosted.org/packages/63/35/495e0021bfdcc924c7cdec4e9fbb87c88dd03b9b9b22419444dc370c8a45/import-ipynb-0.1.3.tar.gz\n",
            "Building wheels for collected packages: import-ipynb\n",
            "  Building wheel for import-ipynb (setup.py) ... \u001b[?25l\u001b[?25hdone\n",
            "  Created wheel for import-ipynb: filename=import_ipynb-0.1.3-cp36-none-any.whl size=2976 sha256=db75b50806731ad382e126a8c32ba4c3851e4d47901fa8fed7acaa8a02a74842\n",
            "  Stored in directory: /root/.cache/pip/wheels/b4/7b/e9/a3a6e496115dffdb4e3085d0ae39ffe8a814eacc44bbf494b5\n",
            "Successfully built import-ipynb\n",
            "Installing collected packages: import-ipynb\n",
            "Successfully installed import-ipynb-0.1.3\n"
          ],
          "name": "stdout"
        }
      ]
    },
    {
      "cell_type": "markdown",
      "metadata": {
        "id": "Z6xdSZ3fxgzX"
      },
      "source": [
        "## Initialize Notebook"
      ]
    },
    {
      "cell_type": "code",
      "metadata": {
        "id": "kSJEPJ6dxlY7"
      },
      "source": [
        "import numpy as np\n",
        "import os\n",
        "from scipy.spatial import distance as d\n",
        "import time\n",
        "import math\n",
        "import random\n",
        "import json\n",
        "\n",
        "TEST_PATH = '/content/gdrive/MyDrive/test-folder'\n",
        "\n",
        "FINE_TUNED_ID = '/content/gdrive/MyDrive/[MIRCV]FoodWebSearch/deployment/ft_id.npy'\n",
        "FINE_TUNED_FEATURES = '/content/gdrive/MyDrive/[MIRCV]FoodWebSearch/deployment/ft_features.npy'\n",
        "\n",
        "FEATURES_PATH_TEST_1 = \"/content/gdrive/My Drive/[MIRCV]FoodWebSearch/antonio-tests/features-test-1.npy\"\n",
        "FEATURES_NAMES_TEST_1 = \"/content/gdrive/My Drive/[MIRCV]FoodWebSearch/antonio-tests/features-names-test-1.npy\"\n",
        "\n",
        "FEATURES_PATH_TEST_2 = \"/content/gdrive/My Drive/[MIRCV]FoodWebSearch/antonio-tests/features-test-2.npy\"\n",
        "FEATURES_NAMES_TEST_2 = \"/content/gdrive/My Drive/[MIRCV]FoodWebSearch/antonio-tests/features-names-test-2.npy\"\n",
        "\n",
        "FEATURES_PATH_TEST_3 = \"/content/gdrive/My Drive/[MIRCV]FoodWebSearch/antonio-tests/features-test-3.npy\"\n",
        "FEATURES_NAMES_TEST_3 = \"/content/gdrive/My Drive/[MIRCV]FoodWebSearch/antonio-tests/features-names-test-3.npy\""
      ],
      "execution_count": null,
      "outputs": []
    },
    {
      "cell_type": "markdown",
      "metadata": {
        "id": "KncPmEj3UFMc"
      },
      "source": [
        "## Classes"
      ]
    },
    {
      "cell_type": "code",
      "metadata": {
        "id": "0h9Hb7EB3MoC"
      },
      "source": [
        "class NumpyEncoder(json.JSONEncoder):\n",
        "    def default(self, obj):\n",
        "        if isinstance(obj, np.ndarray):\n",
        "            return obj.tolist()\n",
        "        if isinstance(obj, None):\n",
        "            return \"\"\n",
        "        return json.JSONEncoder.default(self, obj)"
      ],
      "execution_count": null,
      "outputs": []
    },
    {
      "cell_type": "code",
      "metadata": {
        "id": "SIhDImrBQnjj"
      },
      "source": [
        "class Node:\n",
        "\n",
        "  def __init__(self, id, is_leaf, **kwargs):\n",
        "    self.parent = kwargs.get(\"parent\", None)\n",
        "    self.id = id\n",
        "    self.is_leaf = is_leaf\n",
        "    self.pivot = kwargs.get(\"pivot\", None)\n",
        "    self.median = kwargs.get(\"median\", -1)\n",
        "    if self.is_leaf:\n",
        "      self.objects = kwargs.get(\"objects\", [])\n",
        "      self.file_path_s_1, self.file_path_s_2 = \"\", \"\"\n",
        "    else:\n",
        "      self.right = kwargs.get(\"right\", None)\n",
        "      self.left = kwargs.get(\"left\", None)\n",
        "\n",
        "  def set_parameters(self, pivot, median):\n",
        "    self.pivot = pivot\n",
        "    self.median = median\n",
        "\n",
        "  def add_children(self, left, right):\n",
        "    self.left = left\n",
        "    self.right = right\n",
        "\n",
        "  def add_objects(self, s_1, s_2):\n",
        "    self.objects_left = s_1\n",
        "    self.objects_right = s_2\n",
        "\n",
        "  def save_leaf_objects_on_disk(self, file_path, s_1, s_2):\n",
        "    self.file_path_s_1 = file_path + \"_subset_1.npy\"\n",
        "    self.file_path_s_2 = file_path + \"_subset_2.npy\"\n",
        "    np.save(self.file_path_s_1, np.array(s_1, dtype=object))\n",
        "    np.save(self.file_path_s_2, np.array(s_2, dtype=object))\n",
        "\n",
        "  def load_objects_from_disk(self, left=True, right=True):\n",
        "    if left and not right:\n",
        "      result = np.load(self.file_path_s_1, allow_pickle=True)\n",
        "      return result\n",
        "    if right and not left:\n",
        "      result = np.load(self.file_path_s_1, allow_pickle=True)\n",
        "      return result\n",
        "    s_1 = np.load(self.file_path_s_1, allow_pickle=True)\n",
        "    s_2 = np.load(self.file_path_s_2, allow_pickle=True)\n",
        "    result = np.concatenate((s_1, s_2))\n",
        "    return result\n",
        "\n",
        "  def get_node_name(self):\n",
        "    return self.id"
      ],
      "execution_count": null,
      "outputs": []
    },
    {
      "cell_type": "code",
      "metadata": {
        "id": "SnXmnTbIUgsC"
      },
      "source": [
        "class VP_Tree:\n",
        "\n",
        "  def __init__(self, index_name, height, disk_mode=True, leaves_path=None, distance=None):\n",
        "    \"\"\"by default the tree is built with euclidean distance and the leaves are saved on disk, \n",
        "    use_similarity=True allows you to use the cosine similarity\n",
        "    use disk_mode=False if you want to keep all the tree in memory(not suggested for huge data)\"\"\"\n",
        "    self.root = None\n",
        "    self.index_name = index_name\n",
        "    self.height = height #to review\n",
        "    self.disk_mode = disk_mode\n",
        "    self.leaves_path = leaves_path\n",
        "    self.distance = distance #the distance function used (euclidean by default)\n",
        "    self.distance_computed = 0\n",
        "    self.file_accessed = 0\n",
        "    self.file_created = 0\n",
        "\n",
        "  def create_vptree(self, names_path, features_path):\n",
        "    start = time.time()\n",
        "    data = VP_Tree.read_data(names_path, features_path)\n",
        "    n = len(data)\n",
        "    print(\"Number of data:\", n)\n",
        "    max_height = math.floor(math.log(n,2)-1)\n",
        "    print(\"The max height of the tree is:\", max_height)\n",
        "    if self.height > max_height: self.height = max_height\n",
        "    self.distance_computed = 0\n",
        "    #take 1 pivot randomly and set pivot as root\n",
        "    self.root, s_1, s_2 = self.partition_by_median(data)\n",
        "    print(\"Tree is building\")\n",
        "    self.create_tree_level(self.root, s_1, s_2, 1)\n",
        "    end = time.time()\n",
        "    print(\"Building of the tree completed in:\", end-start, \"s\")\n",
        "  \n",
        "  def create_tree_level(self, node, s_1, s_2, iteration):\n",
        "      is_leaf = iteration + 1 >= self.height\n",
        "      left_node, s_1_left, s_2_left = self.partition_by_median(s_1, parent=node,is_left=True, is_leaf=is_leaf)\n",
        "      right_node, s_1_right, s_2_right = self.partition_by_median(s_2, parent=node,is_left=False, is_leaf=is_leaf)\n",
        "      node.add_children(right_node, left_node)\n",
        "      if iteration + 1 < self.height:\n",
        "        self.create_tree_level(left_node, s_1_left, s_2_left, iteration + 1)\n",
        "        self.create_tree_level(right_node, s_1_right, s_2_right, iteration + 1)\n",
        "      else:\n",
        "        if self.disk_mode:\n",
        "          left_path = self.get_leaves_path(left_node.get_node_name())\n",
        "          right_path = self.get_leaves_path(right_node.get_node_name())\n",
        "          left_node.save_leaf_objects_on_disk(left_path, s_1_left, s_2_left)\n",
        "          right_node.save_leaf_objects_on_disk(right_path, s_1_right, s_2_right)\n",
        "        else:\n",
        "          left_node.add_objects(s_1_left, s_2_left)\n",
        "          right_node.add_objects(s_1_right, s_2_right)\n",
        "\n",
        "  def partition_by_median(self, data, parent=None,is_left=False,is_leaf=False):\n",
        "    pivot_index = random.choice(range(len(data)))\n",
        "    pivot = data[pivot_index]\n",
        "    del data[pivot_index]\n",
        "    #compute all the distances\n",
        "    distances = np.array([self.compute_distance(pivot[1],element[1]) for element in data])\n",
        "    #sort the distances\n",
        "    zipped_data_distances = sorted(zip(data, distances), key= lambda x:x[1])\n",
        "    ordered_data, distances = zip(*zipped_data_distances)\n",
        "    median = np.median(distances)\n",
        "    #get the median\n",
        "    s_1 = [element for element, distance in zipped_data_distances if distance <= median]\n",
        "    s_2 = [element for element, distance in zipped_data_distances if distance >= median]\n",
        "    #update node\n",
        "    if parent == None:\n",
        "      node = Node(id=\"0\", is_leaf=is_leaf, pivot=pivot, median=median)\n",
        "    else:\n",
        "      node_id = parent.id + str(0 if is_left else 1)\n",
        "      node = Node(node_id, is_leaf=is_leaf, pivot=pivot, median=median)\n",
        "    return node, s_1, s_2\n",
        "\n",
        "  def save_vptree(file_path, tree):\n",
        "    if not os.path.exists(file_path): os.mkdir(file_path)\n",
        "    file = os.path.join(file_path, tree.index_name + '.json')\n",
        "    if os.path.exists(file):\n",
        "      os.remove(file)\n",
        "    with open(file, 'a') as json_file:\n",
        "      index_json = {\"index\": tree.index_name, \"nodes\":[], \n",
        "                    \"height\":tree.height, \"distance\": None}\n",
        "      VP_Tree.save_node(tree.root, index_json)\n",
        "      vp_tree_json = json.dumps(index_json, cls=NumpyEncoder)\n",
        "      json_file.write(vp_tree_json)\n",
        "      print(\"File saved correctly in:\", file)\n",
        "    return file\n",
        "  \n",
        "  def save_node(node, index_json):\n",
        "    if node.is_leaf:\n",
        "        row_json={\"is_leaf\":True, \n",
        "                    \"id\":node.id,\n",
        "                    \"pivot\" : node.pivot,\n",
        "                    \"median\":node.median, \n",
        "                    \"left_file\":node.file_path_s_1, \n",
        "                    \"right_file\":node.file_path_s_2}\n",
        "        index_json[\"nodes\"].append(row_json)\n",
        "    else:\n",
        "        row_json={\"is_leaf\":False,\n",
        "                  \"id\":node.id, \n",
        "                  \"pivot\": node.pivot,\n",
        "                  \"median\": node.median,\n",
        "                  \"right_child\":node.right.id,\n",
        "                  \"left_child\":node.left.id}\n",
        "        index_json[\"nodes\"].append(row_json)\n",
        "        VP_Tree.save_node(node.left, index_json)\n",
        "        VP_Tree.save_node(node.right,index_json)\n",
        "    return\n",
        "\n",
        "  def load_vptree(path):\n",
        "    if not os.path.exists:\n",
        "      print(\"the path do not exist\")\n",
        "      return None\n",
        "    entry_list=[]\n",
        "    with open(path,'r', encoding='utf-8') as f:\n",
        "      json_tree = json.load(f)\n",
        "      entry_list=json_tree[\"nodes\"]\n",
        "    root_node=VP_Tree.parse_node('0',entry_list)\n",
        "    index_name = json_tree[\"index\"]\n",
        "    height = json_tree[\"height\"]\n",
        "    distance = json_tree.get(\"distance\", None)\n",
        "    vp_tree = VP_Tree(index_name=index_name,height=height,leaves_path=path, \n",
        "                      distance=None)\n",
        "    vp_tree.root = root_node\n",
        "    print(\"Tree loaded correctly\")\n",
        "    return vp_tree\n",
        "\n",
        "  def parse_node(id, nodes):\n",
        "    node_json = None\n",
        "    for element in nodes:\n",
        "      if element[\"id\"]==id:\n",
        "        node_json = element\n",
        "    node=Node(id=node_json[\"id\"], is_leaf=node_json[\"is_leaf\"], \n",
        "              pivot=node_json[\"pivot\"], median=node_json[\"median\"])\n",
        "    if (node.is_leaf):\n",
        "      node.file_path_s_1=node_json[\"left_file\"]\n",
        "      node.file_path_s_2=node_json[\"right_file\"]\n",
        "    else:\n",
        "      right=VP_Tree.parse_node(node_json[\"right_child\"],nodes)\n",
        "      left=VP_Tree.parse_node(node_json[\"left_child\"],nodes)\n",
        "      node.add_children(left, right)\n",
        "    return node\n",
        "\n",
        "  def knn_search(self, k, query):\n",
        "    start = time.time()\n",
        "    nn = [None for i in range(k)]\n",
        "    d_nn = [math.inf for i in range(k)]\n",
        "    self.distance_computed = 0\n",
        "    self.file_accessed = 0\n",
        "    nn, d_nn = self.search_subtree(self.root, nn, d_nn, k, query)\n",
        "    end = time.time()\n",
        "    print(\"Query answered in\", end-start, \" s\")\n",
        "    return self.reorder_list_on_distances(nn, d_nn, desc=False)\n",
        "\n",
        "  def search_subtree(self, node, nn, d_nn, k, query):\n",
        "    pivot, median = node.pivot, node.median\n",
        "    distance = self.compute_distance(pivot[1], query)\n",
        "    if distance < d_nn[0]:\n",
        "      d_nn[0] = distance\n",
        "      nn[0] = pivot\n",
        "      nn, d_nn = self.reorder_list_on_distances(nn, d_nn)\n",
        "    if node.is_leaf:\n",
        "      return self.search_in_leaf(node, nn, d_nn, k, query)\n",
        "    if distance - d_nn[0] <= median:\n",
        "      nn, d_nn = self.search_subtree(node.left, nn, d_nn, k, query)\n",
        "    if distance + d_nn[0] >= median:\n",
        "      nn, d_nn = self.search_subtree(node.right, nn, d_nn, k, query)\n",
        "    return nn, d_nn\n",
        "\n",
        "  def search_in_leaf(self, node, nn, d_nn, k, query):\n",
        "    objects = []\n",
        "    distance_pivot = self.compute_distance(node.pivot[1], query)\n",
        "    left, right = False, False\n",
        "    if self.disk_mode:\n",
        "      if distance_pivot - d_nn[0] <= node.median: \n",
        "        left = True\n",
        "        self.file_accessed = self.file_accessed + 1\n",
        "      if distance_pivot + d_nn[0] >= node.median: \n",
        "        right = True\n",
        "        self.file_accessed = self.file_accessed + 1\n",
        "      objects = node.load_objects_from_disk(left=left, right=right)\n",
        "    else:\n",
        "      objects = node.objects_left + node.objects_right\n",
        "    for obj in objects:\n",
        "      distance = self.compute_distance(obj[1], query)\n",
        "      if distance < d_nn[0]:\n",
        "        nn[0] = obj\n",
        "        d_nn[0] = distance\n",
        "        nn, d_nn = self.reorder_list_on_distances(nn, d_nn)\n",
        "    return nn, d_nn\n",
        "\n",
        "  def reorder_list_on_distances(self, nn, d_nn, desc=True):\n",
        "      zipped = sorted(zip(nn, d_nn), key= lambda x:x[1], reverse=desc)\n",
        "      nn, d_nn = zip(*zipped)\n",
        "      return list(nn), list(d_nn)\n",
        "\n",
        "  def print_tree(node, level, disk_mode=True):\n",
        "    indentation = \"\\n\" + str(level * \"\\t\")\n",
        "    response = \"id: \" + node.id + \" \" + str(node.pivot)\n",
        "    if node.is_leaf:\n",
        "      if disk_mode: \n",
        "        response += indentation + str(node.file_path_s_1)\n",
        "        response += indentation + str(node.file_path_s_2)\n",
        "      else:\n",
        "        response += indentation + str(node.objects_left)\n",
        "        response += indentation + str(node.objects_right)\n",
        "      return response\n",
        "    response += indentation + VP_Tree.print_tree(node=node.right, level=level+1, disk_mode=disk_mode)\n",
        "    response += indentation + VP_Tree.print_tree(node=node.left, level=level+1, disk_mode=disk_mode)\n",
        "    return response\n",
        "\n",
        "  def get_leaves_path(self, file_name):\n",
        "    if not self.leaves_path is None:\n",
        "      directory = os.path.join(self.leaves_path, self.index_name)\n",
        "    else: directory = os.path.join(LEAF_FOLDER, self.index_name)\n",
        "    if not os.path.exists(directory):\n",
        "      os.mkdir(directory)\n",
        "      print(\"directory created\", directory)\n",
        "    leaves_directory = os.path.join(directory, \"leaves_\"+ str(self.height))\n",
        "    if not os.path.exists(leaves_directory):\n",
        "      os.mkdir(leaves_directory)\n",
        "    return os.path.join(leaves_directory, file_name)\n",
        "\n",
        "  def compute_distance(self, a, b):\n",
        "    self.distance_computed = self.distance_computed + 1\n",
        "    if self.distance == None:\n",
        "      return d.euclidean(a,b)\n",
        "    return self.distance(a,b)\n",
        "\n",
        "  def read_data(file_path_names, file_path_features):\n",
        "    names = np.load(file_path_names)\n",
        "    features = np.load(file_path_features)\n",
        "    return [(name, feature) for name, feature in zip(names, features)]"
      ],
      "execution_count": null,
      "outputs": []
    },
    {
      "cell_type": "markdown",
      "metadata": {
        "id": "XI4zCLi7v7mp"
      },
      "source": [
        "## Partition By Median Tests"
      ]
    },
    {
      "cell_type": "code",
      "metadata": {
        "colab": {
          "base_uri": "https://localhost:8080/"
        },
        "id": "Ygry8Ffqxcpf",
        "outputId": "f2618ca3-79d7-4ec3-8234-80edf212bd79"
      },
      "source": [
        "# Partition By Median Tests 1\n",
        "data = [(\"image0\", np.array([0,2,1])) , (\"image1\",np.array([2,3,6])), (\"image2\",np.array([5,3,2])),\n",
        "          (\"image3\",np.array([5,6,4])), (\"image4\",np.array([5,16,1])), (\"image5\",np.array([2,6,2])), (\"image6\",np.array([1,3,1]))]\n",
        "\n",
        "vantage_point_tree = VP_Tree(\"Index_Test\", 5)\n",
        "node, s_1, s_2 = vantage_point_tree.partition_by_median(data)\n",
        "\n",
        "print(\"Node:\", node.pivot)\n",
        "print(\"Median:\", node.median)\n",
        "print(\"Set 1:\", s_1)\n",
        "print(\"Set 2:\", s_2)"
      ],
      "execution_count": null,
      "outputs": [
        {
          "output_type": "stream",
          "text": [
            "Node: ('image0', array([0, 2, 1]))\n",
            "Median: 5.336688998879147\n",
            "Set 1: [('image6', array([1, 3, 1])), ('image5', array([2, 6, 2])), ('image2', array([5, 3, 2]))]\n",
            "Set 2: [('image1', array([2, 3, 6])), ('image3', array([5, 6, 4])), ('image4', array([ 5, 16,  1]))]\n"
          ],
          "name": "stdout"
        }
      ]
    },
    {
      "cell_type": "code",
      "metadata": {
        "colab": {
          "base_uri": "https://localhost:8080/"
        },
        "id": "3QN6WFOyxwf8",
        "outputId": "5e69b2a6-8775-454a-eff7-d7376b8b1862"
      },
      "source": [
        "# Partition By Median Tests 2\n",
        "data = [(\"img_1\",np.array([0,0])), (\"img_2\",np.array([0,1])), (\"img_3\",np.array([2,2])), (\"img_4\",np.array([3,3]))]\n",
        "\n",
        "vantage_point_tree = VP_Tree(\"Index_Test\", 5)\n",
        "\n",
        "node, s_1, s_2 = vantage_point_tree.partition_by_median(data)\n",
        "\n",
        "print(\"Pivot:\", node.pivot)\n",
        "print(\"Median:\", node.median)\n",
        "print(\"Set 1:\", s_1)\n",
        "print(\"Set 2:\", s_2)"
      ],
      "execution_count": null,
      "outputs": [
        {
          "output_type": "stream",
          "text": [
            "Pivot: ('img_1', array([0, 0]))\n",
            "Median: 2.8284271247461903\n",
            "Set 1: [('img_2', array([0, 1])), ('img_3', array([2, 2]))]\n",
            "Set 2: [('img_3', array([2, 2])), ('img_4', array([3, 3]))]\n"
          ],
          "name": "stdout"
        }
      ]
    },
    {
      "cell_type": "markdown",
      "metadata": {
        "id": "TbrdN4xByCas"
      },
      "source": [
        "## Creation Tests with euclidean distance"
      ]
    },
    {
      "cell_type": "code",
      "metadata": {
        "colab": {
          "base_uri": "https://localhost:8080/",
          "height": 422
        },
        "id": "ai4DaIEfyKnh",
        "outputId": "6bb41b63-ca49-447e-e9c3-cda1f558f34a"
      },
      "source": [
        "# Create Tree Test 1\n",
        "vantage_point_tree = VP_Tree(\"Index_Test_1\",4)\n",
        "vantage_point_tree.create_vptree(FEATURES_NAMES_TEST_1,FEATURES_PATH_TEST_1)\n",
        "result = VP_Tree.print_tree(vantage_point_tree.root, level=1)\n",
        "\n",
        "print(\"Result:\\n\" + result + \"\\n\")\n",
        "\n",
        "index_name = vantage_point_tree.index_name\n",
        "\n",
        "path = VP_Tree.save_vptree(os.path.join(TEST_PATH, index_name),vantage_point_tree)\n",
        "\n",
        "print(\"Saved on:\", path)\n",
        "\n",
        "tree_loaded = VP_Tree.load_vptree(path)\n",
        "\n",
        "print(\"\\nTree Loaded\\n\")\n",
        "result = VP_Tree.print_tree(tree_loaded.root, level=1)\n",
        "print(result)"
      ],
      "execution_count": null,
      "outputs": [
        {
          "output_type": "stream",
          "text": [
            "Number of data: 21\n",
            "The max height of the tree is: 3\n",
            "Tree is building\n"
          ],
          "name": "stdout"
        },
        {
          "output_type": "error",
          "ename": "NameError",
          "evalue": "ignored",
          "traceback": [
            "\u001b[0;31m---------------------------------------------------------------------------\u001b[0m",
            "\u001b[0;31mNameError\u001b[0m                                 Traceback (most recent call last)",
            "\u001b[0;32m<ipython-input-12-97a7e917830a>\u001b[0m in \u001b[0;36m<module>\u001b[0;34m()\u001b[0m\n\u001b[1;32m      1\u001b[0m \u001b[0;31m# Create Tree Test 1\u001b[0m\u001b[0;34m\u001b[0m\u001b[0;34m\u001b[0m\u001b[0;34m\u001b[0m\u001b[0m\n\u001b[1;32m      2\u001b[0m \u001b[0mvantage_point_tree\u001b[0m \u001b[0;34m=\u001b[0m \u001b[0mVP_Tree\u001b[0m\u001b[0;34m(\u001b[0m\u001b[0;34m\"Index_Test_1\"\u001b[0m\u001b[0;34m,\u001b[0m\u001b[0;36m4\u001b[0m\u001b[0;34m)\u001b[0m\u001b[0;34m\u001b[0m\u001b[0;34m\u001b[0m\u001b[0m\n\u001b[0;32m----> 3\u001b[0;31m \u001b[0mvantage_point_tree\u001b[0m\u001b[0;34m.\u001b[0m\u001b[0mcreate_vptree\u001b[0m\u001b[0;34m(\u001b[0m\u001b[0mFEATURES_NAMES_TEST_1\u001b[0m\u001b[0;34m,\u001b[0m\u001b[0mFEATURES_PATH_TEST_1\u001b[0m\u001b[0;34m)\u001b[0m\u001b[0;34m\u001b[0m\u001b[0;34m\u001b[0m\u001b[0m\n\u001b[0m\u001b[1;32m      4\u001b[0m \u001b[0mresult\u001b[0m \u001b[0;34m=\u001b[0m \u001b[0mVP_Tree\u001b[0m\u001b[0;34m.\u001b[0m\u001b[0mprint_tree\u001b[0m\u001b[0;34m(\u001b[0m\u001b[0mvantage_point_tree\u001b[0m\u001b[0;34m.\u001b[0m\u001b[0mroot\u001b[0m\u001b[0;34m,\u001b[0m \u001b[0mlevel\u001b[0m\u001b[0;34m=\u001b[0m\u001b[0;36m1\u001b[0m\u001b[0;34m)\u001b[0m\u001b[0;34m\u001b[0m\u001b[0;34m\u001b[0m\u001b[0m\n\u001b[1;32m      5\u001b[0m \u001b[0;34m\u001b[0m\u001b[0m\n",
            "\u001b[0;32m<ipython-input-8-357fc8ad6e4e>\u001b[0m in \u001b[0;36mcreate_vptree\u001b[0;34m(self, names_path, features_path)\u001b[0m\n\u001b[1;32m     27\u001b[0m     \u001b[0mself\u001b[0m\u001b[0;34m.\u001b[0m\u001b[0mroot\u001b[0m\u001b[0;34m,\u001b[0m \u001b[0ms_1\u001b[0m\u001b[0;34m,\u001b[0m \u001b[0ms_2\u001b[0m \u001b[0;34m=\u001b[0m \u001b[0mself\u001b[0m\u001b[0;34m.\u001b[0m\u001b[0mpartition_by_median\u001b[0m\u001b[0;34m(\u001b[0m\u001b[0mdata\u001b[0m\u001b[0;34m)\u001b[0m\u001b[0;34m\u001b[0m\u001b[0;34m\u001b[0m\u001b[0m\n\u001b[1;32m     28\u001b[0m     \u001b[0mprint\u001b[0m\u001b[0;34m(\u001b[0m\u001b[0;34m\"Tree is building\"\u001b[0m\u001b[0;34m)\u001b[0m\u001b[0;34m\u001b[0m\u001b[0;34m\u001b[0m\u001b[0m\n\u001b[0;32m---> 29\u001b[0;31m     \u001b[0mself\u001b[0m\u001b[0;34m.\u001b[0m\u001b[0mcreate_tree_level\u001b[0m\u001b[0;34m(\u001b[0m\u001b[0mself\u001b[0m\u001b[0;34m.\u001b[0m\u001b[0mroot\u001b[0m\u001b[0;34m,\u001b[0m \u001b[0ms_1\u001b[0m\u001b[0;34m,\u001b[0m \u001b[0ms_2\u001b[0m\u001b[0;34m,\u001b[0m \u001b[0;36m1\u001b[0m\u001b[0;34m)\u001b[0m\u001b[0;34m\u001b[0m\u001b[0;34m\u001b[0m\u001b[0m\n\u001b[0m\u001b[1;32m     30\u001b[0m     \u001b[0mend\u001b[0m \u001b[0;34m=\u001b[0m \u001b[0mtime\u001b[0m\u001b[0;34m.\u001b[0m\u001b[0mtime\u001b[0m\u001b[0;34m(\u001b[0m\u001b[0;34m)\u001b[0m\u001b[0;34m\u001b[0m\u001b[0;34m\u001b[0m\u001b[0m\n\u001b[1;32m     31\u001b[0m     \u001b[0mprint\u001b[0m\u001b[0;34m(\u001b[0m\u001b[0;34m\"Building of the tree completed in:\"\u001b[0m\u001b[0;34m,\u001b[0m \u001b[0mend\u001b[0m\u001b[0;34m-\u001b[0m\u001b[0mstart\u001b[0m\u001b[0;34m,\u001b[0m \u001b[0;34m\"s\"\u001b[0m\u001b[0;34m)\u001b[0m\u001b[0;34m\u001b[0m\u001b[0;34m\u001b[0m\u001b[0m\n",
            "\u001b[0;32m<ipython-input-8-357fc8ad6e4e>\u001b[0m in \u001b[0;36mcreate_tree_level\u001b[0;34m(self, node, s_1, s_2, iteration)\u001b[0m\n\u001b[1;32m     37\u001b[0m       \u001b[0mnode\u001b[0m\u001b[0;34m.\u001b[0m\u001b[0madd_children\u001b[0m\u001b[0;34m(\u001b[0m\u001b[0mright_node\u001b[0m\u001b[0;34m,\u001b[0m \u001b[0mleft_node\u001b[0m\u001b[0;34m)\u001b[0m\u001b[0;34m\u001b[0m\u001b[0;34m\u001b[0m\u001b[0m\n\u001b[1;32m     38\u001b[0m       \u001b[0;32mif\u001b[0m \u001b[0miteration\u001b[0m \u001b[0;34m+\u001b[0m \u001b[0;36m1\u001b[0m \u001b[0;34m<\u001b[0m \u001b[0mself\u001b[0m\u001b[0;34m.\u001b[0m\u001b[0mheight\u001b[0m\u001b[0;34m:\u001b[0m\u001b[0;34m\u001b[0m\u001b[0;34m\u001b[0m\u001b[0m\n\u001b[0;32m---> 39\u001b[0;31m         \u001b[0mself\u001b[0m\u001b[0;34m.\u001b[0m\u001b[0mcreate_tree_level\u001b[0m\u001b[0;34m(\u001b[0m\u001b[0mleft_node\u001b[0m\u001b[0;34m,\u001b[0m \u001b[0ms_1_left\u001b[0m\u001b[0;34m,\u001b[0m \u001b[0ms_2_left\u001b[0m\u001b[0;34m,\u001b[0m \u001b[0miteration\u001b[0m \u001b[0;34m+\u001b[0m \u001b[0;36m1\u001b[0m\u001b[0;34m)\u001b[0m\u001b[0;34m\u001b[0m\u001b[0;34m\u001b[0m\u001b[0m\n\u001b[0m\u001b[1;32m     40\u001b[0m         \u001b[0mself\u001b[0m\u001b[0;34m.\u001b[0m\u001b[0mcreate_tree_level\u001b[0m\u001b[0;34m(\u001b[0m\u001b[0mright_node\u001b[0m\u001b[0;34m,\u001b[0m \u001b[0ms_1_right\u001b[0m\u001b[0;34m,\u001b[0m \u001b[0ms_2_right\u001b[0m\u001b[0;34m,\u001b[0m \u001b[0miteration\u001b[0m \u001b[0;34m+\u001b[0m \u001b[0;36m1\u001b[0m\u001b[0;34m)\u001b[0m\u001b[0;34m\u001b[0m\u001b[0;34m\u001b[0m\u001b[0m\n\u001b[1;32m     41\u001b[0m       \u001b[0;32melse\u001b[0m\u001b[0;34m:\u001b[0m\u001b[0;34m\u001b[0m\u001b[0;34m\u001b[0m\u001b[0m\n",
            "\u001b[0;32m<ipython-input-8-357fc8ad6e4e>\u001b[0m in \u001b[0;36mcreate_tree_level\u001b[0;34m(self, node, s_1, s_2, iteration)\u001b[0m\n\u001b[1;32m     41\u001b[0m       \u001b[0;32melse\u001b[0m\u001b[0;34m:\u001b[0m\u001b[0;34m\u001b[0m\u001b[0;34m\u001b[0m\u001b[0m\n\u001b[1;32m     42\u001b[0m         \u001b[0;32mif\u001b[0m \u001b[0mself\u001b[0m\u001b[0;34m.\u001b[0m\u001b[0mdisk_mode\u001b[0m\u001b[0;34m:\u001b[0m\u001b[0;34m\u001b[0m\u001b[0;34m\u001b[0m\u001b[0m\n\u001b[0;32m---> 43\u001b[0;31m           \u001b[0mleft_path\u001b[0m \u001b[0;34m=\u001b[0m \u001b[0mself\u001b[0m\u001b[0;34m.\u001b[0m\u001b[0mget_leaves_path\u001b[0m\u001b[0;34m(\u001b[0m\u001b[0mleft_node\u001b[0m\u001b[0;34m.\u001b[0m\u001b[0mget_node_name\u001b[0m\u001b[0;34m(\u001b[0m\u001b[0;34m)\u001b[0m\u001b[0;34m)\u001b[0m\u001b[0;34m\u001b[0m\u001b[0;34m\u001b[0m\u001b[0m\n\u001b[0m\u001b[1;32m     44\u001b[0m           \u001b[0mright_path\u001b[0m \u001b[0;34m=\u001b[0m \u001b[0mself\u001b[0m\u001b[0;34m.\u001b[0m\u001b[0mget_leaves_path\u001b[0m\u001b[0;34m(\u001b[0m\u001b[0mright_node\u001b[0m\u001b[0;34m.\u001b[0m\u001b[0mget_node_name\u001b[0m\u001b[0;34m(\u001b[0m\u001b[0;34m)\u001b[0m\u001b[0;34m)\u001b[0m\u001b[0;34m\u001b[0m\u001b[0;34m\u001b[0m\u001b[0m\n\u001b[1;32m     45\u001b[0m           \u001b[0mleft_node\u001b[0m\u001b[0;34m.\u001b[0m\u001b[0msave_leaf_objects_on_disk\u001b[0m\u001b[0;34m(\u001b[0m\u001b[0mleft_path\u001b[0m\u001b[0;34m,\u001b[0m \u001b[0ms_1_left\u001b[0m\u001b[0;34m,\u001b[0m \u001b[0ms_2_left\u001b[0m\u001b[0;34m)\u001b[0m\u001b[0;34m\u001b[0m\u001b[0;34m\u001b[0m\u001b[0m\n",
            "\u001b[0;32m<ipython-input-8-357fc8ad6e4e>\u001b[0m in \u001b[0;36mget_leaves_path\u001b[0;34m(self, file_name)\u001b[0m\n\u001b[1;32m    210\u001b[0m     \u001b[0;32mif\u001b[0m \u001b[0;32mnot\u001b[0m \u001b[0mself\u001b[0m\u001b[0;34m.\u001b[0m\u001b[0mleaves_path\u001b[0m \u001b[0;32mis\u001b[0m \u001b[0;32mNone\u001b[0m\u001b[0;34m:\u001b[0m\u001b[0;34m\u001b[0m\u001b[0;34m\u001b[0m\u001b[0m\n\u001b[1;32m    211\u001b[0m       \u001b[0mdirectory\u001b[0m \u001b[0;34m=\u001b[0m \u001b[0mos\u001b[0m\u001b[0;34m.\u001b[0m\u001b[0mpath\u001b[0m\u001b[0;34m.\u001b[0m\u001b[0mjoin\u001b[0m\u001b[0;34m(\u001b[0m\u001b[0mself\u001b[0m\u001b[0;34m.\u001b[0m\u001b[0mleaves_path\u001b[0m\u001b[0;34m,\u001b[0m \u001b[0mself\u001b[0m\u001b[0;34m.\u001b[0m\u001b[0mindex_name\u001b[0m\u001b[0;34m)\u001b[0m\u001b[0;34m\u001b[0m\u001b[0;34m\u001b[0m\u001b[0m\n\u001b[0;32m--> 212\u001b[0;31m     \u001b[0;32melse\u001b[0m\u001b[0;34m:\u001b[0m \u001b[0mdirectory\u001b[0m \u001b[0;34m=\u001b[0m \u001b[0mos\u001b[0m\u001b[0;34m.\u001b[0m\u001b[0mpath\u001b[0m\u001b[0;34m.\u001b[0m\u001b[0mjoin\u001b[0m\u001b[0;34m(\u001b[0m\u001b[0mLEAF_FOLDER\u001b[0m\u001b[0;34m,\u001b[0m \u001b[0mself\u001b[0m\u001b[0;34m.\u001b[0m\u001b[0mindex_name\u001b[0m\u001b[0;34m)\u001b[0m\u001b[0;34m\u001b[0m\u001b[0;34m\u001b[0m\u001b[0m\n\u001b[0m\u001b[1;32m    213\u001b[0m     \u001b[0;32mif\u001b[0m \u001b[0;32mnot\u001b[0m \u001b[0mos\u001b[0m\u001b[0;34m.\u001b[0m\u001b[0mpath\u001b[0m\u001b[0;34m.\u001b[0m\u001b[0mexists\u001b[0m\u001b[0;34m(\u001b[0m\u001b[0mdirectory\u001b[0m\u001b[0;34m)\u001b[0m\u001b[0;34m:\u001b[0m\u001b[0;34m\u001b[0m\u001b[0;34m\u001b[0m\u001b[0m\n\u001b[1;32m    214\u001b[0m       \u001b[0mos\u001b[0m\u001b[0;34m.\u001b[0m\u001b[0mmkdir\u001b[0m\u001b[0;34m(\u001b[0m\u001b[0mdirectory\u001b[0m\u001b[0;34m)\u001b[0m\u001b[0;34m\u001b[0m\u001b[0;34m\u001b[0m\u001b[0m\n",
            "\u001b[0;31mNameError\u001b[0m: name 'LEAF_FOLDER' is not defined"
          ]
        }
      ]
    },
    {
      "cell_type": "code",
      "metadata": {
        "id": "Bkdc8A5V07gj"
      },
      "source": [
        "# Create Tree Test 2\n",
        "vantage_point_tree = VP_Tree(\"Index_Test_2\",4)\n",
        "vantage_point_tree.create_vptree(FEATURES_NAMES_TEST_2, FEATURES_PATH_TEST_2)\n",
        "result = VP_Tree.print_tree(vantage_point_tree.root, level=1)\n",
        "print(\"Result:\\n\" + result + \"\\n\")\n",
        "\n",
        "path = VP_Tree.save_vptree(os.path.join(TEST_PATH, index_name),vantage_point_tree)\n",
        "\n",
        "print(\"Saved on:\", path)\n",
        "\n",
        "tree_loaded = VP_Tree.load_vptree(path)\n",
        "\n",
        "print(\"\\nTree Loaded\\n\")\n",
        "result = VP_Tree.print_tree(tree_loaded.root, level=1)\n",
        "print(result)"
      ],
      "execution_count": null,
      "outputs": []
    },
    {
      "cell_type": "code",
      "metadata": {
        "id": "lqyPbxEL1GMS"
      },
      "source": [
        "# Create Tree Test 3\n",
        "vantage_point_tree = VP_Tree(\"Index_Test_3\",6)\n",
        "vantage_point_tree.create_vptree(FEATURES_NAMES_TEST_3, FEATURES_PATH_TEST_3)\n",
        "result = VP_Tree.print_tree(vantage_point_tree.root, level=1)\n",
        "print(\"Result:\\n\" + result + \"\\n\")\n",
        "\n",
        "path = VP_Tree.save_vptree(os.path.join(TEST_PATH, index_name),vantage_point_tree)\n",
        "\n",
        "print(\"Saved on:\", path)\n",
        "\n",
        "tree_loaded = VP_Tree.load_vptree(path)\n",
        "\n",
        "print(\"\\nTree Loaded\\n\")\n",
        "result = VP_Tree.print_tree(tree_loaded.root, level=1)\n",
        "print(result)"
      ],
      "execution_count": null,
      "outputs": []
    },
    {
      "cell_type": "code",
      "metadata": {
        "id": "PI-RQuKf1W2m"
      },
      "source": [
        "# Create Tree Test 4\n",
        "vantage_point_tree = VP_Tree(\"Index_Test_4\",4, disk_mode=True,leaves_path=TEST_PATH)\n",
        "vantage_point_tree.create_vptree(FEATURES_NAMES_TEST_1, FEATURES_PATH_TEST_1)\n",
        "result = VP_Tree.print_tree(vantage_point_tree.root, level=1, disk_mode=True)\n",
        "\n",
        "print(\"Result:\\n\" + result + \"\\n\")\n",
        "\n",
        "path = VP_Tree.save_vptree(os.path.join(TEST_PATH, index_name),vantage_point_tree)\n",
        "\n",
        "print(\"Saved on:\", path)\n",
        "\n",
        "tree_loaded = VP_Tree.load_vptree(path)\n",
        "\n",
        "print(\"\\nTree Loaded\\n\")\n",
        "result = VP_Tree.print_tree(tree_loaded.root, level=1)\n",
        "print(result)"
      ],
      "execution_count": null,
      "outputs": []
    },
    {
      "cell_type": "markdown",
      "metadata": {
        "id": "OTtZ5Ni_kOPP"
      },
      "source": [
        "## Creation Tests with Cosine Similarity"
      ]
    },
    {
      "cell_type": "markdown",
      "metadata": {
        "id": "MEVLxoa_QsT1"
      },
      "source": [
        "## Index Fine Tuned (Hamming Distance)"
      ]
    },
    {
      "cell_type": "code",
      "metadata": {
        "colab": {
          "base_uri": "https://localhost:8080/"
        },
        "id": "YWN14wg7QytE",
        "outputId": "42582cc1-734e-484e-bfed-b2205fa101c3"
      },
      "source": [
        "def hamming(a,b):\n",
        "  return np.count_nonzero(a != b)\n",
        "  #return d.hamming(a,b)\n",
        "\n",
        "# creation\n",
        "if __name__ == '__main__':\n",
        "  vantage_point_tree = VP_Tree(\"index_fine_tuned_hamming\",height=10, \n",
        "                               disk_mode=True, leaves_path=TEST_PATH,\n",
        "                               distance=hamming)\n",
        "  vantage_point_tree.create_vptree(FINE_TUNED_ID, FINE_TUNED_FEATURES)\n",
        "\n",
        "  index_name = vantage_point_tree.index_name\n",
        "  dest_folder = os.path.join(TEST_PATH, index_name)\n",
        "  print(\"Destination Folder: \", dest_folder)\n",
        "\n",
        "\n",
        "  VP_Tree.save_vptree(dest_folder,vantage_point_tree)"
      ],
      "execution_count": null,
      "outputs": [
        {
          "output_type": "stream",
          "text": [
            "Number of data: 126000\n",
            "The max height of the tree is: 15\n",
            "Tree is building\n",
            "Building of the tree completed in: 44.90977764129639 s\n",
            "Destination Folder:  /content/gdrive/MyDrive/test-folder/index_fine_tuned_hamming\n",
            "File saved correctly in: /content/gdrive/MyDrive/test-folder/index_fine_tuned_hamming/index_fine_tuned_hamming.json\n"
          ],
          "name": "stdout"
        }
      ]
    },
    {
      "cell_type": "code",
      "metadata": {
        "colab": {
          "base_uri": "https://localhost:8080/"
        },
        "id": "pI3MOq1yNbpH",
        "outputId": "b75bd2be-96b1-4ffc-82db-5d97be5e568c"
      },
      "source": [
        "query = [random.randint(-2,2) for _ in range(256)]\n",
        "print(\"Query length: \", len(query))\n",
        "results, distances = vantage_point_tree.knn_search(10, vantage_point_tree.root.pivot[1])\n",
        "print([element for element, _ in results])\n",
        "print(distances)\n",
        "print(\"Distances Computed: \", vantage_point_tree.distance_computed)\n",
        "print(\"File Accessed: \", vantage_point_tree.file_accessed)"
      ],
      "execution_count": null,
      "outputs": [
        {
          "output_type": "stream",
          "text": [
            "Query length:  256\n",
            "Query answered in 9.486578702926636  s\n",
            "['im8481.jpg', 'im3103.jpg', 'im935.jpg', 'im21649.jpg', 'im21649.jpg', 'im123.jpg', 'im123.jpg', 'im9931.jpg', 'im15786.jpg', 'im15786.jpg']\n",
            "[0, 219, 220, 220, 220, 220, 220, 221, 221, 221]\n",
            "Distances Computed:  673855\n",
            "File Accessed:  1024\n"
          ],
          "name": "stdout"
        }
      ]
    },
    {
      "cell_type": "markdown",
      "metadata": {
        "id": "u_inhs1UUAhQ"
      },
      "source": [
        "# Index Fine Tuning (Cosine Similarity)"
      ]
    },
    {
      "cell_type": "code",
      "metadata": {
        "colab": {
          "base_uri": "https://localhost:8080/"
        },
        "id": "_YUqqhl_Tksc",
        "outputId": "68807b85-afdd-4612-8ea6-8be3f7f28122"
      },
      "source": [
        "def inv_cosine_similarity(a,b):\n",
        "  return 1-np.dot(a,b)/(np.linalg.norm(a)*np.linalg.norm(b))\n",
        "\n",
        "# creation\n",
        "if __name__ == '__main__':\n",
        "  vantage_point_tree_cosine = VP_Tree(\"index_fine_tuned_hamming\",height=10, \n",
        "                               disk_mode=True, leaves_path=TEST_PATH,\n",
        "                               distance=inv_cosine_similarity)\n",
        "  vantage_point_tree_cosine.create_vptree(FINE_TUNED_ID, FINE_TUNED_FEATURES)\n",
        "\n",
        "  index_name = vantage_point_tree_cosine.index_name\n",
        "  dest_folder = os.path.join(TEST_PATH, index_name)\n",
        "  print(\"Destination Folder: \", dest_folder)\n",
        "\n",
        "\n",
        "  VP_Tree.save_vptree(dest_folder,vantage_point_tree_cosine)"
      ],
      "execution_count": null,
      "outputs": [
        {
          "output_type": "stream",
          "text": [
            "Number of data: 126000\n",
            "The max height of the tree is: 15\n",
            "Tree is building\n",
            "Building of the tree completed in: 34.03710865974426 s\n",
            "Destination Folder:  /content/gdrive/MyDrive/test-folder/index_fine_tuned_hamming\n",
            "File saved correctly in: /content/gdrive/MyDrive/test-folder/index_fine_tuned_hamming/index_fine_tuned_hamming.json\n"
          ],
          "name": "stdout"
        }
      ]
    },
    {
      "cell_type": "code",
      "metadata": {
        "id": "kKD9IoWeKNE0",
        "colab": {
          "base_uri": "https://localhost:8080/"
        },
        "outputId": "7b53d703-3b7b-4f0c-8c0d-a0bda82dffbe"
      },
      "source": [
        "query = [random.randint(-2,2) for _ in range(256)]\n",
        "print(\"Query length:\", len(query))\n",
        "results, distances = vantage_point_tree_cosine.knn_search(10, query)\n",
        "print([element for element, _ in results])\n",
        "print(distances)\n",
        "print(\"Distances Computed: \", vantage_point_tree_cosine.distance_computed)\n",
        "print(\"File Accessed: \", vantage_point_tree_cosine.file_accessed)"
      ],
      "execution_count": null,
      "outputs": [
        {
          "output_type": "stream",
          "text": [
            "Query length: 256\n",
            "Query answered in 14.846802473068237  s\n",
            "['1444279.jpg', '3806312.jpg', '1262677.jpg', '979955.jpg', '677596.jpg', '3008582.jpg', '2525911.jpg', '2867015.jpg', '2958902.jpg', '2508157.jpg']\n",
            "[0.8309591780466887, 0.8323519443522625, 0.8406768575545924, 0.8485221218616431, 0.8490953071667069, 0.8494656790827948, 0.8497474177553309, 0.851173617751247, 0.8513416205962392, 0.851387406132734]\n",
            "Distances Computed:  120935\n",
            "File Accessed:  971\n"
          ],
          "name": "stdout"
        }
      ]
    },
    {
      "cell_type": "markdown",
      "metadata": {
        "id": "fpZex6hDbhWS"
      },
      "source": [
        "#Manhattan Distance"
      ]
    },
    {
      "cell_type": "code",
      "metadata": {
        "colab": {
          "base_uri": "https://localhost:8080/"
        },
        "id": "_27juXn6bc0m",
        "outputId": "5a1b590b-9aa8-4a66-ec68-07e4ae1ae802"
      },
      "source": [
        "def manhattan(a,b):\n",
        "  return d.cityblock(a,b)\n",
        "\n",
        "# creation\n",
        "if __name__ == '__main__':\n",
        "  vantage_point_tree_man = VP_Tree(\"index_fine_tuned_hamming\",height=10, \n",
        "                               disk_mode=True, leaves_path=TEST_PATH,\n",
        "                               distance=manhattan)\n",
        "  vantage_point_tree_man.create_vptree(FINE_TUNED_ID, FINE_TUNED_FEATURES)\n",
        "\n",
        "  index_name = vantage_point_tree_man.index_name\n",
        "  dest_folder = os.path.join(TEST_PATH, index_name)\n",
        "  print(\"Destination Folder: \", dest_folder)\n",
        "\n",
        "\n",
        "  #VP_Tree.save_vptree(dest_folder,vantage_point_tree_man)"
      ],
      "execution_count": null,
      "outputs": [
        {
          "output_type": "stream",
          "text": [
            "Number of data: 126000\n",
            "The max height of the tree is: 15\n",
            "Tree is building\n",
            "Building of the tree completed in: 24.674943208694458 s\n",
            "Destination Folder:  /content/gdrive/MyDrive/test-folder/index_fine_tuned_hamming\n"
          ],
          "name": "stdout"
        }
      ]
    },
    {
      "cell_type": "code",
      "metadata": {
        "colab": {
          "base_uri": "https://localhost:8080/"
        },
        "id": "o2uaAET1beaI",
        "outputId": "19249e20-d4ea-4ab0-9c3e-d5625c8d04b9"
      },
      "source": [
        "query = [random.randint(-2,2) for _ in range(256)]\n",
        "print(\"Query length:\", len(query))\n",
        "results, distances = vantage_point_tree_cosine.knn_search(10, query)\n",
        "print([element for element, _ in results])\n",
        "print(distances)\n",
        "print(\"Distances Computed: \", vantage_point_tree_cosine.distance_computed)\n",
        "print(\"File Accessed: \", vantage_point_tree_cosine.file_accessed)"
      ],
      "execution_count": null,
      "outputs": [
        {
          "output_type": "stream",
          "text": [
            "Query length: 256\n",
            "Query answered in 14.295985698699951  s\n",
            "['837724.jpg', 'im22351.jpg', 'im15164.jpg', 'im907.jpg', 'im20059.jpg', 'im7573.jpg', 'im19740.jpg', '3662475.jpg', '3555823.jpg', 'im24357.jpg']\n",
            "[0.9006141772667191, 0.9152262032233672, 0.9196521317769965, 0.920218191045073, 0.9213471425716077, 0.9216129093927734, 0.9225966323776394, 0.9229664063954939, 0.9235919061737508, 0.9240897378679845]\n",
            "Distances Computed:  117706\n",
            "File Accessed:  945\n"
          ],
          "name": "stdout"
        }
      ]
    },
    {
      "cell_type": "markdown",
      "metadata": {
        "id": "EczXVgMQUJBf"
      },
      "source": [
        "#Prova"
      ]
    },
    {
      "cell_type": "code",
      "metadata": {
        "colab": {
          "base_uri": "https://localhost:8080/"
        },
        "id": "kgmza7QJRJrl",
        "outputId": "4979c7c2-1fdb-4bde-e3ed-4008c7839af0"
      },
      "source": [
        "if __name__ == '__main__':\n",
        "  dest_folder = os.path.join(INDEX_DIR, \n",
        "                             \"index_fine_tuned_hamming/index_fine_tuned_hamming.json\")\n",
        "  vantage_point_tree = VP_Tree.load_vptree(dest_folder)\n",
        "  id, query = vantage_point_tree.root.pivot[0], vantage_point_tree.root.pivot[1]\n",
        "  print(\"Query id:\", id)\n",
        "  start = time.time()\n",
        "  ids, d_nn = vantage_point_tree.knn_search(k=10, query=query)\n",
        "  end = time.time()\n",
        "  print(\"Results:\", [element[0] for element in ids])\n",
        "  print(\"Distances:\", d_nn)\n",
        "  print(\"Distance Computed:\", vantage_point_tree.distance_computed)\n",
        "  print(\"File Accessed:\", vantage_point_tree.file_accessed)\n",
        "  ids_str = [id[0] for id in ids]\n",
        "  zipped = zip(ids_str,d_nn)\n",
        "  #display_results(zipped)"
      ],
      "execution_count": null,
      "outputs": [
        {
          "output_type": "stream",
          "text": [
            "Tree loaded correctly\n",
            "Query id: 1037387.jpg\n",
            "Query answered in 0.02215862274169922  s\n",
            "Results: ['1037387.jpg', '3001416.jpg', '3254904.jpg', '2895543.jpg', '3526250.jpg', '3466578.jpg', '2346400.jpg', '3168158.jpg', '3311886.jpg', '3833803.jpg']\n",
            "Distances: [0, 1, 1, 1, 1, 1, 1, 1, 1, 1]\n",
            "Distance Computed: 829\n",
            "File Accessed: 1\n"
          ],
          "name": "stdout"
        }
      ]
    },
    {
      "cell_type": "markdown",
      "metadata": {
        "id": "mHx7yf3IUY09"
      },
      "source": [
        "# Create Tree Test"
      ]
    },
    {
      "cell_type": "code",
      "metadata": {
        "colab": {
          "base_uri": "https://localhost:8080/"
        },
        "id": "RfJGReRQkTBH",
        "outputId": "9ee028d4-8ec9-4f64-de1f-142d308689b7"
      },
      "source": [
        "# Create Tree Test 1\n",
        "vantage_point_tree = VP_Tree(\"Index_Test_1_sim\",4, disk_mode=True, use_similarity=True)\n",
        "vantage_point_tree.create_vptree(FEATURES_NAMES_TEST_1,FEATURES_PATH_TEST_1)\n",
        "result = VP_Tree.print_tree(vantage_point_tree.root, level=1)\n",
        "\n",
        "print(\"Result:\\n\" + result + \"\\n\")\n",
        "\n",
        "index_name = vantage_point_tree.index_name\n",
        "\n",
        "path = VP_Tree.save_vptree(os.path.join(TEST_PATH, index_name),vantage_point_tree)\n",
        "\n",
        "print(\"Saved on:\", path)\n",
        "\n",
        "tree_loaded = VP_Tree.load_vptree(path)\n",
        "\n",
        "print(\"\\nTree Loaded\\n\")\n",
        "result = VP_Tree.print_tree(tree_loaded.root, level=1)\n",
        "print(result)"
      ],
      "execution_count": null,
      "outputs": [
        {
          "output_type": "stream",
          "text": [
            "Number of data: 21\n",
            "The max height of the tree is: 3\n",
            "Tree is building\n",
            "Building of the tree completed in: 3.6347827911376953 s\n",
            "Result:\n",
            "id: 0 ('img20', array([10, 31, 10]))\n",
            "\tid: 00 ('img0', array([0, 2, 1]))\n",
            "\t\tid: 000 ('img7', array([ 5, 23,  4]))\n",
            "\t\t\t/content/gdrive/My Drive/[MIRCV]FoodWebSearch/antonio-tests/Index_Test_1_sim/leaves_3/000_subset_1.npy\n",
            "\t\t\t/content/gdrive/My Drive/[MIRCV]FoodWebSearch/antonio-tests/Index_Test_1_sim/leaves_3/000_subset_2.npy\n",
            "\t\tid: 001 ('img4', array([ 5, 16,  1]))\n",
            "\t\t\t/content/gdrive/My Drive/[MIRCV]FoodWebSearch/antonio-tests/Index_Test_1_sim/leaves_3/001_subset_1.npy\n",
            "\t\t\t/content/gdrive/My Drive/[MIRCV]FoodWebSearch/antonio-tests/Index_Test_1_sim/leaves_3/001_subset_2.npy\n",
            "\tid: 01 ('img3', array([5, 6, 4]))\n",
            "\t\tid: 010 ('img10', array([77, 61, 46]))\n",
            "\t\t\t/content/gdrive/My Drive/[MIRCV]FoodWebSearch/antonio-tests/Index_Test_1_sim/leaves_3/010_subset_1.npy\n",
            "\t\t\t/content/gdrive/My Drive/[MIRCV]FoodWebSearch/antonio-tests/Index_Test_1_sim/leaves_3/010_subset_2.npy\n",
            "\t\tid: 011 ('img17', array([25,  6, 41]))\n",
            "\t\t\t/content/gdrive/My Drive/[MIRCV]FoodWebSearch/antonio-tests/Index_Test_1_sim/leaves_3/011_subset_1.npy\n",
            "\t\t\t/content/gdrive/My Drive/[MIRCV]FoodWebSearch/antonio-tests/Index_Test_1_sim/leaves_3/011_subset_2.npy\n",
            "\n",
            "File saved correctly in: /content/gdrive/My Drive/[MIRCV]FoodWebSearch/antonio-tests/Index_Test_1_sim/Index_Test_1_sim.json\n",
            "Saved on: /content/gdrive/My Drive/[MIRCV]FoodWebSearch/antonio-tests/Index_Test_1_sim/Index_Test_1_sim.json\n",
            "Tree loaded correctly\n",
            "\n",
            "Tree Loaded\n",
            "\n",
            "id: 0 ['img20', [10, 31, 10]]\n",
            "\tid: 00 ['img0', [0, 2, 1]]\n",
            "\t\tid: 000 ['img7', [5, 23, 4]]\n",
            "\t\t\t/content/gdrive/My Drive/[MIRCV]FoodWebSearch/antonio-tests/Index_Test_1_sim/leaves_3/000_subset_1.npy\n",
            "\t\t\t/content/gdrive/My Drive/[MIRCV]FoodWebSearch/antonio-tests/Index_Test_1_sim/leaves_3/000_subset_2.npy\n",
            "\t\tid: 001 ['img4', [5, 16, 1]]\n",
            "\t\t\t/content/gdrive/My Drive/[MIRCV]FoodWebSearch/antonio-tests/Index_Test_1_sim/leaves_3/001_subset_1.npy\n",
            "\t\t\t/content/gdrive/My Drive/[MIRCV]FoodWebSearch/antonio-tests/Index_Test_1_sim/leaves_3/001_subset_2.npy\n",
            "\tid: 01 ['img3', [5, 6, 4]]\n",
            "\t\tid: 010 ['img10', [77, 61, 46]]\n",
            "\t\t\t/content/gdrive/My Drive/[MIRCV]FoodWebSearch/antonio-tests/Index_Test_1_sim/leaves_3/010_subset_1.npy\n",
            "\t\t\t/content/gdrive/My Drive/[MIRCV]FoodWebSearch/antonio-tests/Index_Test_1_sim/leaves_3/010_subset_2.npy\n",
            "\t\tid: 011 ['img17', [25, 6, 41]]\n",
            "\t\t\t/content/gdrive/My Drive/[MIRCV]FoodWebSearch/antonio-tests/Index_Test_1_sim/leaves_3/011_subset_1.npy\n",
            "\t\t\t/content/gdrive/My Drive/[MIRCV]FoodWebSearch/antonio-tests/Index_Test_1_sim/leaves_3/011_subset_2.npy\n"
          ],
          "name": "stdout"
        }
      ]
    },
    {
      "cell_type": "markdown",
      "metadata": {
        "id": "XbkURlxk2AQp"
      },
      "source": [
        "## Searching Tests"
      ]
    },
    {
      "cell_type": "markdown",
      "metadata": {
        "id": "fhvjCdsGl-C4"
      },
      "source": [
        "### Tree with Euclidean Distance"
      ]
    },
    {
      "cell_type": "code",
      "metadata": {
        "colab": {
          "base_uri": "https://localhost:8080/"
        },
        "id": "VqeptUK52FZ9",
        "outputId": "f739b60d-ad71-4fe4-a3d0-012d0316889f"
      },
      "source": [
        "# k-NN search Test 1\n",
        "vantage_point_tree = VP_Tree(\"Index_Test_knn_1\",4)\n",
        "vantage_point_tree.create_vptree(FEATURES_NAMES_TEST_1, FEATURES_PATH_TEST_1)\n",
        "print(VP_Tree.print_tree(vantage_point_tree.root,1))\n",
        "\n",
        "query = [0,1,1]\n",
        "k = 3\n",
        "\n",
        "print(\"Query:\", query, \"\\n\")\n",
        "\n",
        "nn, d_nn = vantage_point_tree.knn_search(k, query)\n",
        "\n",
        "print(\"\\nk-NN search on the tree\")\n",
        "print(\"Points:\", nn)\n",
        "print(\"Distances:\", d_nn)\n",
        "print(\"Distance Computed:\", vantage_point_tree.distance_computed)\n",
        "print(\"File Accessed:\", vantage_point_tree.file_accessed)\n",
        "\n",
        "print(\"\\n\\nSequential Scan on the array\")\n",
        "data = np.load(FEATURES_PATH_TEST_1)\n",
        "distances = [d.euclidean(point, query) for point in data]\n",
        "zipped = sorted(zip(data, distances), key=lambda x:x[1])\n",
        "for element in zipped[0:k]:\n",
        "  print(element)"
      ],
      "execution_count": null,
      "outputs": [
        {
          "output_type": "stream",
          "text": [
            "Number of data: 21\n",
            "The max height of the tree is: 3\n",
            "Tree is building\n",
            "Building of the tree completed in: 0.06978678703308105 s\n",
            "id: 0 ('img16', array([ 1, 30, 60]))\n",
            "\tid: 00 ('img13', array([ 2,  3, 10]))\n",
            "\t\tid: 000 ('img18', array([ 5, 23,  1]))\n",
            "\t\t\t/content/gdrive/My Drive/[MIRCV]FoodWebSearch/antonio-tests/Index_Test_knn_1/leaves_3/000_subset_1.npy\n",
            "\t\t\t/content/gdrive/My Drive/[MIRCV]FoodWebSearch/antonio-tests/Index_Test_knn_1/leaves_3/000_subset_2.npy\n",
            "\t\tid: 001 ('img17', array([25,  6, 41]))\n",
            "\t\t\t/content/gdrive/My Drive/[MIRCV]FoodWebSearch/antonio-tests/Index_Test_knn_1/leaves_3/001_subset_1.npy\n",
            "\t\t\t/content/gdrive/My Drive/[MIRCV]FoodWebSearch/antonio-tests/Index_Test_knn_1/leaves_3/001_subset_2.npy\n",
            "\tid: 01 ('img5', array([2, 6, 2]))\n",
            "\t\tid: 010 ('img6', array([1, 3, 1]))\n",
            "\t\t\t/content/gdrive/My Drive/[MIRCV]FoodWebSearch/antonio-tests/Index_Test_knn_1/leaves_3/010_subset_1.npy\n",
            "\t\t\t/content/gdrive/My Drive/[MIRCV]FoodWebSearch/antonio-tests/Index_Test_knn_1/leaves_3/010_subset_2.npy\n",
            "\t\tid: 011 ('img10', array([77, 61, 46]))\n",
            "\t\t\t/content/gdrive/My Drive/[MIRCV]FoodWebSearch/antonio-tests/Index_Test_knn_1/leaves_3/011_subset_1.npy\n",
            "\t\t\t/content/gdrive/My Drive/[MIRCV]FoodWebSearch/antonio-tests/Index_Test_knn_1/leaves_3/011_subset_2.npy\n",
            "Query: [0, 1, 1] \n",
            "\n",
            "Query answered in 0.01539301872253418  s\n",
            "\n",
            "k-NN search on the tree\n",
            "Points: [array(['img0', array([0, 2, 1])], dtype=object), ('img6', array([1, 3, 1])), ('img5', array([2, 6, 2]))]\n",
            "Distances: [1.0, 2.23606797749979, 5.477225575051661]\n",
            "Distance Computed: 21\n",
            "File Accessed: 6\n",
            "\n",
            "\n",
            "Sequential Scan on the array\n",
            "(array([0, 2, 1]), 1.0)\n",
            "(array([1, 3, 1]), 2.23606797749979)\n",
            "(array([5, 3, 2]), 5.477225575051661)\n"
          ],
          "name": "stdout"
        }
      ]
    },
    {
      "cell_type": "code",
      "metadata": {
        "colab": {
          "base_uri": "https://localhost:8080/"
        },
        "id": "cQVfzJ1q24ol",
        "outputId": "a4ba341f-34f2-4166-b8f5-27eab07e92f5"
      },
      "source": [
        "# k-NN search Test 2\n",
        "vantage_point_tree = VP_Tree(\"Index_Test_3\",4)\n",
        "vantage_point_tree.create_vptree(FEATURES_NAMES_TEST_2, FEATURES_PATH_TEST_2)\n",
        "print(VP_Tree.print_tree(vantage_point_tree.root,1))\n",
        "\n",
        "query = [0,1,1]\n",
        "k = 3\n",
        "\n",
        "nn, d_nn = vantage_point_tree.knn_search(k, query)\n",
        "\n",
        "print(\"Query:\", query)\n",
        "\n",
        "print(\"k-NN search on the tree\")\n",
        "print(\"Points:\", nn)\n",
        "print(\"Distances:\", d_nn)\n",
        "print(\"Distance Computed:\", vantage_point_tree.distance_computed)\n",
        "print(\"File Accessed:\", vantage_point_tree.file_accessed)\n",
        "\n",
        "print(\"\\n\\nSequential Scan on the array\")\n",
        "data = np.load(FEATURES_PATH_TEST_2)\n",
        "distances = [d.euclidean(point, query) for point in data]\n",
        "zipped = sorted(zip(data, distances), key=lambda x:x[1])\n",
        "for element in zipped[0:k]:\n",
        "  print(element)"
      ],
      "execution_count": null,
      "outputs": [
        {
          "output_type": "stream",
          "text": [
            "Number of data: 30\n",
            "The max height of the tree is: 3\n",
            "Tree is building\n",
            "Building of the tree completed in: 6.901199102401733 s\n",
            "id: 0 ('img_26', array([49., 83., 24.]))\n",
            "\tid: 00 ('img_16', array([56., 97., 40.]))\n",
            "\t\tid: 000 ('img_23', array([40., 97., 35.]))\n",
            "\t\t\t/content/gdrive/My Drive/[MIRCV]FoodWebSearch/antonio-tests/Index_Test_3/leaves_3/000_subset_1.npy\n",
            "\t\t\t/content/gdrive/My Drive/[MIRCV]FoodWebSearch/antonio-tests/Index_Test_3/leaves_3/000_subset_2.npy\n",
            "\t\tid: 001 ('img_1', array([60.21, 24.  , 26.  ]))\n",
            "\t\t\t/content/gdrive/My Drive/[MIRCV]FoodWebSearch/antonio-tests/Index_Test_3/leaves_3/001_subset_1.npy\n",
            "\t\t\t/content/gdrive/My Drive/[MIRCV]FoodWebSearch/antonio-tests/Index_Test_3/leaves_3/001_subset_2.npy\n",
            "\tid: 01 ('img_8', array([98., 27., 22.]))\n",
            "\t\tid: 010 ('img_29', array([43., 34., 61.]))\n",
            "\t\t\t/content/gdrive/My Drive/[MIRCV]FoodWebSearch/antonio-tests/Index_Test_3/leaves_3/010_subset_1.npy\n",
            "\t\t\t/content/gdrive/My Drive/[MIRCV]FoodWebSearch/antonio-tests/Index_Test_3/leaves_3/010_subset_2.npy\n",
            "\t\tid: 011 ('img_21', array([66., 61., 89.]))\n",
            "\t\t\t/content/gdrive/My Drive/[MIRCV]FoodWebSearch/antonio-tests/Index_Test_3/leaves_3/011_subset_1.npy\n",
            "\t\t\t/content/gdrive/My Drive/[MIRCV]FoodWebSearch/antonio-tests/Index_Test_3/leaves_3/011_subset_2.npy\n",
            "Query answered in 0.009626388549804688  s\n",
            "Query: [0, 1, 1]\n",
            "k-NN search on the tree\n",
            "Points: [array(['img_10', array([ 4.,  9., 22.])], dtype=object), array(['img_24', array([26.,  3., 10.])], dtype=object), array(['img_6', array([32., 13.,  6.])], dtype=object)]\n",
            "Distances: [22.825424421026653, 27.586228448267445, 34.539832078341085]\n",
            "Distance Computed: 24\n",
            "File Accessed: 6\n",
            "\n",
            "\n",
            "Sequential Scan on the array\n",
            "(array([ 4.,  9., 22.]), 22.825424421026653)\n",
            "(array([26.,  3., 10.]), 27.586228448267445)\n",
            "(array([32., 13.,  6.]), 34.539832078341085)\n"
          ],
          "name": "stdout"
        }
      ]
    },
    {
      "cell_type": "code",
      "metadata": {
        "colab": {
          "base_uri": "https://localhost:8080/"
        },
        "id": "UQkMSIhm3Qg0",
        "outputId": "a4d02fb9-c537-4411-fa7c-d85a4fcd62a0"
      },
      "source": [
        "# k-NN search Test 3\n",
        "vantage_point_tree = VP_Tree(\"Index_Test_3\",4)\n",
        "vantage_point_tree.create_vptree(FEATURES_NAMES_TEST_3, FEATURES_PATH_TEST_3)\n",
        "print(VP_Tree.print_tree(vantage_point_tree.root,1))\n",
        "\n",
        "query = [2,17,26,31]\n",
        "k = 6\n",
        "\n",
        "nn, d_nn = vantage_point_tree.knn_search(k, query)\n",
        "\n",
        "print(\"Query:\", query)\n",
        "\n",
        "print(\"k-NN search on the tree\")\n",
        "print(\"Points:\", nn)\n",
        "print(\"Distances:\", d_nn)\n",
        "print(\"Distance Computed:\", vantage_point_tree.distance_computed)\n",
        "print(\"File Accessed:\", vantage_point_tree.file_accessed)\n",
        "\n",
        "print(\"\\n\\nSequential Scan on the array\")\n",
        "data = np.load(FEATURES_PATH_TEST_3)\n",
        "distances = [d.euclidean(point, query) for point in data]\n",
        "zipped = sorted(zip(data, distances), key=lambda x:x[1])\n",
        "for element in zipped[0:k]:\n",
        "  print(element)"
      ],
      "execution_count": null,
      "outputs": [
        {
          "output_type": "stream",
          "text": [
            "Number of data: 100\n",
            "The max height of the tree is: 5\n",
            "Tree is building\n",
            "Building of the tree completed in: 0.12288379669189453 s\n",
            "id: 0 ('img_28', array([86, 64, 36, 58]))\n",
            "\tid: 00 ('img_74', array([48, 53, 26, 39]))\n",
            "\t\tid: 000 ('img_33', array([45, 51, 30, 44]))\n",
            "\t\t\tid: 0000 ('img_64', array([80, 68, 43, 41]))\n",
            "\t\t\t\t/content/gdrive/My Drive/[MIRCV]FoodWebSearch/antonio-tests/Index_Test_3/leaves_4/0000_subset_1.npy\n",
            "\t\t\t\t/content/gdrive/My Drive/[MIRCV]FoodWebSearch/antonio-tests/Index_Test_3/leaves_4/0000_subset_2.npy\n",
            "\t\t\tid: 0001 ('img_31', array([82, 28, 35, 29]))\n",
            "\t\t\t\t/content/gdrive/My Drive/[MIRCV]FoodWebSearch/antonio-tests/Index_Test_3/leaves_4/0001_subset_1.npy\n",
            "\t\t\t\t/content/gdrive/My Drive/[MIRCV]FoodWebSearch/antonio-tests/Index_Test_3/leaves_4/0001_subset_2.npy\n",
            "\t\tid: 001 ('img_13', array([51, 84, 68, 72]))\n",
            "\t\t\tid: 0010 ('img_60', array([44, 36, 38, 92]))\n",
            "\t\t\t\t/content/gdrive/My Drive/[MIRCV]FoodWebSearch/antonio-tests/Index_Test_3/leaves_4/0010_subset_1.npy\n",
            "\t\t\t\t/content/gdrive/My Drive/[MIRCV]FoodWebSearch/antonio-tests/Index_Test_3/leaves_4/0010_subset_2.npy\n",
            "\t\t\tid: 0011 ('img_57', array([69, 12, 60, 52]))\n",
            "\t\t\t\t/content/gdrive/My Drive/[MIRCV]FoodWebSearch/antonio-tests/Index_Test_3/leaves_4/0011_subset_1.npy\n",
            "\t\t\t\t/content/gdrive/My Drive/[MIRCV]FoodWebSearch/antonio-tests/Index_Test_3/leaves_4/0011_subset_2.npy\n",
            "\tid: 01 ('img_80', array([10, 31, 30, 25]))\n",
            "\t\tid: 010 ('img_16', array([13, 16, 93, 12]))\n",
            "\t\t\tid: 0100 ('img_46', array([19, 28, 47, 39]))\n",
            "\t\t\t\t/content/gdrive/My Drive/[MIRCV]FoodWebSearch/antonio-tests/Index_Test_3/leaves_4/0100_subset_1.npy\n",
            "\t\t\t\t/content/gdrive/My Drive/[MIRCV]FoodWebSearch/antonio-tests/Index_Test_3/leaves_4/0100_subset_2.npy\n",
            "\t\t\tid: 0101 ('img_24', array([20, 73,  6, 64]))\n",
            "\t\t\t\t/content/gdrive/My Drive/[MIRCV]FoodWebSearch/antonio-tests/Index_Test_3/leaves_4/0101_subset_1.npy\n",
            "\t\t\t\t/content/gdrive/My Drive/[MIRCV]FoodWebSearch/antonio-tests/Index_Test_3/leaves_4/0101_subset_2.npy\n",
            "\t\tid: 011 ('img_51', array([ 4, 62, 39, 89]))\n",
            "\t\t\tid: 0110 ('img_26', array([20,  4, 73, 74]))\n",
            "\t\t\t\t/content/gdrive/My Drive/[MIRCV]FoodWebSearch/antonio-tests/Index_Test_3/leaves_4/0110_subset_1.npy\n",
            "\t\t\t\t/content/gdrive/My Drive/[MIRCV]FoodWebSearch/antonio-tests/Index_Test_3/leaves_4/0110_subset_2.npy\n",
            "\t\t\tid: 0111 ('img_7', array([17, 84, 91, 33]))\n",
            "\t\t\t\t/content/gdrive/My Drive/[MIRCV]FoodWebSearch/antonio-tests/Index_Test_3/leaves_4/0111_subset_1.npy\n",
            "\t\t\t\t/content/gdrive/My Drive/[MIRCV]FoodWebSearch/antonio-tests/Index_Test_3/leaves_4/0111_subset_2.npy\n",
            "Query answered in 0.023880720138549805  s\n",
            "Query: [2, 17, 26, 31]\n",
            "k-NN search on the tree\n",
            "Points: [array(['img_75', array([ 2, 17, 25, 31])], dtype=object), array(['img_45', array([11, 29, 18, 31])], dtype=object), array(['img_45', array([11, 29, 18, 31])], dtype=object), ('img_80', array([10, 31, 30, 25])), array(['img_95', array([14, 26, 10, 15])], dtype=object), array(['img_20', array([20, 28, 34, 12])], dtype=object)]\n",
            "Distances: [1.0, 17.0, 17.0, 17.663521732655695, 27.147743920996454, 29.49576240750525]\n",
            "Distance Computed: 99\n",
            "File Accessed: 14\n",
            "\n",
            "\n",
            "Sequential Scan on the array\n",
            "(array([ 2, 17, 25, 31]), 1.0)\n",
            "(array([11, 29, 18, 31]), 17.0)\n",
            "(array([10, 31, 30, 25]), 17.663521732655695)\n",
            "(array([14, 26, 10, 15]), 27.147743920996454)\n",
            "(array([20, 28, 34, 12]), 29.49576240750525)\n",
            "(array([19, 28, 47, 39]), 30.24896692450835)\n"
          ],
          "name": "stdout"
        }
      ]
    },
    {
      "cell_type": "code",
      "metadata": {
        "colab": {
          "base_uri": "https://localhost:8080/"
        },
        "id": "UdFlqWg33vag",
        "outputId": "2c548fa0-ab6c-4b4a-8e25-1fd2d254d7c2"
      },
      "source": [
        "#k-NN search Test 4\n",
        "vantage_point_tree = VP_Tree(\"Index_Test_3\",4, disk_mode=True)\n",
        "vantage_point_tree.create_vptree(FEATURES_NAMES_TEST_3, FEATURES_PATH_TEST_3)\n",
        "\n",
        "query = [0,1,1,2]\n",
        "k = 6\n",
        "\n",
        "nn, d_nn = vantage_point_tree.knn_search(k, query)\n",
        "\n",
        "print(\"Query:\", query)\n",
        "\n",
        "print(\"k-NN search on the tree\")\n",
        "print(\"Points:\", nn)\n",
        "print(\"Distances:\", d_nn)\n",
        "\n",
        "print(\"\\n\\nSequential Scan on the array\")\n",
        "data = np.load(FEATURES_PATH_TEST_3)\n",
        "distances = [d.euclidean(point, query) for point in data]\n",
        "zipped = sorted(zip(data, distances), key=lambda x:x[1])\n",
        "for element in zipped[0:k]:\n",
        "  print(element)"
      ],
      "execution_count": null,
      "outputs": [
        {
          "output_type": "stream",
          "text": [
            "Number of data: 100\n",
            "The max height of the tree is: 5\n",
            "Tree is building\n",
            "Building of the tree completed in: 0.11896729469299316 s\n",
            "Query answered in 0.026964664459228516  s\n",
            "Query: [0, 1, 1, 2]\n",
            "k-NN search on the tree\n",
            "Points: [array(['img_95', array([14, 26, 10, 15])], dtype=object), array(['img_75', array([ 2, 17, 25, 31])], dtype=object), array(['img_45', array([11, 29, 18, 31])], dtype=object), array(['img_20', array([20, 28, 34, 12])], dtype=object), array(['img_20', array([20, 28, 34, 12])], dtype=object), array(['img_80', array([10, 31, 30, 25])], dtype=object)]\n",
            "Distances: [32.72613634390714, 40.95119045888654, 45.110974274559844, 48.14561246884289, 48.14561246884289, 48.68264577855234]\n",
            "\n",
            "\n",
            "Sequential Scan on the array\n",
            "(array([14, 26, 10, 15]), 32.72613634390714)\n",
            "(array([ 2, 17, 25, 31]), 40.95119045888654)\n",
            "(array([11, 29, 18, 31]), 45.110974274559844)\n",
            "(array([20, 28, 34, 12]), 48.14561246884289)\n",
            "(array([10, 31, 30, 25]), 48.68264577855234)\n",
            "(array([33, 13, 16, 34]), 49.8196748283246)\n"
          ],
          "name": "stdout"
        }
      ]
    },
    {
      "cell_type": "markdown",
      "metadata": {
        "id": "nuTmeieCmDwm"
      },
      "source": [
        "### Tree with Cosine Similarity"
      ]
    },
    {
      "cell_type": "code",
      "metadata": {
        "colab": {
          "base_uri": "https://localhost:8080/",
          "height": 230
        },
        "id": "33GIOTUtmiOQ",
        "outputId": "e6eb9e47-d972-4ac7-8785-da6569f41075"
      },
      "source": [
        "# k-NN search Test 1 - Similarity\n",
        "vantage_point_tree = VP_Tree(\"Index_Test_1_sim\",4, use_similarity=True)\n",
        "vantage_point_tree.create_vptree(FEATURES_NAMES_TEST_1, FEATURES_PATH_TEST_1)\n",
        "\n",
        "query = [0,2,1]\n",
        "k = 3\n",
        "\n",
        "print(\"Query:\", query, \"\\n\")\n",
        "\n",
        "nn, d_nn = vantage_point_tree.knn_search(k, query)\n",
        "\n",
        "print(\"\\nk-NN search on the tree\")\n",
        "print(\"Points:\", nn)\n",
        "print(\"Distances:\", d_nn)\n",
        "\n",
        "print(\"\\n\\nSequential Scan on the array\")\n",
        "data = np.load(FEATURES_PATH_TEST_1)\n",
        "distances = [1-np.dot(point, query)/(np.linalg.norm(point)*np.linalg.norm(query)) for point in data]\n",
        "zipped = sorted(zip(data, distances), key=lambda x:x[1])\n",
        "for element in zipped[0:k]:\n",
        "  print(element)"
      ],
      "execution_count": null,
      "outputs": [
        {
          "output_type": "error",
          "ename": "NameError",
          "evalue": "ignored",
          "traceback": [
            "\u001b[0;31m---------------------------------------------------------------------------\u001b[0m",
            "\u001b[0;31mNameError\u001b[0m                                 Traceback (most recent call last)",
            "\u001b[0;32m<ipython-input-4-aa477ee4226f>\u001b[0m in \u001b[0;36m<module>\u001b[0;34m()\u001b[0m\n\u001b[1;32m      1\u001b[0m \u001b[0;31m# k-NN search Test 1 - Similarity\u001b[0m\u001b[0;34m\u001b[0m\u001b[0;34m\u001b[0m\u001b[0;34m\u001b[0m\u001b[0m\n\u001b[1;32m      2\u001b[0m \u001b[0mvantage_point_tree\u001b[0m \u001b[0;34m=\u001b[0m \u001b[0mVP_Tree\u001b[0m\u001b[0;34m(\u001b[0m\u001b[0;34m\"Index_Test_1_sim\"\u001b[0m\u001b[0;34m,\u001b[0m\u001b[0;36m4\u001b[0m\u001b[0;34m,\u001b[0m \u001b[0muse_similarity\u001b[0m\u001b[0;34m=\u001b[0m\u001b[0;32mTrue\u001b[0m\u001b[0;34m)\u001b[0m\u001b[0;34m\u001b[0m\u001b[0;34m\u001b[0m\u001b[0m\n\u001b[0;32m----> 3\u001b[0;31m \u001b[0mvantage_point_tree\u001b[0m\u001b[0;34m.\u001b[0m\u001b[0mcreate_vptree\u001b[0m\u001b[0;34m(\u001b[0m\u001b[0mFEATURES_NAMES_TEST_1\u001b[0m\u001b[0;34m,\u001b[0m \u001b[0mFEATURES_PATH_TEST_1\u001b[0m\u001b[0;34m)\u001b[0m\u001b[0;34m\u001b[0m\u001b[0;34m\u001b[0m\u001b[0m\n\u001b[0m\u001b[1;32m      4\u001b[0m \u001b[0;34m\u001b[0m\u001b[0m\n\u001b[1;32m      5\u001b[0m \u001b[0mquery\u001b[0m \u001b[0;34m=\u001b[0m \u001b[0;34m[\u001b[0m\u001b[0;36m0\u001b[0m\u001b[0;34m,\u001b[0m\u001b[0;36m2\u001b[0m\u001b[0;34m,\u001b[0m\u001b[0;36m1\u001b[0m\u001b[0;34m]\u001b[0m\u001b[0;34m\u001b[0m\u001b[0;34m\u001b[0m\u001b[0m\n",
            "\u001b[0;31mNameError\u001b[0m: name 'FEATURES_NAMES_TEST_1' is not defined"
          ]
        }
      ]
    }
  ]
}